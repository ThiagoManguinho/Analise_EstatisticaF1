{
  "nbformat": 4,
  "nbformat_minor": 0,
  "metadata": {
    "colab": {
      "provenance": [],
      "collapsed_sections": [
        "UyRVF_Pm_c1B"
      ],
      "include_colab_link": true
    },
    "kernelspec": {
      "name": "python3",
      "display_name": "Python 3"
    },
    "language_info": {
      "name": "python"
    }
  },
  "cells": [
    {
      "cell_type": "markdown",
      "metadata": {
        "id": "view-in-github",
        "colab_type": "text"
      },
      "source": [
        "<a href=\"https://colab.research.google.com/github/ThiagoManguinho/Analise_EstatisticaF1/blob/main/lhbs_tmrs.ipynb\" target=\"_parent\"><img src=\"https://colab.research.google.com/assets/colab-badge.svg\" alt=\"Open In Colab\"/></a>"
      ]
    },
    {
      "cell_type": "markdown",
      "source": [
        "# Análise do DataSet de PitStops de Fórmula 1\n",
        "\n"
      ],
      "metadata": {
        "id": "UyRVF_Pm_c1B"
      }
    },
    {
      "cell_type": "markdown",
      "source": [
        "Importando o data set"
      ],
      "metadata": {
        "id": "OStCe_1VAQj4"
      }
    },
    {
      "cell_type": "code",
      "source": [
        "import pandas as pd\n",
        "from google.colab import files\n",
        "uploaded = files.upload()"
      ],
      "metadata": {
        "colab": {
          "base_uri": "https://localhost:8080/",
          "height": 73
        },
        "id": "l1Bvu3riAT56",
        "outputId": "ce385fc8-ae75-4f36-b4a0-2967aa60c596"
      },
      "execution_count": 50,
      "outputs": [
        {
          "output_type": "display_data",
          "data": {
            "text/plain": [
              "<IPython.core.display.HTML object>"
            ],
            "text/html": [
              "\n",
              "     <input type=\"file\" id=\"files-3ad764f6-73c5-4be9-a74a-799450c2c501\" name=\"files[]\" multiple disabled\n",
              "        style=\"border:none\" />\n",
              "     <output id=\"result-3ad764f6-73c5-4be9-a74a-799450c2c501\">\n",
              "      Upload widget is only available when the cell has been executed in the\n",
              "      current browser session. Please rerun this cell to enable.\n",
              "      </output>\n",
              "      <script>// Copyright 2017 Google LLC\n",
              "//\n",
              "// Licensed under the Apache License, Version 2.0 (the \"License\");\n",
              "// you may not use this file except in compliance with the License.\n",
              "// You may obtain a copy of the License at\n",
              "//\n",
              "//      http://www.apache.org/licenses/LICENSE-2.0\n",
              "//\n",
              "// Unless required by applicable law or agreed to in writing, software\n",
              "// distributed under the License is distributed on an \"AS IS\" BASIS,\n",
              "// WITHOUT WARRANTIES OR CONDITIONS OF ANY KIND, either express or implied.\n",
              "// See the License for the specific language governing permissions and\n",
              "// limitations under the License.\n",
              "\n",
              "/**\n",
              " * @fileoverview Helpers for google.colab Python module.\n",
              " */\n",
              "(function(scope) {\n",
              "function span(text, styleAttributes = {}) {\n",
              "  const element = document.createElement('span');\n",
              "  element.textContent = text;\n",
              "  for (const key of Object.keys(styleAttributes)) {\n",
              "    element.style[key] = styleAttributes[key];\n",
              "  }\n",
              "  return element;\n",
              "}\n",
              "\n",
              "// Max number of bytes which will be uploaded at a time.\n",
              "const MAX_PAYLOAD_SIZE = 100 * 1024;\n",
              "\n",
              "function _uploadFiles(inputId, outputId) {\n",
              "  const steps = uploadFilesStep(inputId, outputId);\n",
              "  const outputElement = document.getElementById(outputId);\n",
              "  // Cache steps on the outputElement to make it available for the next call\n",
              "  // to uploadFilesContinue from Python.\n",
              "  outputElement.steps = steps;\n",
              "\n",
              "  return _uploadFilesContinue(outputId);\n",
              "}\n",
              "\n",
              "// This is roughly an async generator (not supported in the browser yet),\n",
              "// where there are multiple asynchronous steps and the Python side is going\n",
              "// to poll for completion of each step.\n",
              "// This uses a Promise to block the python side on completion of each step,\n",
              "// then passes the result of the previous step as the input to the next step.\n",
              "function _uploadFilesContinue(outputId) {\n",
              "  const outputElement = document.getElementById(outputId);\n",
              "  const steps = outputElement.steps;\n",
              "\n",
              "  const next = steps.next(outputElement.lastPromiseValue);\n",
              "  return Promise.resolve(next.value.promise).then((value) => {\n",
              "    // Cache the last promise value to make it available to the next\n",
              "    // step of the generator.\n",
              "    outputElement.lastPromiseValue = value;\n",
              "    return next.value.response;\n",
              "  });\n",
              "}\n",
              "\n",
              "/**\n",
              " * Generator function which is called between each async step of the upload\n",
              " * process.\n",
              " * @param {string} inputId Element ID of the input file picker element.\n",
              " * @param {string} outputId Element ID of the output display.\n",
              " * @return {!Iterable<!Object>} Iterable of next steps.\n",
              " */\n",
              "function* uploadFilesStep(inputId, outputId) {\n",
              "  const inputElement = document.getElementById(inputId);\n",
              "  inputElement.disabled = false;\n",
              "\n",
              "  const outputElement = document.getElementById(outputId);\n",
              "  outputElement.innerHTML = '';\n",
              "\n",
              "  const pickedPromise = new Promise((resolve) => {\n",
              "    inputElement.addEventListener('change', (e) => {\n",
              "      resolve(e.target.files);\n",
              "    });\n",
              "  });\n",
              "\n",
              "  const cancel = document.createElement('button');\n",
              "  inputElement.parentElement.appendChild(cancel);\n",
              "  cancel.textContent = 'Cancel upload';\n",
              "  const cancelPromise = new Promise((resolve) => {\n",
              "    cancel.onclick = () => {\n",
              "      resolve(null);\n",
              "    };\n",
              "  });\n",
              "\n",
              "  // Wait for the user to pick the files.\n",
              "  const files = yield {\n",
              "    promise: Promise.race([pickedPromise, cancelPromise]),\n",
              "    response: {\n",
              "      action: 'starting',\n",
              "    }\n",
              "  };\n",
              "\n",
              "  cancel.remove();\n",
              "\n",
              "  // Disable the input element since further picks are not allowed.\n",
              "  inputElement.disabled = true;\n",
              "\n",
              "  if (!files) {\n",
              "    return {\n",
              "      response: {\n",
              "        action: 'complete',\n",
              "      }\n",
              "    };\n",
              "  }\n",
              "\n",
              "  for (const file of files) {\n",
              "    const li = document.createElement('li');\n",
              "    li.append(span(file.name, {fontWeight: 'bold'}));\n",
              "    li.append(span(\n",
              "        `(${file.type || 'n/a'}) - ${file.size} bytes, ` +\n",
              "        `last modified: ${\n",
              "            file.lastModifiedDate ? file.lastModifiedDate.toLocaleDateString() :\n",
              "                                    'n/a'} - `));\n",
              "    const percent = span('0% done');\n",
              "    li.appendChild(percent);\n",
              "\n",
              "    outputElement.appendChild(li);\n",
              "\n",
              "    const fileDataPromise = new Promise((resolve) => {\n",
              "      const reader = new FileReader();\n",
              "      reader.onload = (e) => {\n",
              "        resolve(e.target.result);\n",
              "      };\n",
              "      reader.readAsArrayBuffer(file);\n",
              "    });\n",
              "    // Wait for the data to be ready.\n",
              "    let fileData = yield {\n",
              "      promise: fileDataPromise,\n",
              "      response: {\n",
              "        action: 'continue',\n",
              "      }\n",
              "    };\n",
              "\n",
              "    // Use a chunked sending to avoid message size limits. See b/62115660.\n",
              "    let position = 0;\n",
              "    do {\n",
              "      const length = Math.min(fileData.byteLength - position, MAX_PAYLOAD_SIZE);\n",
              "      const chunk = new Uint8Array(fileData, position, length);\n",
              "      position += length;\n",
              "\n",
              "      const base64 = btoa(String.fromCharCode.apply(null, chunk));\n",
              "      yield {\n",
              "        response: {\n",
              "          action: 'append',\n",
              "          file: file.name,\n",
              "          data: base64,\n",
              "        },\n",
              "      };\n",
              "\n",
              "      let percentDone = fileData.byteLength === 0 ?\n",
              "          100 :\n",
              "          Math.round((position / fileData.byteLength) * 100);\n",
              "      percent.textContent = `${percentDone}% done`;\n",
              "\n",
              "    } while (position < fileData.byteLength);\n",
              "  }\n",
              "\n",
              "  // All done.\n",
              "  yield {\n",
              "    response: {\n",
              "      action: 'complete',\n",
              "    }\n",
              "  };\n",
              "}\n",
              "\n",
              "scope.google = scope.google || {};\n",
              "scope.google.colab = scope.google.colab || {};\n",
              "scope.google.colab._files = {\n",
              "  _uploadFiles,\n",
              "  _uploadFilesContinue,\n",
              "};\n",
              "})(self);\n",
              "</script> "
            ]
          },
          "metadata": {}
        },
        {
          "output_type": "stream",
          "name": "stdout",
          "text": [
            "Saving Pitstop_data_all.csv to Pitstop_data_all (3).csv\n"
          ]
        }
      ]
    },
    {
      "cell_type": "markdown",
      "source": [
        "Leitura do arquivo.csv"
      ],
      "metadata": {
        "id": "49_KASgsBGUy"
      }
    },
    {
      "cell_type": "code",
      "source": [
        "pitstopsF1 = pd.read_csv('Pitstop_data_all.csv')\n",
        "pitstopsF1.head(40)"
      ],
      "metadata": {
        "id": "NmWJrQA4BF3H",
        "colab": {
          "base_uri": "https://localhost:8080/",
          "height": 1000
        },
        "outputId": "890b3e05-4eb3-4c57-9de9-d89677a280de"
      },
      "execution_count": 51,
      "outputs": [
        {
          "output_type": "execute_result",
          "data": {
            "text/plain": [
              "    Year     Race Driver_First_Name Driver_Last_Name Driver_Acronym  \\\n",
              "0   2021  Bahrain            Sergio            Perez            PER   \n",
              "1   2021  Bahrain            Pierre            Gasly            GAS   \n",
              "2   2021  Bahrain          Fernando           Alonso            ALO   \n",
              "3   2021  Bahrain             Lando           Norris            NOR   \n",
              "4   2021  Bahrain           Charles          Leclerc            LEC   \n",
              "5   2021  Bahrain             Lance           Stroll            STR   \n",
              "6   2021  Bahrain           Antonio       Giovinazzi            GIO   \n",
              "7   2021  Bahrain             Lewis         Hamilton            HAM   \n",
              "8   2021  Bahrain            Daniel        Ricciardo            RIC   \n",
              "9   2021  Bahrain              Kimi      RÃ¤ikkÃ¶nen            RAI   \n",
              "10  2021  Bahrain           Esteban             Ocon            OCO   \n",
              "11  2021  Bahrain            George          Russell            RUS   \n",
              "12  2021  Bahrain          Nicholas           Latifi            LAT   \n",
              "13  2021  Bahrain              Mick       Schumacher            MSC   \n",
              "14  2021  Bahrain            Carlos            Sainz            SAI   \n",
              "15  2021  Bahrain              Yuki          Tsunoda            TSU   \n",
              "16  2021  Bahrain          Valtteri           Bottas            BOT   \n",
              "17  2021  Bahrain               Max       Verstappen            VER   \n",
              "18  2021  Bahrain            Sergio            Perez            PER   \n",
              "19  2021  Bahrain            Pierre            Gasly            GAS   \n",
              "20  2021  Bahrain         Sebastian           Vettel            VET   \n",
              "21  2021  Bahrain             Lewis         Hamilton            HAM   \n",
              "22  2021  Bahrain             Lance           Stroll            STR   \n",
              "23  2021  Bahrain              Kimi      RÃ¤ikkÃ¶nen            RAI   \n",
              "24  2021  Bahrain          Fernando           Alonso            ALO   \n",
              "25  2021  Bahrain          Valtteri           Bottas            BOT   \n",
              "26  2021  Bahrain           Antonio       Giovinazzi            GIO   \n",
              "27  2021  Bahrain           Esteban             Ocon            OCO   \n",
              "28  2021  Bahrain           Charles          Leclerc            LEC   \n",
              "29  2021  Bahrain            Daniel        Ricciardo            RIC   \n",
              "30  2021  Bahrain          Nicholas           Latifi            LAT   \n",
              "31  2021  Bahrain             Lando           Norris            NOR   \n",
              "32  2021  Bahrain              Yuki          Tsunoda            TSU   \n",
              "33  2021  Bahrain              Mick       Schumacher            MSC   \n",
              "34  2021  Bahrain            George          Russell            RUS   \n",
              "35  2021  Bahrain            Carlos            Sainz            SAI   \n",
              "36  2021  Bahrain            Sergio            Perez            PER   \n",
              "37  2021  Bahrain               Max       Verstappen            VER   \n",
              "38  2021  Bahrain            Pierre            Gasly            GAS   \n",
              "39  2021  Bahrain          Valtteri           Bottas            BOT   \n",
              "\n",
              "    Driver_Number                       Team  Lap_Pitted  Pit_Number Pit_Time  \\\n",
              "0              11      Red Bull Racing Honda           2           1   23.993   \n",
              "1              10           AlphaTauri Honda           4           1   38.338   \n",
              "2              14             Alpine Renault          11           1   24.373   \n",
              "3               4           McLaren Mercedes          12           1   24.899   \n",
              "4              16                    Ferrari          12           1   24.925   \n",
              "5              18      Aston Martin Mercedes          12           1   24.884   \n",
              "6              99  Alfa Romeo Racing Ferrari          12           1   31.998   \n",
              "7              44                   Mercedes          13           1   24.839   \n",
              "8               3           McLaren Mercedes          13           1   24.688   \n",
              "9               7  Alfa Romeo Racing Ferrari          13           1   24.107   \n",
              "10             31             Alpine Renault          13           1   25.226   \n",
              "11             63          Williams Mercedes          13           1   24.621   \n",
              "12              6          Williams Mercedes          14           1   26.046   \n",
              "13             47               Haas Ferrari          14           1   25.798   \n",
              "14             55                    Ferrari          15           1   24.353   \n",
              "15             22           AlphaTauri Honda          15           1   25.046   \n",
              "16             77                   Mercedes          16           1   24.262   \n",
              "17             33      Red Bull Racing Honda          17           1   24.767   \n",
              "18             11      Red Bull Racing Honda          19           2   24.105   \n",
              "19             10           AlphaTauri Honda          19           2   24.317   \n",
              "20              5      Aston Martin Mercedes          24           1   24.626   \n",
              "21             44                   Mercedes          28           2   24.076   \n",
              "22             18      Aston Martin Mercedes          28           2   25.525   \n",
              "23              7  Alfa Romeo Racing Ferrari          29           2   24.046   \n",
              "24             14             Alpine Renault          29           2   24.775   \n",
              "25             77                   Mercedes          30           2   32.897   \n",
              "26             99  Alfa Romeo Racing Ferrari          30           2   24.223   \n",
              "27             31             Alpine Renault          31           2   24.471   \n",
              "28             16                    Ferrari          32           2   24.176   \n",
              "29              3           McLaren Mercedes          32           2   24.655   \n",
              "30              6          Williams Mercedes          32           2   23.983   \n",
              "31              4           McLaren Mercedes          33           2   25.640   \n",
              "32             22           AlphaTauri Honda          33           2   24.328   \n",
              "33             47               Haas Ferrari          33           2   25.343   \n",
              "34             63          Williams Mercedes          36           2   24.248   \n",
              "35             55                    Ferrari          37           2   24.341   \n",
              "36             11      Red Bull Racing Honda          38           3   24.191   \n",
              "37             33      Red Bull Racing Honda          39           2   23.848   \n",
              "38             10           AlphaTauri Honda          39           3   24.983   \n",
              "39             77                   Mercedes          54           3   24.566   \n",
              "\n",
              "    Race_Number  \n",
              "0             1  \n",
              "1             1  \n",
              "2             1  \n",
              "3             1  \n",
              "4             1  \n",
              "5             1  \n",
              "6             1  \n",
              "7             1  \n",
              "8             1  \n",
              "9             1  \n",
              "10            1  \n",
              "11            1  \n",
              "12            1  \n",
              "13            1  \n",
              "14            1  \n",
              "15            1  \n",
              "16            1  \n",
              "17            1  \n",
              "18            1  \n",
              "19            1  \n",
              "20            1  \n",
              "21            1  \n",
              "22            1  \n",
              "23            1  \n",
              "24            1  \n",
              "25            1  \n",
              "26            1  \n",
              "27            1  \n",
              "28            1  \n",
              "29            1  \n",
              "30            1  \n",
              "31            1  \n",
              "32            1  \n",
              "33            1  \n",
              "34            1  \n",
              "35            1  \n",
              "36            1  \n",
              "37            1  \n",
              "38            1  \n",
              "39            1  "
            ],
            "text/html": [
              "\n",
              "  <div id=\"df-cb058be1-1ee3-4155-bd66-a9fb947e7c38\" class=\"colab-df-container\">\n",
              "    <div>\n",
              "<style scoped>\n",
              "    .dataframe tbody tr th:only-of-type {\n",
              "        vertical-align: middle;\n",
              "    }\n",
              "\n",
              "    .dataframe tbody tr th {\n",
              "        vertical-align: top;\n",
              "    }\n",
              "\n",
              "    .dataframe thead th {\n",
              "        text-align: right;\n",
              "    }\n",
              "</style>\n",
              "<table border=\"1\" class=\"dataframe\">\n",
              "  <thead>\n",
              "    <tr style=\"text-align: right;\">\n",
              "      <th></th>\n",
              "      <th>Year</th>\n",
              "      <th>Race</th>\n",
              "      <th>Driver_First_Name</th>\n",
              "      <th>Driver_Last_Name</th>\n",
              "      <th>Driver_Acronym</th>\n",
              "      <th>Driver_Number</th>\n",
              "      <th>Team</th>\n",
              "      <th>Lap_Pitted</th>\n",
              "      <th>Pit_Number</th>\n",
              "      <th>Pit_Time</th>\n",
              "      <th>Race_Number</th>\n",
              "    </tr>\n",
              "  </thead>\n",
              "  <tbody>\n",
              "    <tr>\n",
              "      <th>0</th>\n",
              "      <td>2021</td>\n",
              "      <td>Bahrain</td>\n",
              "      <td>Sergio</td>\n",
              "      <td>Perez</td>\n",
              "      <td>PER</td>\n",
              "      <td>11</td>\n",
              "      <td>Red Bull Racing Honda</td>\n",
              "      <td>2</td>\n",
              "      <td>1</td>\n",
              "      <td>23.993</td>\n",
              "      <td>1</td>\n",
              "    </tr>\n",
              "    <tr>\n",
              "      <th>1</th>\n",
              "      <td>2021</td>\n",
              "      <td>Bahrain</td>\n",
              "      <td>Pierre</td>\n",
              "      <td>Gasly</td>\n",
              "      <td>GAS</td>\n",
              "      <td>10</td>\n",
              "      <td>AlphaTauri Honda</td>\n",
              "      <td>4</td>\n",
              "      <td>1</td>\n",
              "      <td>38.338</td>\n",
              "      <td>1</td>\n",
              "    </tr>\n",
              "    <tr>\n",
              "      <th>2</th>\n",
              "      <td>2021</td>\n",
              "      <td>Bahrain</td>\n",
              "      <td>Fernando</td>\n",
              "      <td>Alonso</td>\n",
              "      <td>ALO</td>\n",
              "      <td>14</td>\n",
              "      <td>Alpine Renault</td>\n",
              "      <td>11</td>\n",
              "      <td>1</td>\n",
              "      <td>24.373</td>\n",
              "      <td>1</td>\n",
              "    </tr>\n",
              "    <tr>\n",
              "      <th>3</th>\n",
              "      <td>2021</td>\n",
              "      <td>Bahrain</td>\n",
              "      <td>Lando</td>\n",
              "      <td>Norris</td>\n",
              "      <td>NOR</td>\n",
              "      <td>4</td>\n",
              "      <td>McLaren Mercedes</td>\n",
              "      <td>12</td>\n",
              "      <td>1</td>\n",
              "      <td>24.899</td>\n",
              "      <td>1</td>\n",
              "    </tr>\n",
              "    <tr>\n",
              "      <th>4</th>\n",
              "      <td>2021</td>\n",
              "      <td>Bahrain</td>\n",
              "      <td>Charles</td>\n",
              "      <td>Leclerc</td>\n",
              "      <td>LEC</td>\n",
              "      <td>16</td>\n",
              "      <td>Ferrari</td>\n",
              "      <td>12</td>\n",
              "      <td>1</td>\n",
              "      <td>24.925</td>\n",
              "      <td>1</td>\n",
              "    </tr>\n",
              "    <tr>\n",
              "      <th>5</th>\n",
              "      <td>2021</td>\n",
              "      <td>Bahrain</td>\n",
              "      <td>Lance</td>\n",
              "      <td>Stroll</td>\n",
              "      <td>STR</td>\n",
              "      <td>18</td>\n",
              "      <td>Aston Martin Mercedes</td>\n",
              "      <td>12</td>\n",
              "      <td>1</td>\n",
              "      <td>24.884</td>\n",
              "      <td>1</td>\n",
              "    </tr>\n",
              "    <tr>\n",
              "      <th>6</th>\n",
              "      <td>2021</td>\n",
              "      <td>Bahrain</td>\n",
              "      <td>Antonio</td>\n",
              "      <td>Giovinazzi</td>\n",
              "      <td>GIO</td>\n",
              "      <td>99</td>\n",
              "      <td>Alfa Romeo Racing Ferrari</td>\n",
              "      <td>12</td>\n",
              "      <td>1</td>\n",
              "      <td>31.998</td>\n",
              "      <td>1</td>\n",
              "    </tr>\n",
              "    <tr>\n",
              "      <th>7</th>\n",
              "      <td>2021</td>\n",
              "      <td>Bahrain</td>\n",
              "      <td>Lewis</td>\n",
              "      <td>Hamilton</td>\n",
              "      <td>HAM</td>\n",
              "      <td>44</td>\n",
              "      <td>Mercedes</td>\n",
              "      <td>13</td>\n",
              "      <td>1</td>\n",
              "      <td>24.839</td>\n",
              "      <td>1</td>\n",
              "    </tr>\n",
              "    <tr>\n",
              "      <th>8</th>\n",
              "      <td>2021</td>\n",
              "      <td>Bahrain</td>\n",
              "      <td>Daniel</td>\n",
              "      <td>Ricciardo</td>\n",
              "      <td>RIC</td>\n",
              "      <td>3</td>\n",
              "      <td>McLaren Mercedes</td>\n",
              "      <td>13</td>\n",
              "      <td>1</td>\n",
              "      <td>24.688</td>\n",
              "      <td>1</td>\n",
              "    </tr>\n",
              "    <tr>\n",
              "      <th>9</th>\n",
              "      <td>2021</td>\n",
              "      <td>Bahrain</td>\n",
              "      <td>Kimi</td>\n",
              "      <td>RÃ¤ikkÃ¶nen</td>\n",
              "      <td>RAI</td>\n",
              "      <td>7</td>\n",
              "      <td>Alfa Romeo Racing Ferrari</td>\n",
              "      <td>13</td>\n",
              "      <td>1</td>\n",
              "      <td>24.107</td>\n",
              "      <td>1</td>\n",
              "    </tr>\n",
              "    <tr>\n",
              "      <th>10</th>\n",
              "      <td>2021</td>\n",
              "      <td>Bahrain</td>\n",
              "      <td>Esteban</td>\n",
              "      <td>Ocon</td>\n",
              "      <td>OCO</td>\n",
              "      <td>31</td>\n",
              "      <td>Alpine Renault</td>\n",
              "      <td>13</td>\n",
              "      <td>1</td>\n",
              "      <td>25.226</td>\n",
              "      <td>1</td>\n",
              "    </tr>\n",
              "    <tr>\n",
              "      <th>11</th>\n",
              "      <td>2021</td>\n",
              "      <td>Bahrain</td>\n",
              "      <td>George</td>\n",
              "      <td>Russell</td>\n",
              "      <td>RUS</td>\n",
              "      <td>63</td>\n",
              "      <td>Williams Mercedes</td>\n",
              "      <td>13</td>\n",
              "      <td>1</td>\n",
              "      <td>24.621</td>\n",
              "      <td>1</td>\n",
              "    </tr>\n",
              "    <tr>\n",
              "      <th>12</th>\n",
              "      <td>2021</td>\n",
              "      <td>Bahrain</td>\n",
              "      <td>Nicholas</td>\n",
              "      <td>Latifi</td>\n",
              "      <td>LAT</td>\n",
              "      <td>6</td>\n",
              "      <td>Williams Mercedes</td>\n",
              "      <td>14</td>\n",
              "      <td>1</td>\n",
              "      <td>26.046</td>\n",
              "      <td>1</td>\n",
              "    </tr>\n",
              "    <tr>\n",
              "      <th>13</th>\n",
              "      <td>2021</td>\n",
              "      <td>Bahrain</td>\n",
              "      <td>Mick</td>\n",
              "      <td>Schumacher</td>\n",
              "      <td>MSC</td>\n",
              "      <td>47</td>\n",
              "      <td>Haas Ferrari</td>\n",
              "      <td>14</td>\n",
              "      <td>1</td>\n",
              "      <td>25.798</td>\n",
              "      <td>1</td>\n",
              "    </tr>\n",
              "    <tr>\n",
              "      <th>14</th>\n",
              "      <td>2021</td>\n",
              "      <td>Bahrain</td>\n",
              "      <td>Carlos</td>\n",
              "      <td>Sainz</td>\n",
              "      <td>SAI</td>\n",
              "      <td>55</td>\n",
              "      <td>Ferrari</td>\n",
              "      <td>15</td>\n",
              "      <td>1</td>\n",
              "      <td>24.353</td>\n",
              "      <td>1</td>\n",
              "    </tr>\n",
              "    <tr>\n",
              "      <th>15</th>\n",
              "      <td>2021</td>\n",
              "      <td>Bahrain</td>\n",
              "      <td>Yuki</td>\n",
              "      <td>Tsunoda</td>\n",
              "      <td>TSU</td>\n",
              "      <td>22</td>\n",
              "      <td>AlphaTauri Honda</td>\n",
              "      <td>15</td>\n",
              "      <td>1</td>\n",
              "      <td>25.046</td>\n",
              "      <td>1</td>\n",
              "    </tr>\n",
              "    <tr>\n",
              "      <th>16</th>\n",
              "      <td>2021</td>\n",
              "      <td>Bahrain</td>\n",
              "      <td>Valtteri</td>\n",
              "      <td>Bottas</td>\n",
              "      <td>BOT</td>\n",
              "      <td>77</td>\n",
              "      <td>Mercedes</td>\n",
              "      <td>16</td>\n",
              "      <td>1</td>\n",
              "      <td>24.262</td>\n",
              "      <td>1</td>\n",
              "    </tr>\n",
              "    <tr>\n",
              "      <th>17</th>\n",
              "      <td>2021</td>\n",
              "      <td>Bahrain</td>\n",
              "      <td>Max</td>\n",
              "      <td>Verstappen</td>\n",
              "      <td>VER</td>\n",
              "      <td>33</td>\n",
              "      <td>Red Bull Racing Honda</td>\n",
              "      <td>17</td>\n",
              "      <td>1</td>\n",
              "      <td>24.767</td>\n",
              "      <td>1</td>\n",
              "    </tr>\n",
              "    <tr>\n",
              "      <th>18</th>\n",
              "      <td>2021</td>\n",
              "      <td>Bahrain</td>\n",
              "      <td>Sergio</td>\n",
              "      <td>Perez</td>\n",
              "      <td>PER</td>\n",
              "      <td>11</td>\n",
              "      <td>Red Bull Racing Honda</td>\n",
              "      <td>19</td>\n",
              "      <td>2</td>\n",
              "      <td>24.105</td>\n",
              "      <td>1</td>\n",
              "    </tr>\n",
              "    <tr>\n",
              "      <th>19</th>\n",
              "      <td>2021</td>\n",
              "      <td>Bahrain</td>\n",
              "      <td>Pierre</td>\n",
              "      <td>Gasly</td>\n",
              "      <td>GAS</td>\n",
              "      <td>10</td>\n",
              "      <td>AlphaTauri Honda</td>\n",
              "      <td>19</td>\n",
              "      <td>2</td>\n",
              "      <td>24.317</td>\n",
              "      <td>1</td>\n",
              "    </tr>\n",
              "    <tr>\n",
              "      <th>20</th>\n",
              "      <td>2021</td>\n",
              "      <td>Bahrain</td>\n",
              "      <td>Sebastian</td>\n",
              "      <td>Vettel</td>\n",
              "      <td>VET</td>\n",
              "      <td>5</td>\n",
              "      <td>Aston Martin Mercedes</td>\n",
              "      <td>24</td>\n",
              "      <td>1</td>\n",
              "      <td>24.626</td>\n",
              "      <td>1</td>\n",
              "    </tr>\n",
              "    <tr>\n",
              "      <th>21</th>\n",
              "      <td>2021</td>\n",
              "      <td>Bahrain</td>\n",
              "      <td>Lewis</td>\n",
              "      <td>Hamilton</td>\n",
              "      <td>HAM</td>\n",
              "      <td>44</td>\n",
              "      <td>Mercedes</td>\n",
              "      <td>28</td>\n",
              "      <td>2</td>\n",
              "      <td>24.076</td>\n",
              "      <td>1</td>\n",
              "    </tr>\n",
              "    <tr>\n",
              "      <th>22</th>\n",
              "      <td>2021</td>\n",
              "      <td>Bahrain</td>\n",
              "      <td>Lance</td>\n",
              "      <td>Stroll</td>\n",
              "      <td>STR</td>\n",
              "      <td>18</td>\n",
              "      <td>Aston Martin Mercedes</td>\n",
              "      <td>28</td>\n",
              "      <td>2</td>\n",
              "      <td>25.525</td>\n",
              "      <td>1</td>\n",
              "    </tr>\n",
              "    <tr>\n",
              "      <th>23</th>\n",
              "      <td>2021</td>\n",
              "      <td>Bahrain</td>\n",
              "      <td>Kimi</td>\n",
              "      <td>RÃ¤ikkÃ¶nen</td>\n",
              "      <td>RAI</td>\n",
              "      <td>7</td>\n",
              "      <td>Alfa Romeo Racing Ferrari</td>\n",
              "      <td>29</td>\n",
              "      <td>2</td>\n",
              "      <td>24.046</td>\n",
              "      <td>1</td>\n",
              "    </tr>\n",
              "    <tr>\n",
              "      <th>24</th>\n",
              "      <td>2021</td>\n",
              "      <td>Bahrain</td>\n",
              "      <td>Fernando</td>\n",
              "      <td>Alonso</td>\n",
              "      <td>ALO</td>\n",
              "      <td>14</td>\n",
              "      <td>Alpine Renault</td>\n",
              "      <td>29</td>\n",
              "      <td>2</td>\n",
              "      <td>24.775</td>\n",
              "      <td>1</td>\n",
              "    </tr>\n",
              "    <tr>\n",
              "      <th>25</th>\n",
              "      <td>2021</td>\n",
              "      <td>Bahrain</td>\n",
              "      <td>Valtteri</td>\n",
              "      <td>Bottas</td>\n",
              "      <td>BOT</td>\n",
              "      <td>77</td>\n",
              "      <td>Mercedes</td>\n",
              "      <td>30</td>\n",
              "      <td>2</td>\n",
              "      <td>32.897</td>\n",
              "      <td>1</td>\n",
              "    </tr>\n",
              "    <tr>\n",
              "      <th>26</th>\n",
              "      <td>2021</td>\n",
              "      <td>Bahrain</td>\n",
              "      <td>Antonio</td>\n",
              "      <td>Giovinazzi</td>\n",
              "      <td>GIO</td>\n",
              "      <td>99</td>\n",
              "      <td>Alfa Romeo Racing Ferrari</td>\n",
              "      <td>30</td>\n",
              "      <td>2</td>\n",
              "      <td>24.223</td>\n",
              "      <td>1</td>\n",
              "    </tr>\n",
              "    <tr>\n",
              "      <th>27</th>\n",
              "      <td>2021</td>\n",
              "      <td>Bahrain</td>\n",
              "      <td>Esteban</td>\n",
              "      <td>Ocon</td>\n",
              "      <td>OCO</td>\n",
              "      <td>31</td>\n",
              "      <td>Alpine Renault</td>\n",
              "      <td>31</td>\n",
              "      <td>2</td>\n",
              "      <td>24.471</td>\n",
              "      <td>1</td>\n",
              "    </tr>\n",
              "    <tr>\n",
              "      <th>28</th>\n",
              "      <td>2021</td>\n",
              "      <td>Bahrain</td>\n",
              "      <td>Charles</td>\n",
              "      <td>Leclerc</td>\n",
              "      <td>LEC</td>\n",
              "      <td>16</td>\n",
              "      <td>Ferrari</td>\n",
              "      <td>32</td>\n",
              "      <td>2</td>\n",
              "      <td>24.176</td>\n",
              "      <td>1</td>\n",
              "    </tr>\n",
              "    <tr>\n",
              "      <th>29</th>\n",
              "      <td>2021</td>\n",
              "      <td>Bahrain</td>\n",
              "      <td>Daniel</td>\n",
              "      <td>Ricciardo</td>\n",
              "      <td>RIC</td>\n",
              "      <td>3</td>\n",
              "      <td>McLaren Mercedes</td>\n",
              "      <td>32</td>\n",
              "      <td>2</td>\n",
              "      <td>24.655</td>\n",
              "      <td>1</td>\n",
              "    </tr>\n",
              "    <tr>\n",
              "      <th>30</th>\n",
              "      <td>2021</td>\n",
              "      <td>Bahrain</td>\n",
              "      <td>Nicholas</td>\n",
              "      <td>Latifi</td>\n",
              "      <td>LAT</td>\n",
              "      <td>6</td>\n",
              "      <td>Williams Mercedes</td>\n",
              "      <td>32</td>\n",
              "      <td>2</td>\n",
              "      <td>23.983</td>\n",
              "      <td>1</td>\n",
              "    </tr>\n",
              "    <tr>\n",
              "      <th>31</th>\n",
              "      <td>2021</td>\n",
              "      <td>Bahrain</td>\n",
              "      <td>Lando</td>\n",
              "      <td>Norris</td>\n",
              "      <td>NOR</td>\n",
              "      <td>4</td>\n",
              "      <td>McLaren Mercedes</td>\n",
              "      <td>33</td>\n",
              "      <td>2</td>\n",
              "      <td>25.640</td>\n",
              "      <td>1</td>\n",
              "    </tr>\n",
              "    <tr>\n",
              "      <th>32</th>\n",
              "      <td>2021</td>\n",
              "      <td>Bahrain</td>\n",
              "      <td>Yuki</td>\n",
              "      <td>Tsunoda</td>\n",
              "      <td>TSU</td>\n",
              "      <td>22</td>\n",
              "      <td>AlphaTauri Honda</td>\n",
              "      <td>33</td>\n",
              "      <td>2</td>\n",
              "      <td>24.328</td>\n",
              "      <td>1</td>\n",
              "    </tr>\n",
              "    <tr>\n",
              "      <th>33</th>\n",
              "      <td>2021</td>\n",
              "      <td>Bahrain</td>\n",
              "      <td>Mick</td>\n",
              "      <td>Schumacher</td>\n",
              "      <td>MSC</td>\n",
              "      <td>47</td>\n",
              "      <td>Haas Ferrari</td>\n",
              "      <td>33</td>\n",
              "      <td>2</td>\n",
              "      <td>25.343</td>\n",
              "      <td>1</td>\n",
              "    </tr>\n",
              "    <tr>\n",
              "      <th>34</th>\n",
              "      <td>2021</td>\n",
              "      <td>Bahrain</td>\n",
              "      <td>George</td>\n",
              "      <td>Russell</td>\n",
              "      <td>RUS</td>\n",
              "      <td>63</td>\n",
              "      <td>Williams Mercedes</td>\n",
              "      <td>36</td>\n",
              "      <td>2</td>\n",
              "      <td>24.248</td>\n",
              "      <td>1</td>\n",
              "    </tr>\n",
              "    <tr>\n",
              "      <th>35</th>\n",
              "      <td>2021</td>\n",
              "      <td>Bahrain</td>\n",
              "      <td>Carlos</td>\n",
              "      <td>Sainz</td>\n",
              "      <td>SAI</td>\n",
              "      <td>55</td>\n",
              "      <td>Ferrari</td>\n",
              "      <td>37</td>\n",
              "      <td>2</td>\n",
              "      <td>24.341</td>\n",
              "      <td>1</td>\n",
              "    </tr>\n",
              "    <tr>\n",
              "      <th>36</th>\n",
              "      <td>2021</td>\n",
              "      <td>Bahrain</td>\n",
              "      <td>Sergio</td>\n",
              "      <td>Perez</td>\n",
              "      <td>PER</td>\n",
              "      <td>11</td>\n",
              "      <td>Red Bull Racing Honda</td>\n",
              "      <td>38</td>\n",
              "      <td>3</td>\n",
              "      <td>24.191</td>\n",
              "      <td>1</td>\n",
              "    </tr>\n",
              "    <tr>\n",
              "      <th>37</th>\n",
              "      <td>2021</td>\n",
              "      <td>Bahrain</td>\n",
              "      <td>Max</td>\n",
              "      <td>Verstappen</td>\n",
              "      <td>VER</td>\n",
              "      <td>33</td>\n",
              "      <td>Red Bull Racing Honda</td>\n",
              "      <td>39</td>\n",
              "      <td>2</td>\n",
              "      <td>23.848</td>\n",
              "      <td>1</td>\n",
              "    </tr>\n",
              "    <tr>\n",
              "      <th>38</th>\n",
              "      <td>2021</td>\n",
              "      <td>Bahrain</td>\n",
              "      <td>Pierre</td>\n",
              "      <td>Gasly</td>\n",
              "      <td>GAS</td>\n",
              "      <td>10</td>\n",
              "      <td>AlphaTauri Honda</td>\n",
              "      <td>39</td>\n",
              "      <td>3</td>\n",
              "      <td>24.983</td>\n",
              "      <td>1</td>\n",
              "    </tr>\n",
              "    <tr>\n",
              "      <th>39</th>\n",
              "      <td>2021</td>\n",
              "      <td>Bahrain</td>\n",
              "      <td>Valtteri</td>\n",
              "      <td>Bottas</td>\n",
              "      <td>BOT</td>\n",
              "      <td>77</td>\n",
              "      <td>Mercedes</td>\n",
              "      <td>54</td>\n",
              "      <td>3</td>\n",
              "      <td>24.566</td>\n",
              "      <td>1</td>\n",
              "    </tr>\n",
              "  </tbody>\n",
              "</table>\n",
              "</div>\n",
              "    <div class=\"colab-df-buttons\">\n",
              "\n",
              "  <div class=\"colab-df-container\">\n",
              "    <button class=\"colab-df-convert\" onclick=\"convertToInteractive('df-cb058be1-1ee3-4155-bd66-a9fb947e7c38')\"\n",
              "            title=\"Convert this dataframe to an interactive table.\"\n",
              "            style=\"display:none;\">\n",
              "\n",
              "  <svg xmlns=\"http://www.w3.org/2000/svg\" height=\"24px\" viewBox=\"0 -960 960 960\">\n",
              "    <path d=\"M120-120v-720h720v720H120Zm60-500h600v-160H180v160Zm220 220h160v-160H400v160Zm0 220h160v-160H400v160ZM180-400h160v-160H180v160Zm440 0h160v-160H620v160ZM180-180h160v-160H180v160Zm440 0h160v-160H620v160Z\"/>\n",
              "  </svg>\n",
              "    </button>\n",
              "\n",
              "  <style>\n",
              "    .colab-df-container {\n",
              "      display:flex;\n",
              "      gap: 12px;\n",
              "    }\n",
              "\n",
              "    .colab-df-convert {\n",
              "      background-color: #E8F0FE;\n",
              "      border: none;\n",
              "      border-radius: 50%;\n",
              "      cursor: pointer;\n",
              "      display: none;\n",
              "      fill: #1967D2;\n",
              "      height: 32px;\n",
              "      padding: 0 0 0 0;\n",
              "      width: 32px;\n",
              "    }\n",
              "\n",
              "    .colab-df-convert:hover {\n",
              "      background-color: #E2EBFA;\n",
              "      box-shadow: 0px 1px 2px rgba(60, 64, 67, 0.3), 0px 1px 3px 1px rgba(60, 64, 67, 0.15);\n",
              "      fill: #174EA6;\n",
              "    }\n",
              "\n",
              "    .colab-df-buttons div {\n",
              "      margin-bottom: 4px;\n",
              "    }\n",
              "\n",
              "    [theme=dark] .colab-df-convert {\n",
              "      background-color: #3B4455;\n",
              "      fill: #D2E3FC;\n",
              "    }\n",
              "\n",
              "    [theme=dark] .colab-df-convert:hover {\n",
              "      background-color: #434B5C;\n",
              "      box-shadow: 0px 1px 3px 1px rgba(0, 0, 0, 0.15);\n",
              "      filter: drop-shadow(0px 1px 2px rgba(0, 0, 0, 0.3));\n",
              "      fill: #FFFFFF;\n",
              "    }\n",
              "  </style>\n",
              "\n",
              "    <script>\n",
              "      const buttonEl =\n",
              "        document.querySelector('#df-cb058be1-1ee3-4155-bd66-a9fb947e7c38 button.colab-df-convert');\n",
              "      buttonEl.style.display =\n",
              "        google.colab.kernel.accessAllowed ? 'block' : 'none';\n",
              "\n",
              "      async function convertToInteractive(key) {\n",
              "        const element = document.querySelector('#df-cb058be1-1ee3-4155-bd66-a9fb947e7c38');\n",
              "        const dataTable =\n",
              "          await google.colab.kernel.invokeFunction('convertToInteractive',\n",
              "                                                    [key], {});\n",
              "        if (!dataTable) return;\n",
              "\n",
              "        const docLinkHtml = 'Like what you see? Visit the ' +\n",
              "          '<a target=\"_blank\" href=https://colab.research.google.com/notebooks/data_table.ipynb>data table notebook</a>'\n",
              "          + ' to learn more about interactive tables.';\n",
              "        element.innerHTML = '';\n",
              "        dataTable['output_type'] = 'display_data';\n",
              "        await google.colab.output.renderOutput(dataTable, element);\n",
              "        const docLink = document.createElement('div');\n",
              "        docLink.innerHTML = docLinkHtml;\n",
              "        element.appendChild(docLink);\n",
              "      }\n",
              "    </script>\n",
              "  </div>\n",
              "\n",
              "\n",
              "    <div id=\"df-aad205ec-8dd4-44f4-824f-1b15a757b66d\">\n",
              "      <button class=\"colab-df-quickchart\" onclick=\"quickchart('df-aad205ec-8dd4-44f4-824f-1b15a757b66d')\"\n",
              "                title=\"Suggest charts\"\n",
              "                style=\"display:none;\">\n",
              "\n",
              "<svg xmlns=\"http://www.w3.org/2000/svg\" height=\"24px\"viewBox=\"0 0 24 24\"\n",
              "     width=\"24px\">\n",
              "    <g>\n",
              "        <path d=\"M19 3H5c-1.1 0-2 .9-2 2v14c0 1.1.9 2 2 2h14c1.1 0 2-.9 2-2V5c0-1.1-.9-2-2-2zM9 17H7v-7h2v7zm4 0h-2V7h2v10zm4 0h-2v-4h2v4z\"/>\n",
              "    </g>\n",
              "</svg>\n",
              "      </button>\n",
              "\n",
              "<style>\n",
              "  .colab-df-quickchart {\n",
              "      --bg-color: #E8F0FE;\n",
              "      --fill-color: #1967D2;\n",
              "      --hover-bg-color: #E2EBFA;\n",
              "      --hover-fill-color: #174EA6;\n",
              "      --disabled-fill-color: #AAA;\n",
              "      --disabled-bg-color: #DDD;\n",
              "  }\n",
              "\n",
              "  [theme=dark] .colab-df-quickchart {\n",
              "      --bg-color: #3B4455;\n",
              "      --fill-color: #D2E3FC;\n",
              "      --hover-bg-color: #434B5C;\n",
              "      --hover-fill-color: #FFFFFF;\n",
              "      --disabled-bg-color: #3B4455;\n",
              "      --disabled-fill-color: #666;\n",
              "  }\n",
              "\n",
              "  .colab-df-quickchart {\n",
              "    background-color: var(--bg-color);\n",
              "    border: none;\n",
              "    border-radius: 50%;\n",
              "    cursor: pointer;\n",
              "    display: none;\n",
              "    fill: var(--fill-color);\n",
              "    height: 32px;\n",
              "    padding: 0;\n",
              "    width: 32px;\n",
              "  }\n",
              "\n",
              "  .colab-df-quickchart:hover {\n",
              "    background-color: var(--hover-bg-color);\n",
              "    box-shadow: 0 1px 2px rgba(60, 64, 67, 0.3), 0 1px 3px 1px rgba(60, 64, 67, 0.15);\n",
              "    fill: var(--button-hover-fill-color);\n",
              "  }\n",
              "\n",
              "  .colab-df-quickchart-complete:disabled,\n",
              "  .colab-df-quickchart-complete:disabled:hover {\n",
              "    background-color: var(--disabled-bg-color);\n",
              "    fill: var(--disabled-fill-color);\n",
              "    box-shadow: none;\n",
              "  }\n",
              "\n",
              "  .colab-df-spinner {\n",
              "    border: 2px solid var(--fill-color);\n",
              "    border-color: transparent;\n",
              "    border-bottom-color: var(--fill-color);\n",
              "    animation:\n",
              "      spin 1s steps(1) infinite;\n",
              "  }\n",
              "\n",
              "  @keyframes spin {\n",
              "    0% {\n",
              "      border-color: transparent;\n",
              "      border-bottom-color: var(--fill-color);\n",
              "      border-left-color: var(--fill-color);\n",
              "    }\n",
              "    20% {\n",
              "      border-color: transparent;\n",
              "      border-left-color: var(--fill-color);\n",
              "      border-top-color: var(--fill-color);\n",
              "    }\n",
              "    30% {\n",
              "      border-color: transparent;\n",
              "      border-left-color: var(--fill-color);\n",
              "      border-top-color: var(--fill-color);\n",
              "      border-right-color: var(--fill-color);\n",
              "    }\n",
              "    40% {\n",
              "      border-color: transparent;\n",
              "      border-right-color: var(--fill-color);\n",
              "      border-top-color: var(--fill-color);\n",
              "    }\n",
              "    60% {\n",
              "      border-color: transparent;\n",
              "      border-right-color: var(--fill-color);\n",
              "    }\n",
              "    80% {\n",
              "      border-color: transparent;\n",
              "      border-right-color: var(--fill-color);\n",
              "      border-bottom-color: var(--fill-color);\n",
              "    }\n",
              "    90% {\n",
              "      border-color: transparent;\n",
              "      border-bottom-color: var(--fill-color);\n",
              "    }\n",
              "  }\n",
              "</style>\n",
              "\n",
              "      <script>\n",
              "        async function quickchart(key) {\n",
              "          const quickchartButtonEl =\n",
              "            document.querySelector('#' + key + ' button');\n",
              "          quickchartButtonEl.disabled = true;  // To prevent multiple clicks.\n",
              "          quickchartButtonEl.classList.add('colab-df-spinner');\n",
              "          try {\n",
              "            const charts = await google.colab.kernel.invokeFunction(\n",
              "                'suggestCharts', [key], {});\n",
              "          } catch (error) {\n",
              "            console.error('Error during call to suggestCharts:', error);\n",
              "          }\n",
              "          quickchartButtonEl.classList.remove('colab-df-spinner');\n",
              "          quickchartButtonEl.classList.add('colab-df-quickchart-complete');\n",
              "        }\n",
              "        (() => {\n",
              "          let quickchartButtonEl =\n",
              "            document.querySelector('#df-aad205ec-8dd4-44f4-824f-1b15a757b66d button');\n",
              "          quickchartButtonEl.style.display =\n",
              "            google.colab.kernel.accessAllowed ? 'block' : 'none';\n",
              "        })();\n",
              "      </script>\n",
              "    </div>\n",
              "\n",
              "    </div>\n",
              "  </div>\n"
            ],
            "application/vnd.google.colaboratory.intrinsic+json": {
              "type": "dataframe",
              "variable_name": "pitstopsF1",
              "summary": "{\n  \"name\": \"pitstopsF1\",\n  \"rows\": 15051,\n  \"fields\": [\n    {\n      \"column\": \"Year\",\n      \"properties\": {\n        \"dtype\": \"number\",\n        \"std\": 6,\n        \"min\": 2000,\n        \"max\": 2021,\n        \"num_unique_values\": 22,\n        \"samples\": [\n          2021,\n          2008,\n          2013\n        ],\n        \"semantic_type\": \"\",\n        \"description\": \"\"\n      }\n    },\n    {\n      \"column\": \"Race\",\n      \"properties\": {\n        \"dtype\": \"category\",\n        \"num_unique_values\": 37,\n        \"samples\": [\n          \"Brazil\",\n          \"Russia\",\n          \"Monaco\"\n        ],\n        \"semantic_type\": \"\",\n        \"description\": \"\"\n      }\n    },\n    {\n      \"column\": \"Driver_First_Name\",\n      \"properties\": {\n        \"dtype\": \"category\",\n        \"num_unique_values\": 105,\n        \"samples\": [\n          \"Sergey\",\n          \"Nelson\",\n          \"Christian\"\n        ],\n        \"semantic_type\": \"\",\n        \"description\": \"\"\n      }\n    },\n    {\n      \"column\": \"Driver_Last_Name\",\n      \"properties\": {\n        \"dtype\": \"category\",\n        \"num_unique_values\": 114,\n        \"samples\": [\n          \"Albers\",\n          \"Leclerc\",\n          \"Gutierrez \"\n        ],\n        \"semantic_type\": \"\",\n        \"description\": \"\"\n      }\n    },\n    {\n      \"column\": \"Driver_Acronym\",\n      \"properties\": {\n        \"dtype\": \"category\",\n        \"num_unique_values\": 108,\n        \"samples\": [\n          \"SPE\",\n          \"OCO\",\n          \"LEC\"\n        ],\n        \"semantic_type\": \"\",\n        \"description\": \"\"\n      }\n    },\n    {\n      \"column\": \"Driver_Number\",\n      \"properties\": {\n        \"dtype\": \"number\",\n        \"std\": 17,\n        \"min\": 1,\n        \"max\": 99,\n        \"num_unique_values\": 48,\n        \"samples\": [\n          51,\n          98,\n          89\n        ],\n        \"semantic_type\": \"\",\n        \"description\": \"\"\n      }\n    },\n    {\n      \"column\": \"Team\",\n      \"properties\": {\n        \"dtype\": \"category\",\n        \"num_unique_values\": 69,\n        \"samples\": [\n          \"MRT Mercedes\",\n          \"Red Bull Racing Honda\",\n          \"RBR Ferrari\"\n        ],\n        \"semantic_type\": \"\",\n        \"description\": \"\"\n      }\n    },\n    {\n      \"column\": \"Lap_Pitted\",\n      \"properties\": {\n        \"dtype\": \"number\",\n        \"std\": 14,\n        \"min\": 1,\n        \"max\": 78,\n        \"num_unique_values\": 75,\n        \"samples\": [\n          13,\n          52,\n          24\n        ],\n        \"semantic_type\": \"\",\n        \"description\": \"\"\n      }\n    },\n    {\n      \"column\": \"Pit_Number\",\n      \"properties\": {\n        \"dtype\": \"number\",\n        \"std\": 0,\n        \"min\": 1,\n        \"max\": 6,\n        \"num_unique_values\": 6,\n        \"samples\": [\n          1,\n          2,\n          6\n        ],\n        \"semantic_type\": \"\",\n        \"description\": \"\"\n      }\n    },\n    {\n      \"column\": \"Pit_Time\",\n      \"properties\": {\n        \"dtype\": \"string\",\n        \"num_unique_values\": 9881,\n        \"samples\": [\n          \"25.029\",\n          \"19.347\",\n          \"23.680\"\n        ],\n        \"semantic_type\": \"\",\n        \"description\": \"\"\n      }\n    },\n    {\n      \"column\": \"Race_Number\",\n      \"properties\": {\n        \"dtype\": \"number\",\n        \"std\": 5,\n        \"min\": 1,\n        \"max\": 22,\n        \"num_unique_values\": 22,\n        \"samples\": [\n          1,\n          15,\n          9\n        ],\n        \"semantic_type\": \"\",\n        \"description\": \"\"\n      }\n    }\n  ]\n}"
            }
          },
          "metadata": {},
          "execution_count": 51
        }
      ]
    },
    {
      "cell_type": "markdown",
      "source": [
        "# Exploração dos dados:"
      ],
      "metadata": {
        "id": "w4EYXrZBBzqY"
      }
    },
    {
      "cell_type": "markdown",
      "source": [
        "## Probabilidades Simples:"
      ],
      "metadata": {
        "id": "8mrHJXYCB7Ap"
      }
    },
    {
      "cell_type": "markdown",
      "source": [
        "Probabilidade 1:"
      ],
      "metadata": {
        "id": "CCkPTSZFCE6-"
      }
    },
    {
      "cell_type": "code",
      "source": [
        "colunas_esperadas = {'Pit_Time', 'Year', 'Team'}\n",
        "if not colunas_esperadas.issubset(set(pitstopsF1.columns)):\n",
        "    raise ValueError(f\"Colunas ausentes no CSV. Esperado: {colunas_esperadas}, Encontrado: {set(pitstopsF1.columns)}\")\n",
        "\n",
        "pitstopsF1['Pit_Time'] = pd.to_numeric(pitstopsF1['Pit_Time'], errors='coerce')\n",
        "\n",
        "df_2021 = pitstopsF1[pitstopsF1['Year'] == 2021]\n",
        "somaPits2021 = df_2021['Pit_Time'].sum()\n",
        "mediaPits2021 = somaPits2021 / len(pitstopsF1[pitstopsF1['Year']== 2021])\n",
        "\n",
        "df_mercedes_2021 = df_2021[df_2021['Team'] == 'Mercedes']\n",
        "media_mercedes_2021 = df_mercedes_2021['Pit_Time'].mean()\n",
        "\n",
        "abaixo_mediaMerc = len(df_mercedes_2021[df_mercedes_2021['Pit_Time'] < mediaPits2021])\n",
        "probMerc_abaixoMed = abaixo_mediaMerc/len(df_mercedes_2021)\n",
        "\n",
        "print(f\"A média dos pitstops do ano de 2021 é de: {mediaPits2021:.4f}\\n\")\n",
        "print(f\"A média dos pitstops da Mercedes do ano de 2021 é de: {media_mercedes_2021:.4f}\")\n",
        "print(f\"A probabilidade da Mercedes ter um pitstop abaixo da média no ano de 2021: \" + str(round(probMerc_abaixoMed*100,4)) + '%')"
      ],
      "metadata": {
        "id": "PJUmwAk9CJag",
        "colab": {
          "base_uri": "https://localhost:8080/"
        },
        "outputId": "cbd72657-4470-4972-9e8f-7e5e085a34e4"
      },
      "execution_count": 52,
      "outputs": [
        {
          "output_type": "stream",
          "name": "stdout",
          "text": [
            "A média dos pitstops do ano de 2021 é de: 21.5627\n",
            "\n",
            "A média dos pitstops da Mercedes do ano de 2021 é de: 24.1181\n",
            "A probabilidade da Mercedes ter um pitstop abaixo da média no ano de 2021: 22.093%\n"
          ]
        }
      ]
    },
    {
      "cell_type": "markdown",
      "source": [
        "Probabilidade 2:"
      ],
      "metadata": {
        "id": "bEaJ__M-HkMO"
      }
    },
    {
      "cell_type": "code",
      "source": [
        "df_redbull_2021 = df_2021[df_2021['Team'] == 'Red Bull Racing Honda']\n",
        "media_redbull_2021 = df_redbull_2021['Pit_Time'].mean()\n",
        "\n",
        "abaixo_mediaRB = len(df_redbull_2021[df_redbull_2021['Pit_Time'] < mediaPits2021])\n",
        "probRB_abaixoMed = abaixo_mediaRB/len(df_redbull_2021)\n",
        "\n",
        "print(f\"A média dos pitstops do ano de 2021 é de: {mediaPits2021:.4f}\\n\")\n",
        "print(f\"A média dos pitstops da RedBull do ano de 2021 é de: {media_redbull_2021:.4f}\")\n",
        "print(f\"A probabilidade da RedBull Racing ter um pitstop abaixo da média no ano de 2021: \" + str(round(probRB_abaixoMed*100,4)) + '%')"
      ],
      "metadata": {
        "colab": {
          "base_uri": "https://localhost:8080/"
        },
        "id": "uebn8pQeHj8W",
        "outputId": "002fa3a4-666e-4841-b80e-0fef9423202e"
      },
      "execution_count": 53,
      "outputs": [
        {
          "output_type": "stream",
          "name": "stdout",
          "text": [
            "A média dos pitstops do ano de 2021 é de: 21.5627\n",
            "\n",
            "A média dos pitstops da RedBull do ano de 2021 é de: 23.9780\n",
            "A probabilidade da RedBull Racing ter um pitstop abaixo da média no ano de 2021: 26.7442%\n"
          ]
        }
      ]
    },
    {
      "cell_type": "markdown",
      "source": [
        "Probabilidade 3:"
      ],
      "metadata": {
        "id": "r4t7HUeeIljk"
      }
    },
    {
      "cell_type": "code",
      "source": [
        "df_haas_2021 = df_2021[df_2021['Team'] == 'Haas Ferrari']\n",
        "media_haas_2021 = df_haas_2021['Pit_Time'].mean()\n",
        "\n",
        "abaixo_mediaH = len(df_haas_2021[df_haas_2021['Pit_Time'] < mediaPits2021])\n",
        "probH_abaixoMed = abaixo_mediaH/len(df_haas_2021)\n",
        "\n",
        "print(f\"A média dos pitstops do ano de 2021 é de: {mediaPits2021:.4f}\\n\")\n",
        "print(f\"A média dos pitstops da Haas do ano de 2021 é de: {media_haas_2021:.4f}\")\n",
        "print(f\"A probabilidade da equipe Haas ter um pitstop abaixo da média no ano de 2021: \" + str(round(probH_abaixoMed*100,4)) + '%')"
      ],
      "metadata": {
        "colab": {
          "base_uri": "https://localhost:8080/"
        },
        "id": "ZuXiPfEkInij",
        "outputId": "24c7c3f1-5dcb-437e-a07d-09ed44657367"
      },
      "execution_count": 54,
      "outputs": [
        {
          "output_type": "stream",
          "name": "stdout",
          "text": [
            "A média dos pitstops do ano de 2021 é de: 21.5627\n",
            "\n",
            "A média dos pitstops da Haas do ano de 2021 é de: 26.1227\n",
            "A probabilidade da equipe Haas ter um pitstop abaixo da média no ano de 2021: 12.1951%\n"
          ]
        }
      ]
    },
    {
      "cell_type": "markdown",
      "source": [
        "##Probabilidade com União"
      ],
      "metadata": {
        "id": "6skPrReoOWSE"
      }
    },
    {
      "cell_type": "markdown",
      "source": [
        "Probabilidade 1:"
      ],
      "metadata": {
        "id": "Zw7bZ1EiOaZy"
      }
    },
    {
      "cell_type": "code",
      "source": [
        "prob_leclerc2021 = len(df_2021[df_2021['Driver_Last_Name']=='Leclerc']) / len(df_2021)\n",
        "print('A probabilidade de Leclerc fazer um pitstop no ano de 2021 é de: ' + str(round(prob_leclerc2021*100,4)) + '%')\n",
        "\n",
        "prob_sainz2021 = len(df_2021[df_2021['Driver_Last_Name']=='Sainz']) / len(df_2021)\n",
        "print('A probabilidade de Sainz fazer um pitstop no ano de 2021 é de: ' + str(round(prob_sainz2021*100,4)) + '%\\n')\n",
        "\n",
        "gp_com_ambosls = df_2021[df_2021['Driver_Last_Name'].isin(['Leclerc', 'Sainz'])]['Race'].nunique()\n",
        "prob_intersecaols = gp_com_ambosls / len(df_2021)\n",
        "\n",
        "prob_uniao_ls = prob_leclerc2021 + prob_sainz2021 - prob_intersecaols\n",
        "print('A probabilidade de Sainz ou Leclerc fazerem um pitstop no ano de 2021 é de: ' + str(round(prob_uniao_ls*100,4)) + '%')"
      ],
      "metadata": {
        "colab": {
          "base_uri": "https://localhost:8080/"
        },
        "id": "lX_ExctOOb9a",
        "outputId": "a8d26d4f-9207-41c9-c26e-7dbe1d1e82d2"
      },
      "execution_count": 55,
      "outputs": [
        {
          "output_type": "stream",
          "name": "stdout",
          "text": [
            "A probabilidade de Leclerc fazer um pitstop no ano de 2021 é de: 4.6366%\n",
            "A probabilidade de Sainz fazer um pitstop no ano de 2021 é de: 4.6366%\n",
            "\n",
            "A probabilidade de Sainz ou Leclerc fazerem um pitstop no ano de 2021 é de: 6.6416%\n"
          ]
        }
      ]
    },
    {
      "cell_type": "markdown",
      "source": [
        "Probabilidade 2:"
      ],
      "metadata": {
        "id": "L_pnqmmMUXlU"
      }
    },
    {
      "cell_type": "code",
      "source": [
        "prob_hamilton2021 = len(df_2021[df_2021['Driver_Last_Name']=='Hamilton']) / len(df_2021)\n",
        "print('A probabilidade de Hamilton fazer um pitstop no ano de 2021 é de: ' + str(round(prob_hamilton2021*100,4)) + '%')\n",
        "\n",
        "prob_bottas2021 = len(df_2021[df_2021['Driver_Last_Name']=='Bottas']) / len(df_2021)\n",
        "print('A probabilidade de Bottas fazer um pitstop no ano de 2021 é de: ' + str(round(prob_bottas2021*100,4)) + '%\\n')\n",
        "\n",
        "gp_com_amboshb = df_2021[df_2021['Driver_Last_Name'].isin(['Hamilton', 'Bottas'])]['Race'].nunique()\n",
        "prob_intersecaohb = gp_com_amboshb / len(df_2021)\n",
        "\n",
        "prob_uniao_hb = prob_hamilton2021 + prob_bottas2021 - prob_intersecaohb\n",
        "print('A probabilidade de Hamilton ou Bottas fazerem um pitstop no ano de 2021 é de: ' + str(round(prob_uniao_hb*100,4)) + '%')"
      ],
      "metadata": {
        "colab": {
          "base_uri": "https://localhost:8080/"
        },
        "id": "R0e9QAKDRaZF",
        "outputId": "a6255ab0-b6b8-4fe7-e1e8-8e41305134c7"
      },
      "execution_count": 56,
      "outputs": [
        {
          "output_type": "stream",
          "name": "stdout",
          "text": [
            "A probabilidade de Hamilton fazer um pitstop no ano de 2021 é de: 5.8897%\n",
            "A probabilidade de Bottas fazer um pitstop no ano de 2021 é de: 4.8872%\n",
            "\n",
            "A probabilidade de Hamilton ou Bottas fazerem um pitstop no ano de 2021 é de: 8.1454%\n"
          ]
        }
      ]
    },
    {
      "cell_type": "markdown",
      "source": [
        "Probabilidade 3:"
      ],
      "metadata": {
        "id": "jKllXTBPVa50"
      }
    },
    {
      "cell_type": "code",
      "source": [
        "prob_vettel2021 = len(df_2021[df_2021['Driver_Last_Name']=='Vettel']) / len(df_2021)\n",
        "print('A probabilidade de Vettel fazer um pitstop no ano de 2021 é de: ' + str(round(prob_vettel2021*100,4)) + '%')\n",
        "\n",
        "prob_stroll2021 = len(df_2021[df_2021['Driver_Last_Name']=='Stroll']) / len(df_2021)\n",
        "print('A probabilidade de Stroll fazer um pitstop no ano de 2021 é de: ' + str(round(prob_stroll2021*100,4)) + '%\\n')\n",
        "\n",
        "gp_com_ambosvs = df_2021[df_2021['Driver_Last_Name'].isin(['Vettel', 'Stroll'])]['Race'].nunique()\n",
        "prob_intersecaovs = gp_com_ambosvs / len(df_2021)\n",
        "\n",
        "prob_uniao_vs = prob_vettel2021 + prob_stroll2021 - prob_intersecaovs\n",
        "print('A probabilidade de Vettel ou Stroll fazerem um pitstop no ano de 2021 é de: ' + str(round(prob_uniao_vs*100,4)) + '%')"
      ],
      "metadata": {
        "colab": {
          "base_uri": "https://localhost:8080/"
        },
        "id": "rqpff_s4VcPj",
        "outputId": "9263f446-79d9-4583-fe7a-76b3780df926"
      },
      "execution_count": 57,
      "outputs": [
        {
          "output_type": "stream",
          "name": "stdout",
          "text": [
            "A probabilidade de Vettel fazer um pitstop no ano de 2021 é de: 5.3885%\n",
            "A probabilidade de Stroll fazer um pitstop no ano de 2021 é de: 4.386%\n",
            "\n",
            "A probabilidade de Vettel ou Stroll fazerem um pitstop no ano de 2021 é de: 7.1429%\n"
          ]
        }
      ]
    },
    {
      "cell_type": "markdown",
      "source": [
        "##Probabilidade com Intersecção"
      ],
      "metadata": {
        "id": "JhqQK-l8Zjgz"
      }
    },
    {
      "cell_type": "markdown",
      "source": [
        "Probabilidade 1:"
      ],
      "metadata": {
        "id": "SvJimTPTZuZ7"
      }
    },
    {
      "cell_type": "code",
      "source": [
        "pits_mercedes_2021 = len(df_mercedes_2021)\n",
        "pits_redbull_2021 = len(df_redbull_2021)\n",
        "pits_2021 = len(df_2021)\n",
        "\n",
        "prob_mercedespits_2021 = pits_mercedes_2021 / pits_2021\n",
        "prob_redbullspits_2021 = pits_redbull_2021 / pits_2021\n",
        "\n",
        "prob_intersecao_merc_redbull = prob_mercedespits_2021 * prob_redbullspits_2021\n",
        "\n",
        "print('A quantidade de pitstops da Mercedes no ano de 2021: ' + str(pits_mercedes_2021));\n",
        "print('A probabilidade da Mercedes fazer um pitstop em 2021 é de: ' + str(round(prob_mercedespits_2021 * 100,4)) + '%')\n",
        "print('A probabilidade de pitstops da RedBull no ano de 2021: ' + str(pits_redbull_2021))\n",
        "print('A probabilidade da RedBull fazer um pitstop em 2021 é de: ' + str(round(prob_redbullspits_2021 * 100,4)) + '%')\n",
        "print('A probabilidade da Mercedes e da RedBull fazerem um pitstop em 2021 é de: ' + str(round(prob_intersecao_merc_redbull * 100,4)) + '%')"
      ],
      "metadata": {
        "colab": {
          "base_uri": "https://localhost:8080/"
        },
        "id": "xKa5ExvwZwkL",
        "outputId": "096c2a61-620f-40a5-d154-75b9b2fd2619"
      },
      "execution_count": 58,
      "outputs": [
        {
          "output_type": "stream",
          "name": "stdout",
          "text": [
            "A quantidade de pitstops da Mercedes no ano de 2021: 86\n",
            "A probabilidade da Mercedes fazer um pitstop em 2021 é de: 10.7769%\n",
            "A probabilidade de pitstops da RedBull no ano de 2021: 86\n",
            "A probabilidade da RedBull fazer um pitstop em 2021 é de: 10.7769%\n",
            "A probabilidade da Mercedes e da RedBull fazerem um pitstop em 2021 é de: 1.1614%\n"
          ]
        }
      ]
    },
    {
      "cell_type": "markdown",
      "source": [
        "Probabilidade 2:"
      ],
      "metadata": {
        "id": "u0lb-DhRehXp"
      }
    },
    {
      "cell_type": "code",
      "source": [
        "df_ferrari_2021 = df_2021[df_2021['Team'] == 'Ferrari']\n",
        "pits_ferrari_2021 = len(df_ferrari_2021)\n",
        "df_mclaren_2021 = df_2021[df_2021['Team'] == 'McLaren Mercedes']\n",
        "pits_mclaren_2021 = len(df_mclaren_2021)\n",
        "pits_2021 = len(df_2021)\n",
        "\n",
        "prob_ferraripits_2021 = pits_ferrari_2021 / pits_2021\n",
        "prob_mclarenpits_2021 = pits_mclaren_2021 / pits_2021\n",
        "\n",
        "prob_intersecao_fefa_mcl = prob_ferraripits_2021 * prob_mclarenpits_2021\n",
        "\n",
        "print('A quantidade de pitstops da Ferrari no ano de 2021: ' + str(pits_ferrari_2021));\n",
        "print('A probabilidade da Ferrari fazer um pitstop em 2021 é de: ' + str(round(prob_ferraripits_2021 * 100,4)) + '%')\n",
        "print('A probabilidade de pitstops da Mclaren no ano de 2021: ' + str(pits_mclaren_2021))\n",
        "print('A probabilidade da Mclaren fazer um pitstop em 2021 é de: ' + str(round(prob_mclarenpits_2021 * 100,4)) + '%')\n",
        "print('A probabilidade da Ferrari e da Mclaren fazerem um pitstop em 2021 é de: ' + str(round(prob_intersecao_fefa_mcl * 100,4)) + '%')"
      ],
      "metadata": {
        "colab": {
          "base_uri": "https://localhost:8080/"
        },
        "id": "sduG2NEBekzs",
        "outputId": "16185240-bb54-4342-9e4a-b44950c4222d"
      },
      "execution_count": 59,
      "outputs": [
        {
          "output_type": "stream",
          "name": "stdout",
          "text": [
            "A quantidade de pitstops da Ferrari no ano de 2021: 74\n",
            "A probabilidade da Ferrari fazer um pitstop em 2021 é de: 9.2732%\n",
            "A probabilidade de pitstops da Mclaren no ano de 2021: 77\n",
            "A probabilidade da Mclaren fazer um pitstop em 2021 é de: 9.6491%\n",
            "A probabilidade da Ferrari e da Mclaren fazerem um pitstop em 2021 é de: 0.8948%\n"
          ]
        }
      ]
    },
    {
      "cell_type": "code",
      "source": [
        "df_alpha_2021 = df_2021[df_2021['Team'] == 'AlphaTauri Honda']\n",
        "pits_alpha_2021 = len(df_alpha_2021)\n",
        "df_alpine_2021 = df_2021[df_2021['Team'] == 'Alpine Renault']\n",
        "pits_alpinepits_2021 = len(df_alpine_2021)\n",
        "pits_2021 = len(df_2021)\n",
        "\n",
        "prob_alphapits_2021 = pits_alpha_2021 / pits_2021\n",
        "prob_alpinepits_2021 = pits_alpinepits_2021 / pits_2021\n",
        "\n",
        "prob_intersecao_br_alp = prob_alphapits_2021 * prob_alpinepits_2021\n",
        "\n",
        "print('A quantidade de pitstops da AlphaTauri no ano de 2021: ' + str(pits_alpha_2021));\n",
        "print('A probabilidade da AlphaTauri fazer um pitstop em 2021 é de: ' + str(round(prob_alphapits_2021 * 100,4)) + '%')\n",
        "print('A probabilidade de pitstops da Alpine no ano de 2021: ' + str(pits_alpinepits_2021))\n",
        "print('A probabilidade da Alpine fazer um pitstop em 2021 é de: ' + str(round(prob_alpinepits_2021 * 100,4)) + '%')\n",
        "print('A probabilidade da AlphaTauri e da Alpine fazerem um pitstop em 2021 é de: ' + str(round(prob_intersecao_br_alp * 100,4)) + '%')"
      ],
      "metadata": {
        "colab": {
          "base_uri": "https://localhost:8080/"
        },
        "id": "5bYWzzrSvOBG",
        "outputId": "4c9739ff-071a-4916-e7c4-28652c1fcac1"
      },
      "execution_count": 60,
      "outputs": [
        {
          "output_type": "stream",
          "name": "stdout",
          "text": [
            "A quantidade de pitstops da AlphaTauri no ano de 2021: 82\n",
            "A probabilidade da AlphaTauri fazer um pitstop em 2021 é de: 10.2757%\n",
            "A probabilidade de pitstops da Alpine no ano de 2021: 74\n",
            "A probabilidade da Alpine fazer um pitstop em 2021 é de: 9.2732%\n",
            "A probabilidade da AlphaTauri e da Alpine fazerem um pitstop em 2021 é de: 0.9529%\n"
          ]
        }
      ]
    },
    {
      "cell_type": "markdown",
      "source": [
        "##Probabilidade com Complemente/Diferença"
      ],
      "metadata": {
        "id": "7P2YUZwnxnoV"
      }
    },
    {
      "cell_type": "markdown",
      "source": [
        "Probabilidade 1:"
      ],
      "metadata": {
        "id": "xY_Opfc2x2r_"
      }
    },
    {
      "cell_type": "code",
      "source": [
        "df_ferrari_2021 = df_2021[df_2021['Team'] == 'Ferrari']\n",
        "media_ferrari_2021 = df_ferrari_2021['Pit_Time'].mean()\n",
        "\n",
        "abaixo_mediaF = len(df_ferrari_2021[df_ferrari_2021['Pit_Time'] < mediaPits2021])\n",
        "probF_abaixoMed = abaixo_mediaF/len(df_ferrari_2021)\n",
        "\n",
        "prob_ferrari_acima_media = 1 - probF_abaixoMed\n",
        "\n",
        "print(f\"A média dos pitstops do ano de 2021 é de: {mediaPits2021:.4f}\\n\")\n",
        "print(f\"A média dos pitstops da Ferrari do ano de 2021 é de: {media_ferrari_2021:.4f}\")\n",
        "print(f\"A probabilidade da Ferrari ter um pitstop acima da média no ano de 2021: \" + str(round(prob_ferrari_acima_media*100,4)) + '%')"
      ],
      "metadata": {
        "colab": {
          "base_uri": "https://localhost:8080/"
        },
        "id": "WNGqz7pV-BEo",
        "outputId": "b565d9f6-daed-4b88-df04-c55de0d4fadb"
      },
      "execution_count": 61,
      "outputs": [
        {
          "output_type": "stream",
          "name": "stdout",
          "text": [
            "A média dos pitstops do ano de 2021 é de: 21.5627\n",
            "\n",
            "A média dos pitstops da Ferrari do ano de 2021 é de: 24.3019\n",
            "A probabilidade da Ferrari ter um pitstop acima da média no ano de 2021: 78.3784%\n"
          ]
        }
      ]
    },
    {
      "cell_type": "markdown",
      "source": [
        "Probabilidade 2:"
      ],
      "metadata": {
        "id": "xnaysZVy2QQV"
      }
    },
    {
      "cell_type": "code",
      "source": [
        "\n",
        "mediaPitsTotal = pitstopsF1['Pit_Time'].mean()\n",
        "\n",
        "df_ferrari = pitstopsF1[pitstopsF1['Team'] == 'Ferrari']\n",
        "baixoMedia = (df_ferrari['Pit_Time'] < mediaPitsTotal).sum()\n",
        "\n",
        "prob_ferrari_nao_acima = 1 - (baixoMedia / len(df_ferrari))\n",
        "print(f\"A probabilidade da Ferrari, em todos os anos, de não estar acima da média é de: {prob_ferrari_nao_acima:.4%}\")"
      ],
      "metadata": {
        "colab": {
          "base_uri": "https://localhost:8080/"
        },
        "id": "ACR3w1sP-BYm",
        "outputId": "cfa5622d-93a2-42f5-e990-76df69d5bf95"
      },
      "execution_count": 62,
      "outputs": [
        {
          "output_type": "stream",
          "name": "stdout",
          "text": [
            "A probabilidade da Ferrari, em todos os anos, de não estar acima da média é de: 37.0861%\n"
          ]
        }
      ]
    },
    {
      "cell_type": "markdown",
      "source": [
        "Probabilidade 3:"
      ],
      "metadata": {
        "id": "p8o3sc8T2SQr"
      }
    },
    {
      "cell_type": "code",
      "source": [
        "df_Hemilton = pitstopsF1[pitstopsF1['Driver_Last_Name'] == 'Hamilton']\n",
        "baixoMediaH = (df_Hemilton['Pit_Time'] < mediaPitsTotal).sum()\n",
        "\n",
        "prob_Hamilton_nao_acima = 1 - (baixoMediaH / len(df_Hemilton))\n",
        "print(f\"A probabilidade de Hamilton, em todos os anos de carreira, de não estar acima da média é de: {prob_Hamilton_nao_acima:.4%}\")"
      ],
      "metadata": {
        "colab": {
          "base_uri": "https://localhost:8080/"
        },
        "id": "d4bpF-Zl-Buv",
        "outputId": "02b16da3-39d6-4929-8895-ad90760762bd"
      },
      "execution_count": 63,
      "outputs": [
        {
          "output_type": "stream",
          "name": "stdout",
          "text": [
            "A probabilidade de Hamilton, em todos os anos de carreira, de não estar acima da média é de: 27.8293%\n"
          ]
        }
      ]
    },
    {
      "cell_type": "markdown",
      "source": [
        "##Probabilidade Condicional\n"
      ],
      "metadata": {
        "id": "2V-kEyzWyv_I"
      }
    },
    {
      "cell_type": "markdown",
      "source": [
        "Probabilidade 1:"
      ],
      "metadata": {
        "id": "r9Hx8S6fy2Uh"
      }
    },
    {
      "cell_type": "code",
      "source": [
        "df_mercedes = pitstopsF1[pitstopsF1['Team'] == 'Mercedes']\n",
        "df_hamilton_mercedes = df_mercedes[df_mercedes['Driver_Last_Name'] == 'Hamilton']\n",
        "df_hamilton_alltime = pitstopsF1[pitstopsF1['Driver_Last_Name'] == 'Hamilton']\n",
        "\n",
        "prob_hamilton_given_mercedes = len(df_hamilton_mercedes) / len(df_hamilton_alltime)\n",
        "\n",
        "print(f\"A probabilidade de Hamilton ter um pitstop dado que ele é da Mercedes é de: {prob_hamilton_given_mercedes:.4%}\")"
      ],
      "metadata": {
        "colab": {
          "base_uri": "https://localhost:8080/"
        },
        "id": "L8fRBYmGy1SN",
        "outputId": "a79a5d4e-222c-4a57-d230-b1b031d03e02"
      },
      "execution_count": 64,
      "outputs": [
        {
          "output_type": "stream",
          "name": "stdout",
          "text": [
            "A probabilidade de Hamilton ter um pitstop dado que ele é da Mercedes é de: 60.1113%\n"
          ]
        }
      ]
    },
    {
      "cell_type": "markdown",
      "source": [
        "Probabilidade 2:"
      ],
      "metadata": {
        "id": "AaapDMLjy4Xm"
      }
    },
    {
      "cell_type": "code",
      "source": [
        "df_mclaren = pitstopsF1[pitstopsF1['Team'] == 'McLaren Mercedes']\n",
        "df_hamilton_mclaren = df_mclaren[df_mclaren['Driver_Last_Name'] == 'Hamilton']\n",
        "\n",
        "prob_hamilton_given_mclaren = len(df_hamilton_mclaren) / len(df_hamilton_alltime)\n",
        "\n",
        "print(f\"A probabilidade de Hamilton ter um pitstop dado que ele é da Mclaren é de: {prob_hamilton_given_mclaren:.4%}\")"
      ],
      "metadata": {
        "colab": {
          "base_uri": "https://localhost:8080/"
        },
        "id": "1jRHFc_j0nYF",
        "outputId": "ccf42f64-75a8-4010-c77f-f72e851f8fb9"
      },
      "execution_count": 65,
      "outputs": [
        {
          "output_type": "stream",
          "name": "stdout",
          "text": [
            "A probabilidade de Hamilton ter um pitstop dado que ele é da Mclaren é de: 39.8887%\n"
          ]
        }
      ]
    },
    {
      "cell_type": "markdown",
      "source": [
        "probabilidade 3:\n"
      ],
      "metadata": {
        "id": "BnBnXUxIy6eq"
      }
    },
    {
      "cell_type": "code",
      "source": [
        "df_ferrari = pitstopsF1[pitstopsF1['Team'] == 'Ferrari']\n",
        "df_massa_ferrari = df_ferrari[df_ferrari['Driver_Last_Name'] == 'Massa']\n",
        "df_massa_alltime = pitstopsF1[pitstopsF1['Driver_Last_Name'] == 'Massa']\n",
        "\n",
        "prob_massa_given_ferrari = len(df_massa_ferrari) / len(df_massa_alltime)\n",
        "\n",
        "print(f\"A probabilidade de Massa ter um pitstop dado que ele é da Ferrari é de: {prob_massa_given_ferrari:.4%}\")"
      ],
      "metadata": {
        "id": "GhJZ8EaWy714",
        "colab": {
          "base_uri": "https://localhost:8080/"
        },
        "outputId": "46aebee5-1eee-4785-929b-b14082ef4a29"
      },
      "execution_count": 66,
      "outputs": [
        {
          "output_type": "stream",
          "name": "stdout",
          "text": [
            "A probabilidade de Massa ter um pitstop dado que ele é da Ferrari é de: 53.5185%\n"
          ]
        }
      ]
    },
    {
      "cell_type": "markdown",
      "source": [
        "probabilidade 4:"
      ],
      "metadata": {
        "id": "0-c04iCpM6Ug"
      }
    },
    {
      "cell_type": "code",
      "source": [
        "df_williams = pitstopsF1[pitstopsF1['Team'] == 'Williams Mercedes']\n",
        "df_massa_williams = df_williams[df_williams['Driver_Last_Name'] == 'Massa']\n",
        "\n",
        "prob_massa_given_williams = len(df_massa_williams) / len(df_massa_alltime)\n",
        "\n",
        "print(f\"A probabilidade de Massa ter um pitstop dado que ele é da Williams Mercedes é de: {prob_massa_given_williams:.4%}\")"
      ],
      "metadata": {
        "colab": {
          "base_uri": "https://localhost:8080/"
        },
        "id": "T_2HYFSRM8K4",
        "outputId": "87a7c3b5-5af5-433b-8efc-a86178d9972e"
      },
      "execution_count": 67,
      "outputs": [
        {
          "output_type": "stream",
          "name": "stdout",
          "text": [
            "A probabilidade de Massa ter um pitstop dado que ele é da Williams Mercedes é de: 29.0741%\n"
          ]
        }
      ]
    },
    {
      "cell_type": "markdown",
      "source": [
        "probabilidade 5:"
      ],
      "metadata": {
        "id": "SWN7JgMRPEgF"
      }
    },
    {
      "cell_type": "code",
      "source": [
        "df_sauber = pitstopsF1[pitstopsF1['Team'] == 'Sauber Petronas']\n",
        "df_massa_sauber = df_sauber[df_sauber['Driver_Last_Name'] == 'Massa']\n",
        "\n",
        "prob_massa_given_sauber = len(df_massa_sauber) / len(df_massa_alltime)\n",
        "\n",
        "print(f\"A probabilidade de Massa ter um pitstop dado que ele é da Sauber Petronas é de: {prob_massa_given_sauber:.4%}\")"
      ],
      "metadata": {
        "colab": {
          "base_uri": "https://localhost:8080/"
        },
        "id": "6cSSeH4oPGGT",
        "outputId": "843170b2-0919-4d16-c6d0-538a137efda5"
      },
      "execution_count": 68,
      "outputs": [
        {
          "output_type": "stream",
          "name": "stdout",
          "text": [
            "A probabilidade de Massa ter um pitstop dado que ele é da Sauber Petronas é de: 17.4074%\n"
          ]
        }
      ]
    },
    {
      "cell_type": "markdown",
      "source": [
        "##Teorema de Bayes"
      ],
      "metadata": {
        "id": "YKhPoNmfQdYt"
      }
    },
    {
      "cell_type": "markdown",
      "source": [
        "Probabilidade 1:"
      ],
      "metadata": {
        "id": "F5A0sqg5QhL9"
      }
    },
    {
      "cell_type": "code",
      "source": [
        "df_interlagos = pitstopsF1[pitstopsF1['Race'] == 'Brazil']\n",
        "df_interlagos_36 = df_interlagos[df_interlagos['Lap_Pitted'] > 35]\n",
        "df_interlagos_unico = df_interlagos[df_interlagos['Pit_Number'] == 1]\n",
        "\n",
        "prob_36_unico = len(df_interlagos_36[df_interlagos_36['Pit_Number'] == 1]) / len(df_interlagos_36)\n",
        "prob_36 = len(df_interlagos_36) / len(df_interlagos)\n",
        "prob_unico = len(df_interlagos_unico) / len(df_interlagos)\n",
        "\n",
        "prob_interlagos_36 = (prob_36_unico * prob_36) / prob_unico\n",
        "\n",
        "print(\"A probabilidade de na Corrida de Interlagos um piloto fazer seu primeiro pitstop dado que ele está acima de 35 voltas (metade da corrida) é de: \" + str(round(prob_interlagos_36*100,4)) + \"%\")"
      ],
      "metadata": {
        "colab": {
          "base_uri": "https://localhost:8080/"
        },
        "id": "Mpf607MnQi3E",
        "outputId": "00ade048-d42d-49b7-9356-9b10e5996cee"
      },
      "execution_count": 69,
      "outputs": [
        {
          "output_type": "stream",
          "name": "stdout",
          "text": [
            "A probabilidade de na Corrida de Interlagos um piloto fazer seu primeiro pitstop dado que ele está acima de 35 voltas (metade da corrida) é de: 9.2072%\n"
          ]
        }
      ]
    },
    {
      "cell_type": "markdown",
      "source": [
        "Probabilidade 2:"
      ],
      "metadata": {
        "id": "w7wnmi99ZjnE"
      }
    },
    {
      "cell_type": "code",
      "source": [
        "df_monaco = pitstopsF1[pitstopsF1['Race'] == 'Monaco']\n",
        "df_monaco_36 = df_monaco[df_monaco['Lap_Pitted'] > 39]\n",
        "df_monaco_unico = df_monaco[df_monaco['Pit_Number'] == 1]\n",
        "\n",
        "prob_36_unico = len(df_monaco_36[df_monaco_36['Pit_Number'] == 1]) / len(df_monaco_36)\n",
        "prob_36 = len(df_monaco_36) / len(df_monaco)\n",
        "prob_unico = len(df_monaco_unico) / len(df_monaco)\n",
        "\n",
        "prob_monaco_36 = (prob_36_unico * prob_36) / prob_unico\n",
        "\n",
        "print(\"A probabilidade de na Corrida de Mônaco um piloto fazer seu primeiro pitstop dado que ele está acima de 39 voltas (metade da corrida) é de: \" + str(round(prob_monaco_36*100,4)) + \"%\")"
      ],
      "metadata": {
        "colab": {
          "base_uri": "https://localhost:8080/"
        },
        "id": "eayxhvNCXbGv",
        "outputId": "ae0e27dd-ab22-41ee-9a0d-d59b54d38e15"
      },
      "execution_count": 70,
      "outputs": [
        {
          "output_type": "stream",
          "name": "stdout",
          "text": [
            "A probabilidade de na Corrida de Mônaco um piloto fazer seu primeiro pitstop dado que ele está acima de 39 voltas (metade da corrida) é de: 23.3161%\n"
          ]
        }
      ]
    },
    {
      "cell_type": "markdown",
      "source": [
        "Probabilidade 3:"
      ],
      "metadata": {
        "id": "1EddoxGibJMe"
      }
    },
    {
      "cell_type": "code",
      "source": [
        "df_abudhabi = pitstopsF1[pitstopsF1['Race'] == 'Abu Dhabi']\n",
        "df_abudhabi_29 = df_abudhabi[df_abudhabi['Lap_Pitted'] > 29]\n",
        "df_abudhabi_unico = df_abudhabi[df_abudhabi['Pit_Number'] == 1]\n",
        "\n",
        "prob_29_unico = len(df_abudhabi_29[df_abudhabi_29['Pit_Number'] == 1]) / len(df_abudhabi_29)\n",
        "prob_29 = len(df_abudhabi_29) / len(df_abudhabi)\n",
        "prob_unico = len(df_abudhabi_unico) / len(df_abudhabi)\n",
        "\n",
        "prob_abudhabi_29 = (prob_29_unico * prob_29) / prob_unico\n",
        "\n",
        "print(\"A probabilidade de na Corrida de Abu Dhabi um piloto fazer seu primeiro pitstop dado que ele está acima de 29 voltas (metade da corrida) é de: \" + str(round(prob_abudhabi_29*100,4)) + \"%\")"
      ],
      "metadata": {
        "colab": {
          "base_uri": "https://localhost:8080/"
        },
        "id": "eB43kiGLbLAk",
        "outputId": "b81c3673-d0fb-47a7-9bec-eaf0a67feb66"
      },
      "execution_count": 71,
      "outputs": [
        {
          "output_type": "stream",
          "name": "stdout",
          "text": [
            "A probabilidade de na Corrida de Abu Dhabi um piloto fazer seu primeiro pitstop dado que ele está acima de 29 voltas (metade da corrida) é de: 15.1163%\n"
          ]
        }
      ]
    },
    {
      "cell_type": "markdown",
      "source": [
        "##Variáveis Aleatórias"
      ],
      "metadata": {
        "id": "GMth2jt7cMJ5"
      }
    },
    {
      "cell_type": "markdown",
      "source": [
        "Variável 1:"
      ],
      "metadata": {
        "id": "QXq_EqxmcQyo"
      }
    },
    {
      "cell_type": "code",
      "source": [
        "aleatoria1 = pitstopsF1.groupby('Team', as_index=False).agg({\n",
        "    'Pit_Time': ['mean']\n",
        "})\n",
        "\n",
        "print(aleatoria1)"
      ],
      "metadata": {
        "colab": {
          "base_uri": "https://localhost:8080/"
        },
        "id": "UBtIze78cULs",
        "outputId": "0b63e6b0-8fe4-4c6e-dc80-7c2132994f48"
      },
      "execution_count": 72,
      "outputs": [
        {
          "output_type": "stream",
          "name": "stdout",
          "text": [
            "                         Team   Pit_Time\n",
            "                                    mean\n",
            "0   Alfa Romeo Racing Ferrari  25.664021\n",
            "1            AlphaTauri Honda  25.382297\n",
            "2              Alpine Renault  26.004952\n",
            "3             Arrows Asiatech  32.321244\n",
            "4             Arrows Cosworth  33.303593\n",
            "..                        ...        ...\n",
            "64               Williams BMW  28.268687\n",
            "65          Williams Cosworth  23.993500\n",
            "66          Williams Mercedes  24.803444\n",
            "67           Williams Renault  24.366379\n",
            "68            Williams Toyota  28.089903\n",
            "\n",
            "[69 rows x 2 columns]\n"
          ]
        }
      ]
    },
    {
      "cell_type": "markdown",
      "source": [
        "Variável 2:"
      ],
      "metadata": {
        "id": "8YiB3pb_kngV"
      }
    },
    {
      "cell_type": "code",
      "source": [
        "aleatoria2 = pitstopsF1.groupby('Driver_Last_Name', as_index=False).agg({\n",
        "    'Pit_Time': ['mean']\n",
        "})\n",
        "\n",
        "print(aleatoria2)"
      ],
      "metadata": {
        "colab": {
          "base_uri": "https://localhost:8080/"
        },
        "id": "SqZlyyRThQ3_",
        "outputId": "b8b02bf3-b19f-4af6-d2d1-ba4a7f16d7d8"
      },
      "execution_count": 73,
      "outputs": [
        {
          "output_type": "stream",
          "name": "stdout",
          "text": [
            "    Driver_Last_Name   Pit_Time\n",
            "                           mean\n",
            "0             Aitken  30.193000\n",
            "1             Albers  27.030514\n",
            "2              Albon  24.918467\n",
            "3              Alesi  31.758154\n",
            "4        Alguersuari  23.997882\n",
            "..               ...        ...\n",
            "109         da Matta  28.712314\n",
            "110       de la Rosa  27.921735\n",
            "111        di Grassi  26.448300\n",
            "112         di Resta  23.361342\n",
            "113    van der Garde  24.439234\n",
            "\n",
            "[114 rows x 2 columns]\n"
          ]
        }
      ]
    },
    {
      "cell_type": "markdown",
      "source": [
        "variável 3:"
      ],
      "metadata": {
        "id": "8kWtjfBzkqGD"
      }
    },
    {
      "cell_type": "code",
      "source": [
        "aleatoria1 = pitstopsF1.groupby('Year', as_index=False).agg({\n",
        "    'Pit_Time': ['mean']\n",
        "})\n",
        "\n",
        "print(aleatoria1)"
      ],
      "metadata": {
        "colab": {
          "base_uri": "https://localhost:8080/"
        },
        "id": "G417Y7n_krW-",
        "outputId": "2f6e9531-9c0a-45a2-b637-7dda820265f5"
      },
      "execution_count": 74,
      "outputs": [
        {
          "output_type": "stream",
          "name": "stdout",
          "text": [
            "    Year   Pit_Time\n",
            "               mean\n",
            "0   2000  30.786322\n",
            "1   2001  31.792318\n",
            "2   2002  31.953129\n",
            "3   2003  30.988604\n",
            "4   2004  24.865090\n",
            "5   2005  25.116750\n",
            "6   2006  25.156589\n",
            "7   2007  28.349199\n",
            "8   2008  28.884070\n",
            "9   2009  25.478713\n",
            "10  2010  24.555408\n",
            "11  2011  23.608403\n",
            "12  2012  23.309274\n",
            "13  2013  23.564533\n",
            "14  2014  25.026906\n",
            "15  2015  25.367710\n",
            "16  2016  24.673407\n",
            "17  2017  24.247724\n",
            "18  2018  24.830982\n",
            "19  2019  24.839754\n",
            "20  2020  25.412570\n",
            "21  2021  25.010167\n"
          ]
        }
      ]
    },
    {
      "cell_type": "markdown",
      "source": [
        "##Função Probabilidade"
      ],
      "metadata": {
        "id": "PoOflnYF9xmf"
      }
    },
    {
      "cell_type": "markdown",
      "source": [
        "Função 1:"
      ],
      "metadata": {
        "id": "Z4uO9vu99-AX"
      }
    },
    {
      "cell_type": "code",
      "source": [
        "import numpy as np\n",
        "\n",
        "df = pd.read_csv(\"Pitstop_data_all.csv\")\n",
        "df['Pit_Time'] = pd.to_numeric(df['Pit_Time'], errors='coerce')\n",
        "df_clean = df.dropna(subset=['Pit_Time'])\n",
        "\n",
        "mean_pit_by_year = df_clean.groupby('Year')['Pit_Time'].mean().round().astype(int)\n",
        "values = mean_pit_by_year.values\n",
        "\n",
        "counts = pd.Series(values).value_counts().sort_index()\n",
        "pdf_discreta = counts / counts.sum()\n",
        "\n",
        "print(\"PDF Discreta (Probabilidades):\")\n",
        "for tempo, prob in pdf_discreta.items():\n",
        "    print(f\"P({tempo}) =            {prob:.4f}\")"
      ],
      "metadata": {
        "colab": {
          "base_uri": "https://localhost:8080/"
        },
        "id": "jCBgLngb9_Nh",
        "outputId": "be710414-a012-4d2a-d009-61cd36272918"
      },
      "execution_count": 75,
      "outputs": [
        {
          "output_type": "stream",
          "name": "stdout",
          "text": [
            "PDF Discreta (Probabilidades):\n",
            "P(23) =            0.0455\n",
            "P(24) =            0.1364\n",
            "P(25) =            0.5455\n",
            "P(28) =            0.0455\n",
            "P(29) =            0.0455\n",
            "P(31) =            0.0909\n",
            "P(32) =            0.0909\n"
          ]
        }
      ]
    },
    {
      "cell_type": "markdown",
      "source": [
        "Função 2:"
      ],
      "metadata": {
        "id": "b02iBqF69_ZH"
      }
    },
    {
      "cell_type": "code",
      "source": [
        "\n",
        "df = pd.read_csv(\"Pitstop_data_all.csv\")\n",
        "\n",
        "df['Pit_Time'] = pd.to_numeric(df['Pit_Time'], errors='coerce')\n",
        "\n",
        "df_clean = df.dropna(subset=['Pit_Time'])\n",
        "\n",
        "medias_por_corrida = df_clean.groupby('Race')['Pit_Time'].mean().reset_index()\n",
        "\n",
        "medias_por_corrida.columns = ['Corrida', 'Média do Pit Stop (s)']\n",
        "\n",
        "medias_por_corrida = medias_por_corrida.sort_values(by='Corrida').reset_index(drop=True)\n",
        "\n",
        "print(medias_por_corrida.to_string(index=False))"
      ],
      "metadata": {
        "colab": {
          "base_uri": "https://localhost:8080/"
        },
        "id": "7hO8Ob9hOcpJ",
        "outputId": "5237b352-ef4c-426c-b046-32bd5dcc75eb"
      },
      "execution_count": 76,
      "outputs": [
        {
          "output_type": "stream",
          "name": "stdout",
          "text": [
            "         Corrida  Média do Pit Stop (s)\n",
            "70th Anniversary              28.733780\n",
            "       Abu Dhabi              22.481236\n",
            "       Australia              24.726764\n",
            "         Austria              24.491321\n",
            "      Azerbaijan              20.926554\n",
            "         Bahrain              26.277710\n",
            "          Brazil              25.644799\n",
            "          Canada              26.860981\n",
            "           China              24.325447\n",
            "           Eifel              23.468788\n",
            "  Emilia Romagna              33.934469\n",
            "          Europe              26.844937\n",
            "          France              24.491034\n",
            "         Germany              23.286309\n",
            "   Great Britain              28.604319\n",
            "         Hungary              24.293899\n",
            "           India              23.944706\n",
            "           Italy              26.693365\n",
            "           Japan              25.867541\n",
            "        Malaysia              28.619364\n",
            "          Mexico              23.540491\n",
            "          Monaco              27.081206\n",
            "     Netherlands              20.395931\n",
            "        Portugal              25.186318\n",
            "           Qatar              26.418167\n",
            "          Russia              31.298526\n",
            "          Sakhir              26.211231\n",
            "      San Marino              26.057019\n",
            "    Saudi Arabia              23.352583\n",
            "       Singapore              29.982227\n",
            "     South Korea              22.991158\n",
            "           Spain              24.644836\n",
            "          Styria              23.373622\n",
            "          Turkey              26.166280\n",
            "         Tuscany              22.284976\n",
            "  United States               26.598088\n",
            " United States                24.724657\n"
          ]
        }
      ]
    },
    {
      "cell_type": "code",
      "source": [
        "pitstopsF1['Pit_Time'] = pd.to_numeric(pitstopsF1['Pit_Time'], errors='coerce')\n",
        "df_clean = pitstopsF1.dropna(subset=['Pit_Time'])\n",
        "\n",
        "mean_pit_by_race = df_clean.groupby('Race')['Pit_Time'].mean().round().astype(int)\n",
        "values = mean_pit_by_race.values\n",
        "\n",
        "counts = pd.Series(values).value_counts().sort_index()\n",
        "pdf_discreta2 = counts / counts.sum()\n",
        "\n",
        "print(\"PDF Discreta (Probabilidades):\")\n",
        "for tempo, prob in pdf_discreta2.items():\n",
        "    print(f\"P({tempo})      =        {prob:.4f}\")"
      ],
      "metadata": {
        "colab": {
          "base_uri": "https://localhost:8080/"
        },
        "id": "VRIMnLdw-Awf",
        "outputId": "7588c289-d9dc-4d61-bbff-7d706de3da9c"
      },
      "execution_count": 77,
      "outputs": [
        {
          "output_type": "stream",
          "name": "stdout",
          "text": [
            "PDF Discreta (Probabilidades):\n",
            "P(20)      =        0.0270\n",
            "P(21)      =        0.0270\n",
            "P(22)      =        0.0541\n",
            "P(23)      =        0.1351\n",
            "P(24)      =        0.1622\n",
            "P(25)      =        0.1081\n",
            "P(26)      =        0.1892\n",
            "P(27)      =        0.1351\n",
            "P(29)      =        0.0811\n",
            "P(30)      =        0.0270\n",
            "P(31)      =        0.0270\n",
            "P(34)      =        0.0270\n"
          ]
        }
      ]
    },
    {
      "cell_type": "markdown",
      "source": [
        "##Função Repartição:"
      ],
      "metadata": {
        "id": "1wQJqnpI-BgH"
      }
    },
    {
      "cell_type": "markdown",
      "source": [
        "Função 1:"
      ],
      "metadata": {
        "id": "oqWwNg0q-FDw"
      }
    },
    {
      "cell_type": "code",
      "source": [
        "import pandas as pd\n",
        "import numpy as np\n",
        "\n",
        "df = pd.read_csv(\"Pitstop_data_all.csv\")\n",
        "df['Pit_Time'] = pd.to_numeric(df['Pit_Time'], errors='coerce')\n",
        "df_clean = df.dropna(subset=['Pit_Time'])\n",
        "\n",
        "mean_pit_by_year = df_clean.groupby('Year')['Pit_Time'].mean().round().astype(int)\n",
        "values = mean_pit_by_year.values\n",
        "\n",
        "counts = pd.Series(values).value_counts().sort_index()\n",
        "pdf_discreta = counts / counts.sum()\n",
        "cdf_discreta = pdf_discreta.cumsum()\n",
        "\n",
        "print(\"CDF Discreta (Probabilidade acumulada):\")\n",
        "for tempo, acumulada in cdf_discreta.items():\n",
        "    print(f\"P(X ≤ {tempo}) = {acumulada:.4f}\")"
      ],
      "metadata": {
        "colab": {
          "base_uri": "https://localhost:8080/"
        },
        "id": "JZxjpowm-GiA",
        "outputId": "04c16cbb-e4b8-4fce-9cce-5dca813b3e01"
      },
      "execution_count": 78,
      "outputs": [
        {
          "output_type": "stream",
          "name": "stdout",
          "text": [
            "CDF Discreta (Probabilidade acumulada):\n",
            "P(X ≤ 23) = 0.0455\n",
            "P(X ≤ 24) = 0.1818\n",
            "P(X ≤ 25) = 0.7273\n",
            "P(X ≤ 28) = 0.7727\n",
            "P(X ≤ 29) = 0.8182\n",
            "P(X ≤ 31) = 0.9091\n",
            "P(X ≤ 32) = 1.0000\n"
          ]
        }
      ]
    },
    {
      "cell_type": "markdown",
      "source": [
        "Função 2:"
      ],
      "metadata": {
        "id": "HZT712y1-G_w"
      }
    },
    {
      "cell_type": "code",
      "source": [
        "df = pd.read_csv(\"Pitstop_data_all.csv\")\n",
        "\n",
        "df['Pit_Time'] = pd.to_numeric(df['Pit_Time'], errors='coerce')\n",
        "\n",
        "df_clean = df.dropna(subset=['Pit_Time'])\n",
        "\n",
        "medias_por_corrida = df_clean.groupby('Race')['Pit_Time'].mean().reset_index()\n",
        "\n",
        "medias_por_corrida.columns = ['Corrida', 'Média do Pit Stop (s)']\n",
        "\n",
        "medias_por_corrida = medias_por_corrida.sort_values(by='Corrida').reset_index(drop=True)\n",
        "\n",
        "print(medias_por_corrida.to_string(index=False))"
      ],
      "metadata": {
        "colab": {
          "base_uri": "https://localhost:8080/"
        },
        "id": "_6Juo-vZO3LH",
        "outputId": "538240f5-7a61-4da7-eba8-ed87c0b2fca1"
      },
      "execution_count": 79,
      "outputs": [
        {
          "output_type": "stream",
          "name": "stdout",
          "text": [
            "         Corrida  Média do Pit Stop (s)\n",
            "70th Anniversary              28.733780\n",
            "       Abu Dhabi              22.481236\n",
            "       Australia              24.726764\n",
            "         Austria              24.491321\n",
            "      Azerbaijan              20.926554\n",
            "         Bahrain              26.277710\n",
            "          Brazil              25.644799\n",
            "          Canada              26.860981\n",
            "           China              24.325447\n",
            "           Eifel              23.468788\n",
            "  Emilia Romagna              33.934469\n",
            "          Europe              26.844937\n",
            "          France              24.491034\n",
            "         Germany              23.286309\n",
            "   Great Britain              28.604319\n",
            "         Hungary              24.293899\n",
            "           India              23.944706\n",
            "           Italy              26.693365\n",
            "           Japan              25.867541\n",
            "        Malaysia              28.619364\n",
            "          Mexico              23.540491\n",
            "          Monaco              27.081206\n",
            "     Netherlands              20.395931\n",
            "        Portugal              25.186318\n",
            "           Qatar              26.418167\n",
            "          Russia              31.298526\n",
            "          Sakhir              26.211231\n",
            "      San Marino              26.057019\n",
            "    Saudi Arabia              23.352583\n",
            "       Singapore              29.982227\n",
            "     South Korea              22.991158\n",
            "           Spain              24.644836\n",
            "          Styria              23.373622\n",
            "          Turkey              26.166280\n",
            "         Tuscany              22.284976\n",
            "  United States               26.598088\n",
            " United States                24.724657\n"
          ]
        }
      ]
    },
    {
      "cell_type": "code",
      "source": [
        "import pandas as pd\n",
        "import numpy as np\n",
        "\n",
        "df = pd.read_csv(\"Pitstop_data_all.csv\")\n",
        "df['Pit_Time'] = pd.to_numeric(df['Pit_Time'], errors='coerce')\n",
        "df_clean = df.dropna(subset=['Pit_Time'])\n",
        "\n",
        "mean_pit_by_race = df_clean.groupby('Race')['Pit_Time'].mean().round().astype(int)\n",
        "values = mean_pit_by_race.values\n",
        "\n",
        "counts = pd.Series(values).value_counts().sort_index()\n",
        "pdf_discreta = counts / counts.sum()\n",
        "cdf_discreta = pdf_discreta.cumsum()\n",
        "\n",
        "print(\"CDF Discreta (Probabilidade acumulada):\")\n",
        "for tempo, acumulada in cdf_discreta.items():\n",
        "    print(f\"P(X ≤ {tempo}) = {acumulada:.4f}\")"
      ],
      "metadata": {
        "colab": {
          "base_uri": "https://localhost:8080/"
        },
        "id": "dqUArHlG-Ibo",
        "outputId": "2ee05c22-1f80-4fb0-9b7f-9e9547071454"
      },
      "execution_count": 80,
      "outputs": [
        {
          "output_type": "stream",
          "name": "stdout",
          "text": [
            "CDF Discreta (Probabilidade acumulada):\n",
            "P(X ≤ 20) = 0.0270\n",
            "P(X ≤ 21) = 0.0541\n",
            "P(X ≤ 22) = 0.1081\n",
            "P(X ≤ 23) = 0.2432\n",
            "P(X ≤ 24) = 0.4054\n",
            "P(X ≤ 25) = 0.5135\n",
            "P(X ≤ 26) = 0.7027\n",
            "P(X ≤ 27) = 0.8378\n",
            "P(X ≤ 29) = 0.9189\n",
            "P(X ≤ 30) = 0.9459\n",
            "P(X ≤ 31) = 0.9730\n",
            "P(X ≤ 34) = 1.0000\n"
          ]
        }
      ]
    },
    {
      "cell_type": "markdown",
      "source": [
        "##Gráficos Simples:"
      ],
      "metadata": {
        "id": "D3_5ONWdRdGS"
      }
    },
    {
      "cell_type": "markdown",
      "source": [
        "Gráfico 1:"
      ],
      "metadata": {
        "id": "en0JOQgMx-jP"
      }
    },
    {
      "cell_type": "code",
      "source": [
        "import matplotlib.pyplot as plt\n",
        "\n",
        "md_pit_por_ano = df_clean.groupby('Year')['Pit_Time'].mean()\n",
        "plt.plot(md_pit_por_ano.index, md_pit_por_ano.values, marker='o')\n",
        "plt.xlabel('Ano')\n",
        "plt.xlim(2000, 2021)\n",
        "plt.xticks(range(2000, 2022, 2))\n",
        "plt.ylabel('Média do Pit Stop, M (s)')\n",
        "\n",
        "plt.title('Média do Pit Stop por Ano')\n",
        "plt.grid(True)"
      ],
      "metadata": {
        "id": "FnjRI4dURiq0",
        "colab": {
          "base_uri": "https://localhost:8080/",
          "height": 0
        },
        "outputId": "41eb50e2-7670-4c1b-bb04-cce3ff2a355b"
      },
      "execution_count": 81,
      "outputs": [
        {
          "output_type": "display_data",
          "data": {
            "text/plain": [
              "<Figure size 640x480 with 1 Axes>"
            ],
            "image/png": "[encoded data removed]"
          },
          "metadata": {}
        }
      ]
    },
    {
      "cell_type": "markdown",
      "source": [
        "Gráfico 2:"
      ],
      "metadata": {
        "id": "7PcK5EfA1JWZ"
      }
    },
    {
      "cell_type": "code",
      "source": [
        "md_Brazil = pitstopsF1[pitstopsF1['Race'] == 'Brazil']\n",
        "md_Brazil_pit = md_Brazil.groupby('Year')['Pit_Time'].mean()\n",
        "plt.plot(md_Brazil_pit.index, md_Brazil_pit.values, marker='o')\n",
        "plt.xlabel('Ano')\n",
        "plt.xlim(2000, 2021)\n",
        "plt.xticks(range(2000, 2022, 2))\n",
        "plt.ylabel('Média do Pit Stop no Brazil, M (s)')\n",
        "\n",
        "plt.title('Média do Pit Stop por Ano no Brazil')\n",
        "plt.grid(True)"
      ],
      "metadata": {
        "colab": {
          "base_uri": "https://localhost:8080/",
          "height": 0
        },
        "id": "3kugYuOu1Ki9",
        "outputId": "49f6d6a3-66c1-46ad-c2ac-58440e4edccb"
      },
      "execution_count": 82,
      "outputs": [
        {
          "output_type": "display_data",
          "data": {
            "text/plain": [
              "<Figure size 640x480 with 1 Axes>"
            ],
            "image/png": "[encoded data removed]"
          },
          "metadata": {}
        }
      ]
    },
    {
      "cell_type": "markdown",
      "source": [
        "Gráfico 3:"
      ],
      "metadata": {
        "id": "lkrAS8ub3IrE"
      }
    },
    {
      "cell_type": "code",
      "source": [
        "md_Brazil = pitstopsF1[pitstopsF1['Race'] == 'Monaco']\n",
        "md_Brazil_pit = md_Brazil.groupby('Year')['Pit_Time'].mean()\n",
        "plt.plot(md_Brazil_pit.index, md_Brazil_pit.values, marker='o')\n",
        "plt.xlabel('Ano')\n",
        "plt.xlim(2000, 2021)\n",
        "plt.xticks(range(2000, 2022, 2))\n",
        "plt.ylabel('Média do Pit Stop no Mônaco, M (s)')\n",
        "\n",
        "plt.title('Média do Pit Stop por Ano em Mônaco')\n",
        "plt.grid(True)"
      ],
      "metadata": {
        "colab": {
          "base_uri": "https://localhost:8080/",
          "height": 0
        },
        "id": "2kJTYuCC3J99",
        "outputId": "372f9feb-1adc-4f46-bb13-fd6d7d8dd094"
      },
      "execution_count": 83,
      "outputs": [
        {
          "output_type": "display_data",
          "data": {
            "text/plain": [
              "<Figure size 640x480 with 1 Axes>"
            ],
            "image/png": "[encoded data removed]"
          },
          "metadata": {}
        }
      ]
    },
    {
      "cell_type": "markdown",
      "source": [
        "Gráfico 4:"
      ],
      "metadata": {
        "id": "nSBrSDdu3dp-"
      }
    },
    {
      "cell_type": "code",
      "source": [
        "md_Brazil = pitstopsF1[pitstopsF1['Race'] == 'Bahrain']\n",
        "md_Brazil_pit = md_Brazil.groupby('Year')['Pit_Time'].mean()\n",
        "plt.plot(md_Brazil_pit.index, md_Brazil_pit.values, marker='o')\n",
        "plt.xlabel('Ano')\n",
        "plt.xlim(2004, 2021)\n",
        "plt.xticks(range(2004, 2022, 2))\n",
        "plt.ylabel('Média do Pit Stop no Bahrain, M (s)')\n",
        "\n",
        "plt.title('Média do Pit Stop por Ano no Bahrain')\n",
        "plt.grid(True)"
      ],
      "metadata": {
        "colab": {
          "base_uri": "https://localhost:8080/",
          "height": 0
        },
        "id": "IgyXJfph3fFa",
        "outputId": "b802c3e8-c833-406f-8d7b-590537f0dff0"
      },
      "execution_count": 84,
      "outputs": [
        {
          "output_type": "display_data",
          "data": {
            "text/plain": [
              "<Figure size 640x480 with 1 Axes>"
            ],
            "image/png": "[encoded data removed]"
          },
          "metadata": {}
        }
      ]
    },
    {
      "cell_type": "markdown",
      "source": [
        "Gráfico 5:"
      ],
      "metadata": {
        "id": "xIeGw2Tr398i"
      }
    },
    {
      "cell_type": "code",
      "source": [
        "md_Brazil = pitstopsF1[pitstopsF1['Race'] == 'Japan']\n",
        "md_Brazil_pit = md_Brazil.groupby('Year')['Pit_Time'].mean()\n",
        "plt.plot(md_Brazil_pit.index, md_Brazil_pit.values, marker='o')\n",
        "plt.xlabel('Ano')\n",
        "plt.xlim(2000, 2019)\n",
        "plt.xticks(range(2000, 2019, 2))\n",
        "plt.ylabel('Média do Pit Stop no Japão, M (s)')\n",
        "\n",
        "plt.title('Média do Pit Stop por Ano no Japan')\n",
        "plt.grid(True)"
      ],
      "metadata": {
        "colab": {
          "base_uri": "https://localhost:8080/",
          "height": 0
        },
        "id": "qQDwZy4c4Akp",
        "outputId": "a3603409-8867-4a3b-eea6-2e1d4643ad16"
      },
      "execution_count": 85,
      "outputs": [
        {
          "output_type": "display_data",
          "data": {
            "text/plain": [
              "<Figure size 640x480 with 1 Axes>"
            ],
            "image/png": "[encoded data removed]"
          },
          "metadata": {}
        }
      ]
    },
    {
      "cell_type": "markdown",
      "source": [
        "##Variância e Desvio Padrão"
      ],
      "metadata": {
        "id": "hl7W6MUmR56J"
      }
    },
    {
      "cell_type": "markdown",
      "source": [
        "Exemplo 1:"
      ],
      "metadata": {
        "id": "ST_nV8tBbRzP"
      }
    },
    {
      "cell_type": "code",
      "source": [
        "df = pd.read_csv(\"Pitstop_data_all.csv\")\n",
        "\n",
        "df['Pit_Time'] = pd.to_numeric(df['Pit_Time'], errors='coerce')\n",
        "\n",
        "null_pit_times = df['Pit_Time'].isnull().sum()\n",
        "print(f\"Valores nulos encontrados no tempo de pitstops: {null_pit_times}\")\n",
        "\n",
        "pit_time_mean = df['Pit_Time'].mean()\n",
        "pit_time_std = df['Pit_Time'].std()\n",
        "pit_time_var = df['Pit_Time'].var()\n",
        "\n",
        "print(f\"Média do tempo de pit stop: {pit_time_mean:.2f} segundos\")\n",
        "print(f\"Desvio padrão do tempo de pit stop: {pit_time_std:.2f} segundos\")\n",
        "print(f\"Variância do tempo de pit stop: {pit_time_var:.2f} segundos²\")\n"
      ],
      "metadata": {
        "id": "kKgXvZqNSJgX",
        "colab": {
          "base_uri": "https://localhost:8080/"
        },
        "outputId": "3a88c370-305c-4efb-c8aa-9f8e90cf5f79"
      },
      "execution_count": 86,
      "outputs": [
        {
          "output_type": "stream",
          "name": "stdout",
          "text": [
            "Valores nulos encontrados no tempo de pitstops: 409\n",
            "Média do tempo de pit stop: 25.86 segundos\n",
            "Desvio padrão do tempo de pit stop: 5.39 segundos\n",
            "Variância do tempo de pit stop: 29.08 segundos²\n"
          ]
        }
      ]
    },
    {
      "cell_type": "markdown",
      "source": [
        "Exemplo 2:"
      ],
      "metadata": {
        "id": "b4t3zbYjbTnt"
      }
    },
    {
      "cell_type": "code",
      "source": [
        "df_2021 = df[df['Year'] == 2021].copy()\n",
        "df_2021['Pit_Time'] = pd.to_numeric(df_2021['Pit_Time'], errors='coerce')\n",
        "\n",
        "null_pit_times = df_2021['Pit_Time'].isnull().sum()\n",
        "print(f\"Valores nulos encontrados no tempo de pitstops: {null_pit_times}\")\n",
        "\n",
        "pit_time_mean = df_2021['Pit_Time'].mean()\n",
        "pit_time_std = df_2021['Pit_Time'].std()\n",
        "pit_time_var = df_2021['Pit_Time'].var()\n",
        "\n",
        "print(f\"Média do tempo de pit stop no ano de 2021: {pit_time_mean:.2f} segundos\")\n",
        "print(f\"Desvio padrão do tempo de pit stop no ano de 2021: {pit_time_std:.2f} segundos\")\n",
        "print(f\"Variância do tempo de pit stop no ano de 2021: {pit_time_var:.2f} segundos²\")"
      ],
      "metadata": {
        "colab": {
          "base_uri": "https://localhost:8080/"
        },
        "id": "LGrtOQJ-bVEC",
        "outputId": "45865e53-0f69-4f45-b7ad-f8a8b36254cf"
      },
      "execution_count": 87,
      "outputs": [
        {
          "output_type": "stream",
          "name": "stdout",
          "text": [
            "Valores nulos encontrados no tempo de pitstops: 110\n",
            "Média do tempo de pit stop no ano de 2021: 25.01 segundos\n",
            "Desvio padrão do tempo de pit stop no ano de 2021: 5.87 segundos\n",
            "Variância do tempo de pit stop no ano de 2021: 34.45 segundos²\n"
          ]
        }
      ]
    },
    {
      "cell_type": "markdown",
      "source": [
        "##Covariância"
      ],
      "metadata": {
        "id": "AR1cdvGdSMFS"
      }
    },
    {
      "cell_type": "markdown",
      "source": [
        "Covariância 1:"
      ],
      "metadata": {
        "id": "SytE0grJagHT"
      }
    },
    {
      "cell_type": "code",
      "source": [
        "df = pd.read_csv(\"Pitstop_data_all.csv\")\n",
        "\n",
        "df['Pit_Time'] = pd.to_numeric(df['Pit_Time'], errors='coerce')\n",
        "\n",
        "df_clean = df.dropna(subset=['Pit_Time', 'Lap_Pitted', 'Pit_Number'])\n",
        "\n",
        "cov_pt_lp = df_clean['Pit_Time'].cov(df_clean['Lap_Pitted'])\n",
        "\n",
        "print(\"COVARIÂNCIA:\")\n",
        "print(f\"Tempo do pitstop vs Volta do pitstop: {cov_pt_lp:.2f}\")\n"
      ],
      "metadata": {
        "id": "IcDTPY-MSPGh",
        "colab": {
          "base_uri": "https://localhost:8080/"
        },
        "outputId": "760b36f1-d27f-425e-948b-5b843c50158a"
      },
      "execution_count": 88,
      "outputs": [
        {
          "output_type": "stream",
          "name": "stdout",
          "text": [
            "COVARIÂNCIA:\n",
            "Tempo do pitstop vs Volta do pitstop: -4.72\n"
          ]
        }
      ]
    },
    {
      "cell_type": "markdown",
      "source": [
        "Covariância 2:"
      ],
      "metadata": {
        "id": "ESwV89G0ajNs"
      }
    },
    {
      "cell_type": "code",
      "source": [
        "cov_pt_pn = df_clean['Pit_Time'].cov(df_clean['Pit_Number'])\n",
        "\n",
        "print(\"COVARIÂNCIA:\")\n",
        "print(f\"Tempo do pitstop vs Número do pitstop: {cov_pt_pn:.2f}\\n\")"
      ],
      "metadata": {
        "colab": {
          "base_uri": "https://localhost:8080/"
        },
        "id": "9bqlM4cZak0A",
        "outputId": "09b513a0-e3b2-4436-9088-3dc89da49718"
      },
      "execution_count": 89,
      "outputs": [
        {
          "output_type": "stream",
          "name": "stdout",
          "text": [
            "COVARIÂNCIA:\n",
            "Tempo do pitstop vs Número do pitstop: -0.49\n",
            "\n"
          ]
        }
      ]
    },
    {
      "cell_type": "markdown",
      "source": [
        "##Correlação"
      ],
      "metadata": {
        "id": "3SJg73WqSPYM"
      }
    },
    {
      "cell_type": "markdown",
      "source": [
        "Correlação 1:"
      ],
      "metadata": {
        "id": "J2RyGiSsdPCL"
      }
    },
    {
      "cell_type": "code",
      "source": [
        "corr_pt_lp = df_clean['Pit_Time'].corr(df_clean['Lap_Pitted'])\n",
        "\n",
        "print(\"CORRELAÇÃO:\")\n",
        "print(f\"Tempo do pitstop vs Volta do pitstop: {corr_pt_lp:.2f}\")"
      ],
      "metadata": {
        "id": "J-gJLvUKSVLs",
        "colab": {
          "base_uri": "https://localhost:8080/"
        },
        "outputId": "67428fe3-b1ac-4776-f3b1-7dc743ec601d"
      },
      "execution_count": 90,
      "outputs": [
        {
          "output_type": "stream",
          "name": "stdout",
          "text": [
            "CORRELAÇÃO:\n",
            "Tempo do pitstop vs Volta do pitstop: -0.06\n"
          ]
        }
      ]
    },
    {
      "cell_type": "markdown",
      "source": [
        "Correlação 2:"
      ],
      "metadata": {
        "id": "XMVTPeJVdQm9"
      }
    },
    {
      "cell_type": "code",
      "source": [
        "corr_pt_pn = df_clean['Pit_Time'].corr(df_clean['Pit_Number'])\n",
        "\n",
        "print(\"CORRELAÇÃO:\")\n",
        "print(f\"Tempo do pitstop vs Número do pitstop: {corr_pt_pn:.2f}\")"
      ],
      "metadata": {
        "colab": {
          "base_uri": "https://localhost:8080/"
        },
        "id": "TRq89x82dSY8",
        "outputId": "a50a8d6b-a475-4326-870c-90e41b94a936"
      },
      "execution_count": 91,
      "outputs": [
        {
          "output_type": "stream",
          "name": "stdout",
          "text": [
            "CORRELAÇÃO:\n",
            "Tempo do pitstop vs Número do pitstop: -0.11\n"
          ]
        }
      ]
    },
    {
      "cell_type": "markdown",
      "source": [
        "#Exercício em sala"
      ],
      "metadata": {
        "id": "MACoDica8Q00"
      }
    },
    {
      "cell_type": "markdown",
      "source": [
        "##Mapa de calor"
      ],
      "metadata": {
        "id": "f1bZirBJ8kjE"
      }
    },
    {
      "cell_type": "markdown",
      "source": [
        "exemplo 1:"
      ],
      "metadata": {
        "id": "Gj1qho5d81NB"
      }
    },
    {
      "cell_type": "code",
      "source": [
        "import plotly.express as px\n",
        "fig3 = px.density_contour(pitstopsF1, x=\"Pit_Time\", y=\"Lap_Pitted\", title=\"Densidade de Contorno: Volta do pitstop vs Tempo do pitstop\")\n",
        "fig3.update_traces(contours_coloring=\"heatmap\")\n",
        "fig3.show()"
      ],
      "metadata": {
        "colab": {
          "base_uri": "https://localhost:8080/",
          "height": 0
        },
        "id": "wWF-KQlF82g8",
        "outputId": "4964857e-202c-48ef-a3a9-07061d8fc99d"
      },
      "execution_count": 92,
      "outputs": [
        {
          "output_type": "display_data",
          "data": {
            "text/html": [
              "<html>\n",
              "<head><meta charset=\"utf-8\" /></head>\n",
              "<body>\n",
              "    <div>            <script src=\"https://cdnjs.cloudflare.com/ajax/libs/mathjax/2.7.5/MathJax.js?config=TeX-AMS-MML_SVG\"></script><script type=\"text/javascript\">if (window.MathJax && window.MathJax.Hub && window.MathJax.Hub.Config) {window.MathJax.Hub.Config({SVG: {font: \"STIX-Web\"}});}</script>                <script type=\"text/javascript\">window.PlotlyConfig = {MathJaxConfig: 'local'};</script>\n",
              "        <script charset=\"utf-8\" src=\"https://cdn.plot.ly/plotly-2.35.2.min.js\"></script>                <div id=\"21b6c8b0-f67d-4656-8ca1-d13c23013d21\" class=\"plotly-graph-div\" style=\"height:525px; width:100%;\"></div>            <script type=\"text/javascript\">                                    window.PLOTLYENV=window.PLOTLYENV || {};                                    if (document.getElementById(\"21b6c8b0-f67d-4656-8ca1-d13c23013d21\")) {                    Plotly.newPlot(                        \"21b6c8b0-f67d-4656-8ca1-d13c23013d21\",                        [{\"contours\":{\"coloring\":\"heatmap\"},\"hovertemplate\":\"Pit_Time=%{x}\\u003cbr\\u003eLap_Pitted=%{y}\\u003cbr\\u003ecount=%{z}\\u003cextra\\u003e\\u003c\\u002fextra\\u003e\",\"legendgroup\":\"\",\"line\":{\"color\":\"#636efa\"},\"name\":\"\",\"showlegend\":false,\"x\":[23.993,38.338,24.373,24.899,24.925,24.884,31.998,24.839,24.688,24.107,25.226,24.621,26.046,25.798,24.353,25.046,24.262,24.767,24.105,24.317,24.626,24.076,25.525,24.046,24.775,32.897,24.223,24.471,24.176,24.655,23.983,25.64,24.328,25.343,24.248,24.341,24.191,23.848,24.983,24.566,30.866,32.024,51.007,31.168,31.068,31.184,32.479,39.502,31.5,30.696,29.983,30.28,29.809,32.277,30.856,34.34,31.138,32.112,32.299,30.652,31.002,44.608,30.654,30.167,30.864,38.198,30.701,null,null,null,null,null,null,null,null,null,null,null,null,null,null,null,null,null,null,null,null,null,null,57.601,56.733,56.083,52.043,51.222,49.729,29.742,21.377,22.426,22.718,22.029,21.89,21.407,21.275,21.323,21.353,21.398,23.532,22.485,21.965,21.452,22.266,22.264,21.97,22.019,21.372,22.072,22.164,22.104,22.244,22.1,22.551,22.24,22.587,22.319,21.75,22.755,22.669,22.355,21.621,22.542,22.176,21.73,21.454,21.404,25.892,26.202,26.952,27.033,26.62,26.729,26.172,26.595,27.082,26.843,27.186,27.245,26.743,26.938,26.907,26.027,26.442,28.639,26.984,26.607,26.573,26.319,54.673,23.814,26.672,28.042,22.043,23.087,21.779,21.756,23.098,22.311,22.798,21.864,24.006,23.565,22.406,22.382,21.424,22.22,21.613,21.919,21.572,21.973,21.432,22.871,22.078,22.502,21.762,21.856,26.065,22.405,22.31,22.467,21.638,21.345,22.292,21.592,23.479,23.783,23.874,24.428,24.369,23.928,24.15,24.521,23.746,24.548,25.202,24.715,23.935,24.797,24.077,23.703,23.803,23.474,24.43,24.244,19.97,20.402,20.168,20.533,22.44,19.836,20.253,22.149,21.759,20.064,22.47,20.156,20.356,20.082,19.769,21.874,20.048,19.841,19.983,20.193,20.029,null,21.958,21.587,24.78,15.432,15.277,14.945,15.085,15.092,14.943,15.866,15.119,14.994,15.432,15.064,14.881,21.438,21.346,15.054,15.058,null,null,null,null,null,null,null,null,null,null,null,null,null,null,null,null,null,null,30.798,30.226,31.457,29.951,30.572,30.534,30.781,30.092,29.803,31.288,29.775,30.263,29.682,30.531,30.207,30.586,30.983,30.123,31.327,30.996,31.069,31.368,28.386,26.419,22.759,21.21,37.309,23.477,21.953,21.234,46.315,21.752,21.131,21.546,21.219,20.936,20.936,21.692,22.4,21.227,21.238,21.924,21.226,21.41,20.961,21.64,21.129,21.145,22.564,21.391,21.086,22.0,21.151,27.122,26.474,21.071,21.606,21.005,21.09,21.735,22.663,21.152,21.143,21.798,21.896,20.85,23.182,21.472,21.431,20.841,26.604,21.421,21.236,null,null,null,null,null,null,null,null,null,null,null,null,null,null,null,null,null,null,null,28.11,27.892,27.812,28.145,28.772,27.543,28.817,31.706,28.209,28.213,28.137,29.743,29.319,29.253,40.266,37.509,28.685,28.433,29.134,27.848,28.18,29.082,22.569,23.715,38.267,26.573,null,null,null,null,null,null,null,null,null,null,null,null,null,null,null,39.522,40.882,42.786,40.74,39.081,37.122,29.374,35.451,36.813,39.839,34.492,35.245,36.899,21.731,29.191,36.457,21.516,21.623,21.047,22.186,21.819,22.704,21.295,21.951,21.874,22.113,22.703,21.642,21.523,20.848,21.208,21.172,21.543,35.573,19.287,18.664,19.77,19.142,20.646,19.163,19.049,18.634,19.389,19.449,18.873,20.327,19.24,19.85,24.578,19.018,20.043,19.999,19.49,18.868,18.578,19.708,20.443,18.681,18.555,21.73,19.202,25.533,37.19,23.812,25.157,32.456,24.168,24.714,24.168,24.928,25.619,24.846,24.797,30.551,24.557,23.906,24.283,24.308,30.333,24.156,24.501,25.927,24.806,30.917,30.241,30.665,30.056,30.112,30.715,30.127,29.901,30.102,29.996,33.617,29.878,29.578,29.242,29.824,29.936,29.354,31.849,36.026,30.157,30.081,32.081,29.569,30.131,33.931,30.98,31.017,30.677,31.016,43.124,30.045,30.972,30.702,32.313,32.128,31.915,33.264,33.961,32.67,32.648,23.028,29.116,23.239,24.104,23.329,23.551,22.442,28.353,23.829,23.5,22.962,22.463,23.164,23.514,29.31,35.509,23.892,23.15,23.646,22.684,30.673,40.8,32.61,23.576,23.993,23.802,23.572,23.727,24.385,23.745,24.176,23.414,24.293,25.018,24.011,24.191,24.481,24.444,24.977,23.827,24.611,23.653,23.919,23.502,23.844,24.052,26.866,23.604,24.036,25.548,24.09,24.98,23.805,23.529,23.619,23.455,24.247,23.676,23.849,24.169,23.314,38.128,22.463,23.681,23.586,25.094,23.1,21.984,22.205,22.373,22.085,22.549,22.424,21.908,22.277,26.056,22.813,23.985,22.114,31.664,22.031,22.534,22.739,23.637,22.68,26.443,27.313,31.939,22.978,17.758,17.719,17.916,18.308,17.91,17.899,17.943,18.46,18.107,19.439,19.285,19.732,17.751,17.948,17.713,17.995,17.861,18.153,18.327,20.844,17.711,17.673,17.807,18.136,18.66,17.837,17.771,18.373,17.896,18.608,17.818,18.347,17.705,17.935,17.929,18.467,18.588,18.784,18.763,18.179,18.499,19.176,41.173,22.936,24.997,23.116,22.69,23.321,22.722,22.667,23.165,24.464,23.541,23.618,23.263,25.597,22.839,23.504,24.375,23.546,24.211,35.416,22.958,22.766,22.856,23.132,22.656,22.83,22.664,23.039,23.064,22.666,22.745,22.978,24.627,22.916,25.659,26.174,25.63,25.987,25.3,26.121,25.235,25.811,25.419,25.881,25.991,26.157,25.517,25.319,25.562,25.726,25.639,25.799,25.633,26.515,25.347,36.341,26.674,26.109,25.175,25.42,25.381,26.552,35.006,25.465,27.165,20.519,20.58,21.668,20.531,20.71,20.973,20.405,24.22,null,null,null,null,null,null,null,null,null,null,null,null,null,null,null,null,null,null,null,null,null,null,null,null,null,null,null,null,null,null,null,null,null,null,null,27.874,34.489,21.097,22.124,21.152,21.595,22.461,21.677,21.38,22.283,21.449,22.213,21.471,22.288,22.338,22.455,21.221,21.241,21.669,21.173,21.871,21.413,21.304,22.133,22.173,21.453,22.056,22.661,21.385,22.07,21.909,21.92,23.28,23.229,23.659,21.417,21.937,21.85,21.279,23.637,22.383,22.756,23.827,22.231,22.466,22.769,21.683,22.058,21.842,21.921,21.972,21.622,21.569,22.738,21.918,21.805,22.8,16.407,16.365,16.546,17.035,18.163,18.748,19.911,20.064,19.626,19.656,19.33,19.488,19.678,39.715,20.937,21.95,21.729,21.977,25.983,22.745,22.118,21.376,21.697,21.505,22.197,21.603,22.444,22.761,22.406,21.667,21.459,22.28,21.873,21.091,23.568,22.266,21.906,22.32,23.081,28.286,23.263,27.131,23.046,21.596,22.74,22.299,21.529,21.92,24.281,23.012,21.184,22.283,36.335,22.685,21.367,22.564,23.082,21.88,21.86,21.644,28.367,27.128,22.174,22.591,22.534,23.621,22.051,22.742,21.268,22.264,22.438,21.831,21.802,22.073,21.572,22.048,22.057,25.767,22.426,28.834,29.559,30.289,30.768,29.439,29.414,28.355,36.59,29.302,31.371,28.805,30.571,28.208,29.52,28.487,28.716,33.308,33.816,44.085,28.273,33.602,36.278,28.417,28.356,27.892,28.391,28.934,28.696,27.949,28.408,28.406,28.587,28.981,29.377,28.235,29.419,28.036,29.389,35.864,28.093,28.167,28.306,28.331,29.115,28.167,29.296,28.086,28.874,28.386,27.858,27.974,28.986,28.188,28.352,27.693,28.772,28.365,28.057,29.803,28.692,29.402,28.736,29.049,21.663,22.708,22.314,21.532,22.241,22.099,23.036,22.243,22.078,23.377,22.31,22.351,24.148,22.322,22.641,22.274,21.82,23.212,22.366,21.837,21.889,21.804,21.601,22.166,22.388,22.394,21.761,22.197,22.079,21.794,22.143,21.853,22.475,24.01,22.607,40.078,26.335,24.344,24.454,24.096,24.671,23.998,24.398,24.612,26.693,25.498,24.41,26.149,25.29,25.92,29.661,25.936,25.249,null,null,null,null,null,null,null,null,null,null,null,null,null,null,null,null,null,31.643,31.48,30.623,33.583,17.56,17.536,17.516,17.591,17.625,17.464,17.531,17.845,17.522,18.399,17.455,17.594,17.516,24.781,null,null,null,null,null,null,null,null,null,null,null,null,null,23.469,22.777,33.281,23.088,22.995,23.72,24.137,23.113,23.638,22.846,23.111,22.445,22.387,23.367,28.96,23.199,24.002,22.963,22.822,23.002,24.82,22.745,23.367,22.489,22.8,null,null,null,null,null,null,null,null,null,null,null,null,30.165,30.211,37.108,29.433,30.112,41.352,29.767,30.054,29.862,30.068,29.77,30.188,29.602,28.748,29.75,30.111,30.261,29.662,29.395,33.317,29.409,29.988,31.368,29.675,23.562,22.56,22.865,22.616,22.496,22.625,23.016,24.737,22.482,23.983,22.106,22.159,30.826,22.88,22.641,23.635,21.991,22.7,22.625,24.063,23.114,23.111,22.772,24.366,22.53,22.503,23.18,22.568,22.917,22.686,33.016,22.527,22.612,26.177,29.061,26.999,34.807,36.314,26.287,26.394,26.739,27.211,27.299,26.985,26.666,27.204,26.473,27.3,26.94,37.483,32.991,27.162,26.512,27.75,26.635,25.882,28.535,32.943,36.189,30.422,29.745,29.707,30.243,29.683,30.559,30.204,30.277,29.77,29.95,29.427,29.6,29.985,30.708,30.382,30.566,29.892,40.497,29.863,31.199,30.129,30.555,29.809,30.614,30.925,29.934,36.63,30.203,29.552,25.719,24.275,23.398,24.022,23.86,30.765,24.552,25.432,23.417,26.686,23.73,24.738,22.684,25.163,23.47,23.91,23.669,23.475,24.256,22.602,22.518,23.687,31.356,23.208,22.692,25.401,23.537,23.288,22.49,null,23.65,23.686,31.422,36.599,22.787,22.888,22.853,23.18,null,null,null,null,null,null,null,null,null,null,null,null,null,null,null,null,null,null,null,38.297,24.936,24.617,24.076,37.317,32.278,24.679,24.061,24.172,24.622,24.317,24.029,24.145,24.774,24.511,24.248,25.199,24.398,24.734,25.924,24.135,26.95,23.848,25.254,24.345,24.589,24.817,24.024,24.666,24.675,25.502,27.146,25.444,24.855,25.27,23.906,24.836,25.793,24.214,24.885,28.518,24.81,25.474,24.101,24.297,24.162,25.077,24.474,26.216,24.863,27.681,24.414,24.684,24.708,24.507,23.874,24.552,24.577,24.232,24.245,26.393,28.08,24.551,25.466,25.688,24.401,24.853,24.695,40.028,28.765,52.874,23.645,24.724,24.686,24.809,25.78,24.235,21.289,21.587,22.406,21.508,21.84,22.14,22.036,22.0,25.724,21.615,22.012,22.085,26.329,21.357,22.178,21.48,22.714,28.501,22.04,22.384,22.123,23.098,23.217,32.997,33.027,23.299,21.588,23.234,21.995,22.388,21.78,21.515,29.981,21.627,22.014,21.157,22.086,21.689,22.471,27.172,22.306,22.343,21.269,21.543,21.889,34.338,32.082,45.543,27.136,25.647,27.557,25.659,24.175,24.948,24.199,24.667,24.865,25.498,26.508,24.633,24.518,24.255,24.228,27.725,26.6,25.676,25.034,24.842,24.912,24.313,26.729,25.253,25.621,26.798,24.324,24.717,24.212,24.358,24.433,34.193,30.761,25.982,24.484,24.88,24.985,45.878,50.738,17.257,25.184,23.261,23.964,24.107,23.223,33.638,22.749,23.506,22.301,23.215,23.733,23.466,22.196,22.644,22.921,24.332,23.888,26.05,32.627,25.137,43.206,23.383,22.365,22.316,22.524,23.52,23.597,24.083,22.532,22.722,24.227,23.515,23.965,22.408,21.013,21.401,20.118,20.776,21.325,19.819,20.939,23.099,20.884,19.981,20.006,19.755,20.72,19.993,20.973,15.069,21.037,20.475,20.382,20.87,20.906,20.751,22.08,20.859,20.703,19.857,22.381,23.746,22.417,22.049,22.563,23.321,22.025,22.379,21.468,22.781,23.646,23.591,22.034,22.379,21.579,22.265,22.342,21.954,22.442,22.193,21.643,23.507,22.54,22.018,33.821,22.992,37.345,22.511,22.702,22.896,21.846,21.638,22.549,22.142,22.095,22.732,21.545,25.532,25.964,26.165,24.266,25.03,24.483,24.011,24.269,25.419,28.463,24.776,25.705,23.946,24.161,23.795,24.023,24.591,25.062,35.651,26.299,25.026,24.219,23.858,37.95,24.727,25.342,23.485,23.927,25.21,23.686,24.076,23.825,24.03,23.782,23.662,23.994,23.732,23.884,24.071,23.119,24.381,23.727,23.426,24.666,23.456,30.842,31.031,30.832,30.228,30.576,37.286,29.92,30.118,30.203,30.412,30.186,29.792,30.044,30.279,31.95,29.975,30.837,30.233,37.494,30.884,31.697,30.849,30.468,23.243,16.224,21.525,22.552,25.236,21.878,21.709,21.672,21.547,22.239,21.982,21.985,22.772,22.33,30.067,21.11,25.091,22.265,21.225,21.266,22.305,22.251,22.309,33.562,32.767,27.905,28.416,29.377,28.558,27.827,28.275,28.954,28.926,30.4,28.493,28.364,30.264,28.905,28.021,27.95,27.98,28.381,28.694,28.348,28.811,30.245,38.032,27.919,38.468,29.074,28.177,28.747,20.094,20.576,20.203,22.243,22.358,27.256,22.132,20.361,27.232,29.667,23.363,22.509,21.224,23.09,21.402,22.696,20.718,23.801,21.106,22.102,20.118,21.179,20.768,20.436,19.64,19.287,21.488,20.242,21.26,20.498,22.307,20.879,19.875,21.625,20.317,21.501,19.964,22.947,21.732,22.058,21.142,20.552,20.096,24.31,22.421,null,21.472,20.624,21.962,21.359,21.142,19.626,19.327,21.256,20.622,20.472,19.345,20.38,20.152,20.671,20.285,19.062,21.009,20.711,20.012,19.931,21.423,20.37,27.069,20.93,19.586,28.093,21.634,20.015,19.61,20.7,19.825,23.445,33.328,23.218,21.333,22.085,21.901,21.754,22.035,23.002,21.705,21.575,26.066,22.104,23.676,21.832,22.205,22.88,21.734,21.618,24.819,21.744,22.498,21.39,21.563,21.164,31.211,32.443,26.481,31.851,18.838,23.912,32.393,23.833,24.4,25.698,24.419,24.311,24.198,29.83,23.7,24.568,27.01,24.303,24.479,25.34,24.363,24.092,31.842,24.32,25.121,24.978,24.376,23.86,23.731,29.563,38.752,null,28.799,29.082,29.992,29.403,29.384,28.846,29.168,28.606,30.397,29.033,29.234,29.456,28.93,29.482,32.482,29.07,30.756,43.576,29.152,34.711,30.623,28.96,39.188,30.321,29.46,30.916,30.587,36.031,38.193,30.177,25.038,34.264,29.29,30.103,29.548,30.271,29.86,29.935,30.509,30.168,30.753,29.857,30.227,36.512,29.751,29.436,29.978,29.854,29.786,29.571,29.401,30.502,25.347,23.354,24.468,24.032,23.478,23.0,24.156,23.18,23.292,23.351,24.132,22.88,23.582,26.734,23.58,23.949,23.792,23.476,23.293,23.292,23.213,23.301,22.97,23.157,23.164,23.301,23.591,23.28,23.973,23.412,24.493,22.689,22.49,null,22.192,22.002,22.241,22.754,22.484,22.357,43.411,24.606,22.887,22.269,23.084,22.179,22.179,21.862,22.745,24.128,25.786,22.003,22.033,22.618,22.345,22.963,22.57,34.1,24.567,24.164,23.716,24.151,25.23,24.784,24.544,24.929,24.678,24.195,29.157,23.213,23.751,27.115,23.702,23.943,24.207,24.583,24.245,25.195,23.444,23.819,23.684,24.162,24.206,23.705,24.686,24.731,23.844,25.776,28.748,24.26,30.76,23.079,22.882,23.155,23.861,22.818,23.463,22.922,22.759,22.5,23.073,23.039,23.148,23.776,23.381,23.344,23.891,23.346,22.966,22.77,29.268,29.491,23.21,23.088,22.657,23.596,23.142,23.524,23.378,23.584,23.841,23.138,23.071,22.593,23.355,24.841,23.479,23.042,22.747,24.873,23.199,23.471,23.06,22.441,23.158,null,28.842,22.974,21.977,21.904,21.697,25.771,21.928,22.028,21.578,21.968,21.531,22.41,21.778,21.688,21.023,22.178,22.188,21.145,22.272,22.23,21.274,21.858,21.496,21.466,21.624,22.213,21.421,21.821,22.242,20.953,21.983,23.868,22.296,21.854,23.054,22.628,22.327,22.474,21.664,25.504,21.787,21.44,22.573,22.836,21.397,30.381,25.563,24.992,25.081,33.612,25.106,24.993,24.835,24.454,24.719,25.768,24.524,25.011,25.018,26.105,36.646,24.672,25.194,24.302,25.307,24.629,25.131,25.527,24.638,24.677,24.957,25.139,24.596,24.382,24.581,25.693,24.953,26.263,23.172,23.281,23.935,22.856,23.654,22.981,22.715,23.042,22.464,22.097,23.009,23.95,23.392,23.73,22.661,22.973,22.913,23.716,24.11,22.785,22.596,24.07,22.691,23.297,23.117,22.637,34.65,22.334,22.723,23.735,30.012,21.376,56.71,35.608,44.107,28.109,21.725,20.782,21.516,21.103,25.378,20.377,20.809,19.737,21.058,20.887,20.037,19.925,32.629,19.765,20.192,20.823,21.778,21.329,21.287,21.072,21.149,20.76,26.174,22.757,20.967,22.03,21.236,21.371,14.998,20.978,22.631,22.049,22.054,23.213,21.995,21.351,21.721,22.034,22.085,22.409,22.438,47.91,22.917,21.618,22.472,21.74,27.416,22.1,24.273,22.242,23.865,31.81,33.887,23.739,24.326,23.87,24.741,23.964,24.874,24.542,24.263,24.02,24.237,24.291,24.241,25.17,26.817,29.379,24.663,31.104,24.296,24.111,25.563,25.213,24.852,24.568,25.438,41.008,23.529,24.086,25.353,24.521,24.416,23.137,23.335,23.279,23.099,23.666,24.008,24.107,23.531,23.645,23.775,23.529,23.718,24.4,23.537,26.576,26.273,25.789,32.612,27.955,24.395,25.423,24.309,25.419,25.026,24.31,24.289,29.996,24.295,25.016,24.297,30.666,31.029,24.399,24.788,46.557,21.214,21.552,21.95,23.912,22.121,22.527,23.257,22.181,22.011,21.364,21.588,23.048,21.245,22.863,22.138,26.335,21.259,22.526,21.519,20.98,24.884,22.299,38.573,28.669,28.651,28.458,29.074,28.194,27.865,29.41,28.677,28.719,28.676,27.894,28.284,28.224,28.207,28.982,28.45,29.254,28.001,27.774,28.085,28.078,29.766,28.836,28.174,28.0,28.985,28.658,19.647,19.584,19.818,20.16,19.267,20.198,25.13,18.657,19.57,19.476,19.188,19.309,24.173,19.742,19.778,18.956,18.84,18.978,21.2,21.119,19.806,19.297,20.653,19.512,19.087,20.927,19.637,19.526,20.752,33.279,22.738,34.742,21.711,19.988,19.985,19.621,20.812,19.752,27.736,20.53,22.64,24.471,21.337,22.561,21.966,21.831,21.48,21.914,21.733,25.126,21.509,21.684,21.829,23.111,21.795,22.258,21.732,21.364,21.291,22.65,25.234,24.805,32.219,29.992,38.563,23.862,24.779,24.094,24.003,23.728,24.301,27.792,24.084,26.44,23.763,25.245,24.827,25.655,25.774,24.456,25.575,30.477,28.722,29.912,28.946,31.183,28.542,29.517,29.681,29.978,29.513,28.931,29.408,28.779,30.561,29.464,30.711,30.242,29.922,29.31,24.34,28.767,30.234,28.86,34.022,29.324,29.418,30.348,29.266,30.469,29.904,30.397,30.642,29.912,30.051,29.636,29.794,29.924,29.798,29.551,29.531,30.021,30.625,30.146,37.446,29.37,29.007,38.891,23.66,23.244,23.657,22.781,28.789,22.777,22.864,23.159,22.614,23.635,23.316,22.748,27.454,23.11,23.692,23.376,23.555,23.477,26.672,23.647,29.804,34.812,41.048,35.104,18.61,23.686,24.065,23.865,23.693,23.714,23.446,24.534,23.478,24.681,29.319,25.723,24.449,23.819,23.715,23.723,23.94,23.915,24.219,24.296,24.195,27.806,22.055,22.57,24.451,22.269,22.105,22.66,22.732,22.022,23.037,22.174,22.175,22.588,31.406,22.658,22.017,23.371,23.553,23.055,23.755,22.756,22.39,22.733,21.777,22.399,22.088,23.887,23.426,22.512,33.753,23.273,24.608,22.955,23.377,22.641,23.757,23.939,22.551,22.618,22.766,23.403,23.432,23.593,23.3,23.505,27.226,23.115,23.77,23.422,22.683,23.046,31.198,22.727,24.283,41.012,21.283,21.828,22.354,22.63,21.6,21.057,21.979,22.112,21.726,22.493,21.061,22.317,22.755,21.964,21.289,22.189,21.587,31.336,22.293,39.562,22.154,28.591,22.484,23.13,21.709,22.045,21.762,21.568,21.988,21.44,22.208,22.033,22.38,23.159,25.559,22.189,24.026,23.55,22.906,24.016,24.25,23.123,24.03,23.809,27.934,17.673,30.654,25.146,29.443,22.999,32.287,17.34,23.847,23.071,17.354,17.337,33.491,17.304,17.32,17.324,17.416,17.296,17.291,17.325,17.336,17.341,17.303,17.616,23.613,17.877,17.651,17.343,17.362,17.34,17.302,17.324,17.321,17.312,17.298,17.356,17.291,17.295,17.362,17.344,24.114,17.737,17.48,17.435,17.421,17.323,17.37,17.302,17.374,17.322,17.377,18.225,17.299,17.366,17.301,17.292,17.359,17.344,17.314,23.057,23.451,22.84,22.505,23.993,23.463,22.505,40.144,22.443,24.317,22.668,23.211,23.119,22.926,22.517,22.979,24.915,24.702,25.174,24.664,26.542,26.43,25.075,25.001,28.368,25.312,30.687,25.704,26.634,24.332,24.922,27.466,25.204,24.54,24.965,24.314,25.576,24.63,25.135,24.723,25.856,24.24,24.505,26.42,25.2,30.682,25.246,30.006,32.235,31.266,30.799,29.923,36.559,29.991,30.655,29.973,35.998,30.253,29.791,29.356,29.868,30.152,29.567,29.739,30.097,30.28,29.92,22.235,40.612,23.159,22.69,22.1,22.547,22.703,22.432,22.292,22.499,22.49,22.616,25.082,22.995,22.866,21.544,21.811,22.762,21.689,23.354,22.775,23.445,23.814,22.362,22.117,22.071,23.066,23.107,22.643,21.934,22.641,21.722,22.307,21.918,24.75,22.923,25.052,25.813,24.465,31.313,25.343,24.308,24.833,24.949,24.406,24.299,24.427,24.979,24.183,24.353,24.306,24.496,26.057,24.66,26.69,26.04,25.472,24.768,24.155,25.678,24.642,25.123,25.026,25.248,35.485,31.256,51.757,31.596,26.764,24.423,24.047,18.088,23.5,23.309,23.229,22.946,22.79,23.061,23.409,24.202,23.76,23.526,23.267,28.869,23.345,null,36.262,20.776,23.361,21.423,20.418,20.059,20.598,23.237,21.453,20.493,20.407,20.391,21.217,21.04,23.906,31.122,22.625,21.263,20.198,22.356,21.069,15.234,15.174,15.278,15.033,15.061,15.049,15.327,15.638,15.135,15.128,15.104,14.966,15.097,15.073,26.051,34.847,14.978,null,31.657,null,22.39,null,null,null,null,null,null,null,null,null,null,null,null,null,null,null,27.025,29.317,20.446,14.951,14.943,24.486,33.607,16.139,21.977,20.761,21.714,21.713,21.75,22.233,22.339,22.03,21.332,22.414,22.026,22.387,21.659,22.176,21.662,16.206,20.977,22.274,45.538,29.861,29.941,22.895,28.363,29.147,29.194,28.269,29.849,28.942,28.361,28.476,30.841,27.733,27.583,29.337,28.63,28.825,31.25,27.858,27.91,28.099,28.335,28.998,29.057,28.056,35.204,25.179,24.213,22.638,22.998,21.804,22.681,21.338,22.684,22.317,21.919,24.017,22.399,22.399,22.745,22.441,22.273,33.605,28.616,31.86,22.684,24.097,33.433,39.888,24.418,24.384,24.865,25.367,24.432,26.131,25.31,25.826,25.212,25.078,31.008,24.173,24.442,24.307,23.725,25.377,23.728,24.307,23.951,30.442,30.737,31.032,30.709,30.444,30.785,31.55,31.793,32.689,32.701,33.077,36.9,37.403,38.464,39.455,40.125,40.506,24.368,24.402,25.093,25.315,25.367,26.206,26.553,26.532,27.452,26.903,27.015,29.306,29.294,30.79,31.32,38.886,45.875,24.337,24.362,24.964,25.288,25.432,25.113,24.543,24.664,25.356,25.509,25.003,25.626,25.584,25.731,26.228,27.591,27.865,29.658,30.128,31.336,30.132,30.725,30.015,30.39,31.714,29.685,32.249,30.504,30.048,29.412,30.093,36.138,29.049,29.173,50.617,29.118,29.089,30.005,29.186,28.466,31.094,30.038,30.067,29.671,null,29.134,29.379,32.183,24.456,24.872,23.766,23.791,24.912,24.109,25.044,24.58,25.558,23.489,25.798,23.652,23.695,23.676,24.199,24.314,24.419,25.06,24.719,25.714,24.424,24.918,23.475,23.43,22.956,23.065,24.078,22.62,23.634,22.724,23.344,22.781,23.796,24.636,24.952,23.699,22.876,23.399,22.736,23.199,25.618,24.413,25.112,31.334,24.4,24.949,23.604,24.326,24.502,23.796,24.3,24.897,24.883,23.459,23.402,24.525,23.575,25.841,24.325,23.578,23.772,24.229,24.497,23.423,23.62,25.268,23.254,32.037,29.283,22.852,22.055,23.358,22.903,22.587,22.665,22.736,22.507,28.044,22.57,22.709,28.761,21.758,23.315,23.035,22.54,21.825,22.379,22.655,22.528,23.035,19.097,18.717,19.433,18.827,18.487,18.238,18.417,18.927,19.208,19.43,19.603,19.936,20.146,26.439,25.845,19.377,25.946,17.817,17.827,18.027,17.913,17.77,17.736,17.959,18.549,18.604,18.855,19.25,19.439,19.27,19.237,19.16,18.86,17.929,17.842,17.784,18.29,18.017,17.716,17.745,17.822,18.052,18.347,18.207,17.802,17.738,17.925,18.725,18.764,18.456,18.129,23.064,23.275,23.83,22.736,23.18,23.342,22.486,23.17,24.054,23.55,23.275,23.121,23.484,23.748,24.164,34.438,22.644,24.756,21.613,22.125,21.269,21.609,21.869,29.724,23.477,21.221,21.478,22.541,21.449,21.875,21.274,21.598,22.959,21.543,21.519,22.176,21.865,21.956,21.85,21.908,27.831,22.414,22.701,21.55,26.206,22.357,21.531,22.245,21.796,23.286,23.224,21.339,22.303,22.616,22.508,21.94,22.167,24.719,21.376,22.079,null,null,null,null,null,null,null,null,null,null,null,null,null,null,null,null,null,null,16.936,21.837,22.392,29.066,23.895,24.548,21.981,31.931,30.326,28.401,24.541,24.093,24.944,32.793,24.604,19.369,25.81,26.246,25.739,26.236,24.72,26.876,26.382,24.934,24.512,24.775,25.068,24.419,24.93,34.978,26.631,24.383,24.682,25.594,26.151,25.03,25.222,24.236,25.363,25.547,27.226,25.491,28.12,24.661,26.11,24.734,25.257,24.517,24.341,25.761,30.063,24.524,25.316,25.419,24.879,24.224,25.517,25.129,25.66,26.595,58.563,31.134,29.322,36.854,24.392,24.084,23.215,27.683,30.115,24.072,25.754,22.682,30.034,23.955,23.158,25.179,22.301,23.296,26.969,22.799,22.874,22.276,23.867,22.485,23.183,22.607,22.124,22.832,22.461,23.878,22.831,23.744,23.257,24.615,23.735,22.63,22.626,23.28,29.57,23.029,24.104,22.351,23.563,24.635,22.747,22.698,23.349,22.927,24.269,23.342,22.963,22.684,22.35,22.677,23.559,22.426,22.832,24.099,23.13,25.357,24.369,23.07,24.274,22.51,23.284,22.79,41.282,47.763,30.529,32.8,40.169,38.906,25.037,30.805,30.259,31.433,30.805,29.841,30.585,30.001,31.42,29.551,30.498,30.58,29.709,29.751,30.553,30.4,30.433,31.205,57.151,30.065,21.384,22.679,23.277,22.84,22.874,22.28,22.176,22.843,21.738,21.795,23.283,24.554,22.369,22.107,21.856,22.976,21.643,23.187,23.206,28.753,23.122,22.568,22.234,22.104,22.617,22.844,22.43,23.165,22.397,24.387,22.348,22.169,21.918,22.59,23.09,21.603,34.832,22.937,22.443,22.987,22.897,21.831,21.683,26.186,22.769,22.122,23.133,null,19.918,25.583,25.766,28.242,27.698,27.176,29.117,25.604,25.114,25.512,25.215,27.364,33.49,26.044,26.698,24.934,27.738,25.714,38.811,25.054,26.435,25.608,25.45,25.879,25.478,25.111,26.315,27.68,25.561,27.064,28.112,25.459,26.517,35.327,26.836,27.407,25.182,27.166,31.241,27.38,26.292,45.7,24.673,33.342,23.987,22.597,22.82,24.784,23.517,23.412,22.957,29.732,27.952,23.68,23.0,23.586,22.872,22.466,22.876,22.925,22.184,22.243,22.556,23.263,23.608,22.361,24.018,24.516,23.055,23.299,23.162,23.928,22.627,25.069,22.909,24.757,32.114,24.445,22.728,23.111,33.405,22.028,20.069,20.282,24.802,19.84,20.185,20.772,19.445,20.67,20.593,29.227,21.132,20.965,20.108,20.614,21.083,19.732,20.422,20.347,22.497,20.058,20.155,20.654,20.713,20.64,20.559,23.588,21.03,19.858,26.187,21.533,20.561,22.601,21.924,22.859,21.047,22.605,21.883,21.89,22.033,21.745,21.097,22.98,22.613,21.183,21.945,22.918,22.053,21.916,23.738,21.58,22.035,22.662,22.879,21.412,23.326,17.959,18.064,16.983,17.165,19.408,21.206,20.876,20.929,33.462,18.307,18.86,17.721,17.388,16.851,16.764,16.544,16.419,16.227,16.475,16.218,18.22,18.342,18.716,18.455,18.347,18.455,17.8,17.739,18.964,19.554,19.611,19.015,18.382,18.194,17.97,19.041,19.028,18.636,18.308,17.828,21.921,22.707,27.119,27.834,22.728,24.326,25.234,21.639,22.109,21.035,21.231,22.284,29.578,29.808,30.747,30.786,32.374,31.381,31.632,41.508,30.804,31.812,30.198,29.243,30.315,30.093,29.784,29.998,30.343,29.395,31.995,29.475,30.981,35.393,null,29.163,30.462,29.403,30.327,29.282,30.143,30.882,55.697,28.728,29.715,28.915,29.813,29.895,29.867,28.799,29.588,29.201,29.884,30.135,29.429,41.486,29.346,28.936,28.45,22.229,23.486,16.486,22.778,21.64,22.427,22.014,22.241,22.099,22.828,21.441,22.389,22.96,21.704,21.233,23.873,21.99,22.105,21.793,21.892,22.689,22.718,21.951,24.254,22.006,22.765,22.303,22.051,22.52,21.687,23.35,21.665,22.965,29.941,21.773,21.535,22.351,22.417,21.405,21.897,23.198,27.951,21.857,23.308,22.366,19.298,23.243,29.865,19.233,22.751,18.59,19.017,19.693,19.034,18.964,18.796,19.608,19.813,19.23,19.427,31.317,18.65,22.393,19.258,20.148,20.301,19.944,20.099,26.688,36.395,19.626,18.936,19.223,19.137,19.44,20.227,19.747,19.472,19.124,19.142,19.144,19.159,18.738,20.919,19.183,18.504,19.318,19.755,19.379,19.863,28.364,19.907,18.967,18.979,19.0,19.725,19.268,18.475,19.525,19.658,19.127,19.326,19.264,21.186,19.547,33.275,27.786,null,24.161,24.61,26.843,25.183,24.043,24.505,24.116,24.537,26.427,36.594,25.472,23.745,23.94,25.962,25.15,25.301,25.145,25.55,23.633,24.033,25.34,23.899,23.757,25.033,25.539,24.553,23.694,24.363,24.279,25.515,23.827,23.822,23.633,24.418,24.341,24.082,26.35,25.925,24.453,24.874,24.649,24.584,25.973,25.74,25.929,25.816,26.135,32.821,26.519,42.815,32.709,24.308,24.343,25.057,25.211,24.342,29.846,29.706,28.847,28.815,29.401,28.89,29.15,30.301,28.78,28.998,30.546,28.682,29.041,28.759,30.297,30.307,30.532,null,28.924,28.742,29.468,28.948,29.32,29.025,29.578,28.545,28.921,28.97,null,29.135,28.421,30.381,28.804,29.537,30.614,30.16,30.471,29.68,29.205,29.754,29.391,29.903,28.854,28.315,28.954,28.662,42.368,29.377,32.413,23.528,30.679,30.782,24.425,23.935,27.024,24.738,26.609,25.195,23.75,25.82,25.368,23.689,24.584,24.4,24.197,25.272,24.814,23.856,24.061,24.012,23.828,24.338,26.156,24.661,23.928,33.338,23.778,24.412,23.947,24.697,24.645,24.473,24.706,25.006,24.809,23.92,25.192,24.408,28.274,24.718,23.476,25.201,22.786,22.855,22.996,23.741,22.99,22.832,24.11,22.673,23.226,23.244,23.605,24.973,22.989,22.986,24.63,24.375,22.943,22.463,23.452,23.072,25.131,22.762,25.007,24.011,23.032,22.788,22.952,23.792,23.15,22.721,25.429,24.256,25.861,22.732,25.461,22.887,23.342,22.938,27.098,23.956,23.989,23.489,23.526,23.613,24.523,23.35,23.601,24.093,24.778,23.683,24.47,24.31,26.059,24.433,24.071,25.229,25.216,25.222,37.837,23.845,23.534,36.112,24.766,27.532,24.467,26.056,24.103,25.635,23.812,23.903,24.244,24.281,25.3,23.575,25.182,24.149,25.384,23.898,24.665,24.156,23.464,22.087,23.897,32.608,22.957,21.775,22.747,22.271,25.198,22.665,22.134,21.863,23.866,22.461,21.709,22.438,22.396,21.997,22.398,22.213,22.035,22.974,25.171,22.865,23.11,23.54,22.443,23.678,22.384,24.986,24.192,24.821,24.724,29.421,25.758,24.745,25.395,29.981,25.147,24.186,24.623,25.355,24.656,null,null,null,null,null,null,null,null,null,null,null,null,null,null,null,null,null,null,24.282,null,null,null,null,null,null,null,null,null,null,null,null,null,null,null,null,null,null,29.754,25.006,24.994,29.621,24.265,24.435,24.754,17.835,24.521,25.509,24.041,27.068,21.761,33.395,22.6,21.959,22.428,24.781,23.272,23.753,21.711,21.834,21.775,22.032,21.896,22.084,21.308,22.838,21.221,22.145,24.035,21.768,22.949,22.087,21.482,22.012,21.355,22.102,21.935,21.218,21.539,23.026,29.933,21.872,22.248,22.527,22.991,22.588,22.681,27.465,22.062,22.137,22.535,22.694,55.789,22.295,22.933,22.105,23.254,23.353,23.532,26.009,22.405,22.353,21.612,37.289,33.918,27.285,26.094,33.689,26.714,25.831,30.463,29.516,30.154,25.222,33.027,27.54,25.126,24.744,25.826,24.377,23.996,25.268,25.604,37.394,25.655,25.741,24.781,25.581,27.004,24.595,24.788,24.432,24.574,24.621,25.331,25.047,25.165,24.276,24.653,25.393,26.014,35.776,25.846,25.092,24.179,26.971,26.149,25.002,24.768,24.336,25.204,29.202,35.351,23.409,22.47,22.829,23.421,24.256,23.238,22.488,23.145,22.645,23.084,23.846,22.635,23.936,22.483,22.818,24.132,25.938,23.795,23.338,22.444,24.589,22.829,23.732,23.605,23.258,23.273,22.235,22.899,22.453,23.317,23.582,23.345,22.897,24.054,23.424,23.144,24.088,17.912,39.338,26.652,25.459,24.894,30.426,26.045,32.647,24.735,24.509,25.37,25.311,25.293,25.723,25.791,25.421,24.773,25.573,25.834,26.103,25.898,25.017,24.31,49.162,24.679,26.593,27.225,25.259,24.449,24.528,24.623,25.418,26.479,24.692,24.943,24.878,27.573,33.921,25.288,26.042,24.979,24.547,null,26.21,22.659,22.667,22.589,22.677,24.586,22.44,24.396,21.762,22.139,24.976,22.859,21.87,22.082,23.309,32.459,24.687,22.623,24.631,25.272,22.468,23.728,22.534,23.327,23.07,22.727,22.629,23.043,22.426,22.607,22.273,23.186,21.836,33.256,21.789,21.8,24.884,22.178,22.575,22.452,24.066,22.872,22.257,22.796,22.545,21.965,24.2,34.773,42.934,25.306,24.641,25.618,25.077,25.732,25.119,52.821,24.758,30.345,28.606,25.062,24.851,24.501,24.733,24.789,27.554,24.177,24.181,25.398,24.97,25.736,24.412,24.395,25.119,24.661,25.495,26.42,24.244,25.234,18.057,27.241,23.66,23.997,23.453,23.63,24.795,24.292,23.681,24.277,25.541,23.507,24.149,23.708,23.321,23.553,23.945,30.807,26.986,23.912,36.105,24.578,25.374,28.632,30.232,24.104,28.727,16.211,22.016,22.803,21.685,27.638,22.777,21.984,21.768,22.447,21.869,23.926,31.882,21.847,26.689,22.111,22.449,27.71,null,28.464,29.393,28.974,28.946,28.703,28.347,28.417,28.558,29.369,28.393,28.86,43.24,28.781,29.598,48.861,34.672,30.867,32.593,30.397,29.828,28.979,29.676,30.197,30.393,31.948,31.937,33.979,33.891,31.998,30.686,30.178,43.964,26.392,22.974,22.072,27.936,22.536,22.231,22.805,22.729,22.573,25.096,21.567,22.068,23.005,23.146,21.78,21.9,21.824,22.566,16.444,22.812,23.051,21.915,22.409,23.125,22.907,21.574,22.199,28.707,21.753,22.222,22.3,22.93,23.431,21.867,22.013,22.574,24.272,24.972,22.747,22.008,22.028,22.27,23.972,23.664,23.097,23.207,21.663,23.162,16.639,16.66,16.488,16.796,16.979,16.823,17.064,16.623,17.116,16.958,18.249,18.782,18.577,18.246,18.27,18.085,16.427,16.485,16.453,17.121,16.786,16.639,16.879,16.734,16.818,17.114,17.78,17.402,32.181,17.726,18.186,17.472,17.235,18.758,18.149,17.557,23.043,17.849,30.031,27.715,59.555,21.502,16.579,22.716,16.415,16.446,31.037,24.575,25.761,18.818,30.358,24.657,24.286,25.207,25.318,24.842,25.536,24.281,25.282,24.34,24.31,24.368,29.382,23.884,24.442,26.435,24.33,24.259,24.736,24.938,19.374,30.64,34.237,34.97,29.589,29.762,30.868,29.159,31.38,29.172,31.307,30.031,28.917,30.562,29.26,29.732,29.679,null,31.207,31.18,29.907,30.398,29.826,29.223,29.857,29.742,24.415,32.924,29.676,29.917,30.844,29.398,29.273,29.419,32.036,30.689,29.887,29.239,30.106,29.885,37.847,37.822,29.996,25.041,26.087,34.166,23.316,23.64,27.793,23.75,23.343,24.763,23.542,23.793,24.842,23.074,23.418,23.714,23.701,23.078,22.75,26.735,24.303,23.183,25.875,25.146,23.225,23.441,39.345,23.801,22.584,23.767,23.241,23.588,23.13,23.977,24.116,23.165,23.491,24.554,23.647,25.088,23.381,24.67,23.249,24.267,35.76,54.445,37.334,30.545,29.732,30.288,29.719,29.539,35.072,32.4,30.421,30.241,30.316,29.367,30.741,29.952,29.386,30.216,30.418,30.362,40.488,27.621,37.748,31.987,31.137,25.931,26.384,27.73,29.728,27.286,24.354,25.019,25.527,24.646,25.714,26.52,27.851,24.631,24.449,24.64,24.638,26.458,24.733,25.259,27.344,30.932,34.548,25.405,25.576,27.36,44.582,24.73,24.689,25.446,24.975,24.904,25.812,25.242,25.205,27.802,35.546,24.088,24.158,26.84,25.054,24.862,24.495,28.07,22.957,22.849,23.277,26.647,22.956,22.735,23.026,23.128,23.547,22.559,22.422,22.985,22.391,25.087,22.304,25.367,23.356,22.156,23.461,23.776,23.417,22.303,22.328,23.018,23.068,23.292,22.518,22.488,23.086,24.136,23.813,22.589,23.101,23.937,24.224,30.442,23.16,23.937,24.009,24.155,23.887,23.854,24.475,23.736,24.166,23.293,23.242,24.699,25.039,23.801,22.981,24.328,25.529,25.492,25.547,24.115,23.979,24.265,23.474,23.321,23.218,29.148,23.609,23.148,24.153,24.199,23.787,23.927,23.63,24.491,24.913,27.095,26.706,30.082,25.308,23.861,23.046,22.936,23.732,23.402,24.775,23.81,24.078,25.102,23.958,23.401,44.99,28.407,21.868,21.922,21.949,22.851,22.045,25.307,24.485,22.309,23.722,16.128,28.622,21.637,22.162,21.346,22.838,22.246,22.457,21.795,22.203,22.913,22.174,24.314,21.634,22.118,22.71,22.806,22.116,22.31,22.063,29.592,21.58,25.613,22.854,22.355,21.628,21.392,22.2,22.234,22.086,22.377,17.255,32.657,25.541,34.921,22.411,22.497,24.331,22.994,23.15,22.615,22.887,25.543,23.124,30.514,23.238,24.209,23.821,22.264,22.847,23.797,22.399,22.526,22.933,22.978,21.978,24.305,22.427,23.117,21.825,23.92,22.273,23.673,23.493,22.656,52.836,45.629,26.399,37.116,25.109,29.42,25.639,24.466,25.998,30.04,24.709,24.637,25.046,24.432,24.841,24.723,25.02,24.604,27.124,25.336,26.598,24.417,27.473,26.325,30.661,25.493,24.524,25.596,26.515,24.222,24.577,29.21,24.775,24.964,24.728,26.505,25.287,25.296,24.887,25.289,24.246,26.03,25.028,24.415,null,25.735,24.641,27.828,24.526,34.697,24.498,34.48,25.186,24.654,24.484,33.895,25.293,25.04,26.064,25.756,25.367,25.858,25.77,25.543,24.528,25.009,25.192,29.729,24.611,40.747,25.897,24.757,27.124,24.697,24.964,24.476,24.706,24.687,25.395,18.989,24.851,25.34,25.068,24.559,25.819,25.633,25.896,24.576,25.032,27.233,25.866,25.415,24.737,26.186,24.44,25.245,24.816,26.628,25.693,24.575,25.572,26.44,25.345,25.98,25.146,24.907,34.249,25.981,24.493,24.453,25.383,32.874,22.408,23.213,null,22.994,22.914,23.677,22.776,23.438,24.883,24.01,24.784,22.57,24.78,23.781,23.277,23.521,22.988,23.186,24.119,22.968,23.67,23.252,23.73,22.548,24.32,23.636,25.402,22.764,23.639,23.291,23.628,22.579,23.83,24.417,23.022,22.947,23.878,22.246,23.089,22.498,23.999,22.734,24.722,23.969,23.886,21.974,21.969,22.126,22.89,27.851,21.97,22.976,22.056,22.355,21.81,28.013,24.337,22.951,22.367,22.703,23.063,23.091,21.894,22.824,22.254,22.928,22.789,22.381,23.232,21.599,22.078,22.014,23.378,22.724,24.408,22.841,24.78,22.282,22.024,26.671,21.768,22.568,23.59,22.727,23.586,22.309,21.83,22.701,22.304,21.608,23.025,21.664,22.984,26.312,33.207,null,25.029,33.074,25.992,25.906,32.658,25.421,24.672,27.509,28.091,25.282,26.584,26.499,28.943,25.444,25.714,25.595,25.684,37.352,19.385,24.264,25.585,25.116,26.137,31.896,24.37,24.768,23.943,23.606,23.448,23.493,23.904,27.949,24.433,23.479,23.703,23.932,23.925,23.882,24.417,25.235,24.403,23.907,24.491,23.34,23.274,25.05,23.975,24.221,24.068,23.902,25.102,23.79,23.554,23.907,23.856,25.698,24.012,21.884,22.232,21.92,21.67,21.906,21.467,21.474,22.96,55.222,22.226,21.896,21.234,22.48,21.133,21.914,21.381,29.067,23.343,21.505,24.212,23.177,23.77,29.844,22.977,22.555,22.246,22.374,21.664,21.882,22.208,24.452,22.096,21.398,22.449,25.178,21.618,22.53,21.276,21.96,22.612,21.242,null,23.154,28.558,28.7,28.483,28.329,29.507,29.956,29.679,34.41,29.599,28.831,28.745,30.218,28.645,29.579,30.353,29.54,29.71,29.104,29.737,28.787,28.575,29.291,25.859,27.495,20.313,19.174,22.604,19.05,20.274,19.607,19.564,21.802,21.002,20.055,20.115,20.121,20.031,23.883,19.099,19.89,19.737,20.031,18.928,19.71,19.135,18.916,23.305,19.638,20.251,20.092,20.92,19.032,19.061,19.867,19.843,19.358,26.711,19.126,19.514,20.206,20.257,19.918,20.423,18.879,20.575,18.868,20.424,20.632,20.358,20.431,19.868,19.779,19.932,19.427,19.74,19.308,19.221,26.737,22.205,24.04,22.851,23.809,25.535,24.05,31.956,23.8,23.214,23.979,23.423,34.086,24.625,22.376,22.827,22.17,25.497,22.253,22.892,22.807,23.546,32.608,25.504,23.741,22.111,22.518,22.202,23.864,21.608,23.123,22.211,21.634,23.364,22.5,21.812,22.154,24.226,21.818,22.278,23.232,22.273,22.001,22.589,26.376,25.176,24.938,25.547,24.547,25.098,24.214,24.913,24.223,24.669,25.277,24.323,24.583,24.991,25.046,26.864,24.453,24.388,26.641,24.651,28.685,25.693,26.849,29.887,29.987,29.578,30.089,29.322,29.702,30.34,29.806,29.96,30.147,28.912,29.761,30.144,29.422,28.684,28.641,29.979,33.679,30.413,30.751,37.975,29.006,29.04,28.88,30.188,29.036,28.81,35.309,29.748,28.733,29.164,29.362,31.04,28.841,29.113,29.502,29.761,29.363,35.289,29.885,28.991,30.364,28.627,30.194,30.415,30.672,29.655,29.877,31.092,30.111,29.339,29.752,28.706,29.284,null,null,null,null,null,null,null,null,null,null,null,null,null,null,null,null,null,null,null,null,null,null,24.532,25.46,24.465,24.184,24.55,25.191,24.971,24.567,24.873,24.011,28.656,25.451,31.187,25.879,24.374,23.764,24.696,25.136,23.696,25.116,23.891,33.215,24.353,23.656,24.407,24.184,32.466,24.222,25.278,24.91,24.622,25.977,23.873,25.635,23.443,28.547,24.314,24.862,23.701,26.943,24.173,23.745,23.677,25.607,24.93,25.052,25.576,26.554,25.655,24.907,25.981,24.361,24.757,24.792,25.313,24.768,23.785,33.82,29.912,31.374,30.006,30.733,31.584,30.037,30.18,29.994,30.272,30.096,35.112,29.876,30.363,29.736,30.097,30.503,30.278,31.02,30.355,30.321,30.303,30.76,26.881,33.427,26.806,25.007,24.226,23.909,24.488,24.04,24.433,24.151,29.734,30.158,24.368,24.601,24.688,24.131,31.198,24.995,23.799,24.497,23.546,23.802,24.553,24.283,24.356,25.456,24.244,24.513,24.468,24.726,24.189,23.872,24.133,23.948,26.541,24.226,23.753,23.22,23.467,23.018,23.294,23.808,23.73,23.061,23.278,23.141,23.351,23.661,23.427,23.782,23.554,25.001,29.465,23.195,25.591,30.084,22.997,23.346,35.284,24.19,22.62,22.871,24.267,24.408,22.865,24.224,23.134,27.934,23.323,24.385,24.302,23.023,26.463,23.09,24.002,24.131,30.067,22.746,23.418,23.24,24.853,26.918,23.383,22.874,23.077,24.726,23.197,23.411,16.12,21.619,22.491,22.627,24.169,21.546,23.128,21.998,21.699,21.885,21.661,21.741,22.054,22.919,22.031,24.144,27.445,24.421,22.087,23.094,21.574,22.277,22.206,21.747,22.068,22.042,23.27,21.623,22.761,21.887,24.083,22.015,22.426,21.642,22.227,23.545,22.325,22.04,22.348,21.611,21.582,22.282,24.24,22.239,22.316,23.528,36.564,21.807,24.104,21.754,23.01,23.394,21.792,22.709,23.074,23.371,23.099,22.155,22.274,23.435,23.677,23.834,21.717,22.133,30.838,21.606,23.571,22.693,22.704,21.511,22.004,24.688,23.215,22.315,23.387,24.177,22.015,23.051,22.181,23.509,23.917,22.948,21.509,21.596,21.538,22.534,21.515,21.704,24.06,21.705,21.778,23.16,22.749,22.669,21.135,22.403,37.833,22.416,43.713,25.905,24.737,23.252,26.546,24.96,30.365,21.01,24.933,22.448,22.996,21.583,22.105,24.397,49.216,44.428,22.028,32.561,23.755,22.706,20.736,22.388,22.668,21.635,21.812,null,25.015,21.465,21.028,21.699,22.677,21.339,21.079,20.894,null,22.575,28.045,21.638,25.118,22.017,21.549,20.883,22.114,21.482,22.115,22.703,21.561,23.373,21.338,22.008,22.629,21.903,null,22.385,22.394,22.937,21.271,20.757,21.202,22.271,20.767,22.744,21.702,22.335,23.198,23.844,20.97,22.542,21.366,21.287,24.946,20.379,22.299,21.265,19.719,20.753,21.097,20.905,20.753,20.083,20.794,21.063,22.838,19.323,20.598,26.956,20.977,21.614,24.834,22.183,20.027,19.894,22.727,20.743,20.584,20.759,25.091,20.521,19.898,20.286,20.303,21.517,19.969,20.327,20.084,20.253,20.32,20.625,21.294,25.151,20.464,22.217,19.957,19.449,19.6,20.109,20.235,21.067,20.362,20.982,21.012,20.716,19.862,20.191,21.49,19.831,28.102,26.495,28.344,41.485,23.055,21.798,24.605,21.436,22.237,23.093,22.529,24.325,21.66,21.665,21.471,22.072,23.173,22.745,22.912,21.656,22.729,22.009,22.95,22.715,21.997,21.722,22.199,21.331,21.161,21.221,21.894,21.444,23.455,22.22,22.576,24.141,21.123,21.29,22.252,22.028,22.4,21.608,21.569,28.408,21.183,22.438,21.723,21.696,23.263,22.475,27.757,22.817,21.031,26.004,21.6,21.319,21.189,22.066,22.38,22.814,22.623,21.906,21.556,22.346,22.246,21.267,21.23,22.552,23.837,23.375,23.803,29.994,19.668,19.49,null,19.993,20.205,20.734,18.909,22.018,20.615,19.772,21.686,21.171,19.414,18.606,19.978,19.25,19.795,18.81,22.144,13.266,25.294,20.656,19.792,19.373,19.151,20.671,23.139,22.029,19.952,19.402,20.306,20.578,20.87,18.708,20.1,20.132,20.533,19.743,20.032,19.988,19.196,19.904,21.582,22.324,25.362,24.001,20.8,19.519,19.326,19.17,19.7,19.591,29.74,19.822,19.866,28.971,19.551,19.498,21.202,20.082,19.908,20.184,19.29,19.83,19.352,21.34,18.471,22.931,18.931,19.993,19.457,19.001,18.694,19.857,19.481,19.723,20.314,19.324,40.507,35.1,25.643,25.225,25.098,25.337,25.676,24.316,24.42,24.585,25.331,24.974,24.489,25.364,24.672,24.827,24.375,25.274,29.063,24.565,26.146,25.2,24.801,25.215,25.862,19.553,39.98,25.926,26.198,25.125,22.323,22.789,22.184,21.223,21.623,24.557,20.716,21.9,20.427,21.125,22.242,20.835,20.512,20.473,14.446,20.879,22.017,25.182,20.212,20.832,22.039,22.033,21.0,21.014,21.374,21.315,29.056,24.418,20.372,21.378,24.51,20.859,20.805,22.709,20.636,20.656,20.898,21.637,21.574,21.066,21.459,20.739,14.489,21.524,29.026,24.725,25.004,24.572,31.448,25.33,26.515,35.21,24.992,29.446,24.745,25.729,24.99,24.807,29.684,26.031,24.159,24.596,29.418,25.244,30.231,26.191,24.68,26.256,26.317,26.04,25.814,24.428,31.937,24.789,24.751,24.781,26.229,24.357,25.701,25.158,25.028,25.099,25.927,24.893,26.371,24.092,24.635,24.4,24.863,25.275,31.851,25.087,26.391,25.018,25.436,24.473,25.911,33.401,24.872,20.547,23.147,22.699,19.846,19.91,21.9,20.84,19.487,19.816,18.979,20.432,null,19.378,21.021,20.199,20.273,19.69,21.226,19.952,20.371,20.974,19.953,20.812,20.331,19.321,33.796,19.869,20.039,20.007,20.528,19.539,20.433,20.204,21.483,22.207,19.991,21.388,20.272,22.986,20.364,21.433,19.921,20.545,19.591,20.196,19.118,21.16,21.799,19.316,19.692,19.684,19.39,19.476,20.557,36.196,45.695,22.745,23.2,21.84,22.103,22.754,24.033,22.015,22.023,21.343,23.012,22.303,21.599,22.054,22.161,22.465,22.159,22.323,21.762,22.323,22.425,22.107,22.267,22.723,22.831,21.88,22.628,22.282,21.454,21.753,22.612,21.863,22.249,22.221,22.606,22.301,16.453,22.496,22.722,21.996,22.45,16.512,21.643,22.349,22.384,22.451,23.03,21.753,21.612,21.854,23.027,22.136,23.756,24.796,23.257,21.666,22.022,30.975,24.46,25.569,26.302,27.04,24.45,24.319,25.933,25.541,24.305,24.205,26.146,24.692,25.633,26.873,25.397,24.665,24.079,24.208,24.668,24.764,24.315,26.363,33.2,29.469,29.573,29.364,29.736,31.841,30.497,32.243,29.04,29.678,29.031,29.284,29.91,30.161,31.792,29.436,28.709,29.212,29.702,29.032,32.097,29.966,28.787,29.667,29.823,30.714,30.79,31.173,29.176,30.293,29.136,30.085,33.013,29.396,30.253,31.706,30.166,30.444,32.008,37.7,null,29.999,28.909,31.23,29.421,29.616,30.175,29.687,29.777,29.573,33.836,30.141,30.085,28.934,31.546,29.829,26.948,22.474,23.47,23.814,23.096,23.912,22.27,22.208,24.32,22.519,23.412,23.654,22.901,17.513,23.097,22.662,22.924,23.987,22.587,24.477,23.761,23.892,25.946,23.642,23.854,23.845,23.236,24.112,42.432,22.807,23.155,24.24,22.251,22.401,22.718,22.935,24.366,22.767,23.814,26.299,24.548,23.194,23.49,23.408,38.893,24.016,null,18.979,17.935,25.297,25.816,23.462,23.421,23.803,23.887,23.524,23.383,23.476,23.617,22.946,23.313,23.648,23.282,22.812,26.423,22.645,22.916,17.806,24.38,24.608,24.087,26.263,22.771,22.774,23.858,23.483,23.484,22.871,24.202,23.086,23.831,24.373,22.839,23.184,27.707,23.29,17.801,17.822,24.381,22.873,24.876,22.551,23.105,23.094,25.585,24.178,23.662,24.232,29.082,24.0,29.8,24.096,33.937,23.517,23.685,26.989,23.579,23.546,25.53,23.774,23.648,18.423,26.97,25.66,24.128,23.895,23.487,23.541,24.757,23.332,23.574,24.024,23.595,23.568,27.619,23.459,24.754,25.608,24.91,24.834,25.383,24.066,24.471,26.312,23.891,24.415,25.909,29.057,24.445,24.141,27.176,22.886,24.064,21.503,23.49,21.372,22.194,22.834,21.175,21.627,22.498,22.363,21.653,21.516,22.275,21.53,21.93,21.485,22.685,22.27,23.361,23.41,22.863,21.37,22.048,22.946,21.609,22.07,23.576,24.005,21.911,21.633,22.802,22.286,16.147,21.298,22.286,22.315,21.453,26.68,23.608,24.859,18.737,32.794,25.323,24.589,27.568,23.936,26.205,25.268,23.808,24.444,23.806,24.226,25.014,23.904,23.817,24.086,24.293,24.03,24.381,23.537,23.876,36.333,25.027,24.116,24.914,18.692,23.455,22.721,23.019,24.166,23.161,22.342,22.591,22.746,23.887,23.237,22.755,22.655,24.657,23.328,23.857,25.012,23.6,22.51,23.732,24.099,25.06,24.183,17.367,22.646,24.001,23.695,23.34,23.788,22.655,26.734,22.753,22.397,23.237,32.899,26.718,23.451,22.732,24.423,23.33,23.138,27.107,23.403,23.449,17.385,17.339,22.981,23.222,24.599,32.319,22.313,23.203,22.035,25.346,24.933,23.302,24.397,23.275,24.256,23.427,22.862,24.579,24.881,23.203,26.322,25.303,23.257,23.882,22.528,23.777,23.017,24.579,21.91,24.58,22.837,23.464,24.162,48.984,24.131,22.915,23.166,23.31,23.569,25.046,22.103,28.888,24.348,30.888,17.088,25.671,31.006,23.988,24.034,25.096,29.317,24.305,24.653,23.856,25.47,24.718,32.67,24.271,24.569,25.658,25.6,25.535,27.602,28.122,24.831,26.269,25.922,25.199,24.927,26.255,15.684,25.66,29.359,24.98,27.961,22.864,26.337,24.42,22.856,21.621,24.094,24.539,25.13,24.52,24.057,24.216,23.549,36.542,36.517,36.876,23.974,38.887,34.109,23.509,22.61,23.05,23.13,23.648,27.7,26.934,23.782,23.195,22.175,23.824,22.163,23.409,23.231,23.477,30.335,25.39,22.534,32.224,22.998,25.041,23.343,23.358,23.662,28.483,24.543,26.338,25.884,20.474,21.551,21.449,32.407,21.433,20.903,21.851,20.563,21.184,20.387,21.569,22.835,21.746,20.296,21.184,22.713,21.113,23.009,24.937,21.884,23.634,20.25,21.327,22.306,20.377,20.691,20.474,21.012,20.136,21.494,23.623,22.606,21.323,22.007,21.027,37.748,21.146,25.835,23.488,21.006,21.229,22.318,23.151,20.645,20.471,22.565,21.515,23.579,20.177,20.024,21.795,26.618,20.051,22.531,13.981,null,25.047,25.829,23.016,23.557,22.228,28.341,22.236,22.094,23.408,23.405,21.979,22.413,24.241,23.246,22.763,23.411,23.423,25.896,22.017,22.412,22.868,24.02,23.323,22.069,22.758,22.446,23.428,25.204,22.27,22.903,21.963,23.42,22.649,30.622,23.449,22.33,22.105,23.421,22.295,29.648,22.362,22.31,22.717,22.896,23.353,23.639,25.59,22.483,26.417,21.888,23.696,22.56,22.616,23.207,22.924,22.192,21.938,22.796,22.495,23.173,21.8,22.597,21.705,22.933,23.167,24.52,22.763,22.241,24.317,24.674,23.943,21.864,20.119,19.745,22.26,20.502,20.333,19.987,19.456,20.223,20.113,20.388,20.13,20.521,24.856,22.275,20.62,19.777,21.101,21.518,21.29,21.963,21.082,20.936,24.864,21.055,20.558,22.135,20.059,22.515,21.68,22.645,20.218,21.061,20.114,20.028,21.215,20.381,20.902,21.301,19.624,22.566,21.338,13.259,23.072,19.699,13.335,19.98,21.543,28.531,19.888,20.515,20.059,20.197,20.129,20.46,22.829,21.311,26.143,19.867,20.105,21.275,21.817,22.645,20.073,20.669,21.035,21.471,28.39,39.391,26.063,24.874,25.566,25.748,26.38,26.41,26.447,27.306,25.22,26.066,25.567,24.993,27.186,25.117,25.666,25.642,25.219,19.677,25.335,25.079,36.503,26.157,31.293,26.973,21.128,21.489,21.807,21.748,21.639,22.278,21.375,21.199,21.689,21.733,21.888,21.133,21.222,21.83,24.583,22.781,21.453,25.52,23.291,22.704,21.845,21.179,21.534,21.407,23.66,21.704,22.524,23.163,21.403,21.734,14.641,22.53,21.254,21.363,21.115,21.558,22.428,20.246,21.032,20.498,31.636,21.04,19.355,20.726,23.071,21.879,21.342,21.198,21.209,23.127,19.789,22.93,20.357,20.479,21.303,20.477,20.246,20.625,25.719,28.44,20.295,14.659,20.904,21.224,19.64,20.126,24.445,23.183,31.081,20.718,21.103,21.525,20.332,21.407,20.023,22.838,23.125,26.37,39.041,22.597,20.222,14.78,20.041,20.115,30.8,20.476,32.79,34.201,25.829,25.63,25.192,25.938,26.196,33.068,25.325,25.581,26.313,25.854,25.983,26.489,25.372,25.189,26.845,26.06,25.138,25.626,29.908,26.165,24.498,25.388,27.715,25.003,25.613,26.434,26.573,25.319,24.762,26.2,25.179,26.164,25.871,25.552,25.11,25.444,27.944,24.998,39.208,33.529,25.241,23.049,47.942,32.766,21.012,18.901,17.899,18.002,18.442,18.253,18.395,19.646,19.385,18.497,19.802,18.143,17.57,17.867,18.374,21.399,17.512,19.85,17.821,18.904,19.535,19.137,20.388,18.822,18.425,18.286,18.801,17.598,17.894,18.323,17.928,17.735,19.21,17.99,17.968,16.831,18.199,17.29,17.942,17.859,18.952,22.743,19.177,19.391,19.233,19.949,18.365,20.664,19.68,18.877,19.382,18.313,18.741,18.354,18.163,28.988,18.085,21.336,13.199,20.234,20.363,20.51,19.408,20.736,20.304,20.213,20.352,20.46,19.38,19.669,20.78,20.436,19.981,21.07,21.259,22.151,21.337,20.087,19.611,20.915,20.32,22.332,19.858,20.503,19.083,19.63,20.592,21.855,19.331,20.352,20.231,19.175,20.607,19.059,21.378,20.632,20.065,22.031,19.755,20.383,20.604,21.877,19.365,19.917,19.772,20.355,19.644,20.216,20.027,20.515,13.206,19.386,20.567,18.964,19.6,28.747,22.97,22.346,22.247,21.73,22.737,24.039,22.161,22.182,22.303,21.515,22.874,21.556,22.19,23.375,23.488,20.736,31.745,21.72,22.985,22.746,21.962,22.472,22.581,15.008,21.814,22.046,22.31,21.854,21.91,22.811,36.148,31.958,29.333,29.117,30.317,29.557,30.879,30.992,29.124,31.026,29.546,30.499,30.44,30.234,29.669,30.977,30.019,32.08,30.693,30.647,30.363,30.043,33.042,30.341,29.403,32.436,29.898,30.828,32.015,30.099,29.304,30.54,29.19,30.842,30.405,32.625,29.789,29.37,31.137,29.662,30.834,30.029,29.687,31.753,30.981,30.338,30.684,29.455,29.348,30.613,30.217,41.154,44.101,30.232,36.146,34.601,32.329,27.098,32.462,29.793,20.233,20.901,21.007,21.063,20.783,21.343,21.273,23.227,21.148,21.361,21.538,20.508,20.936,21.944,20.643,26.287,22.816,22.528,21.368,20.662,14.608,21.143,20.691,21.222,20.762,19.794,21.688,42.505,21.344,21.118,21.516,21.52,21.099,21.431,20.778,20.379,20.346,22.487,21.52,22.678,21.367,14.25,33.003,13.986,19.638,22.125,21.681,20.087,20.865,21.896,19.811,20.607,20.211,20.151,21.886,22.278,22.334,19.83,19.93,20.805,21.302,24.408,22.749,21.137,20.777,20.218,20.935,20.494,19.616,20.982,20.276,22.813,21.581,20.767,21.489,20.09,20.804,19.801,20.855,21.012,22.019,21.188,19.447,25.097,25.036,21.336,24.508,21.509,22.047,24.544,21.404,21.49,22.003,22.637,21.1,21.654,23.948,22.692,20.8,20.808,28.053,22.445,27.303,20.852,22.967,20.707,23.83,21.658,21.322,20.976,22.726,29.277,26.057,26.67,20.319,21.017,19.829,24.962,19.529,19.585,20.122,21.941,19.701,19.884,20.769,19.368,23.032,22.272,19.455,20.723,19.486,19.066,20.278,22.587,19.885,19.918,33.431,21.231,20.265,21.27,26.858,21.19,24.079,22.263,22.099,20.814,24.439,22.143,20.904,22.498,22.342,22.713,23.092,22.079,22.762,24.84,24.798,24.497,21.52,22.379,22.651,22.444,21.346,21.445,21.297,21.541,25.98,27.266,22.486,23.018,22.838,23.127,24.41,22.472,20.997,28.336,27.113,24.427,23.251,23.031,25.787,22.596,22.362,23.429,22.243,21.606,23.0,24.254,21.806,21.364,22.016,21.232,21.182,22.731,21.68,21.442,27.452,38.291,26.573,21.302,22.746,26.739,24.262,21.347,21.55,25.976,23.544,22.721,31.768,25.375,21.444,23.625,21.256,32.309,32.823,21.827,28.932,22.702,22.427,21.006,23.082,21.862,22.061,24.51,22.923,21.456,27.48,22.25,23.002,24.816,22.389,14.128,21.849,21.973,26.898,25.021,23.426,23.251,23.842,23.643,22.603,24.863,25.259,25.342,22.994,23.227,24.535,23.716,24.064,25.978,24.899,16.867,24.463,24.865,23.988,23.792,23.303,null,23.438,37.856,22.52,24.733,16.892,23.1,25.098,24.5,24.192,24.036,23.199,26.348,25.683,24.332,22.681,23.871,24.848,26.446,26.23,26.309,24.181,24.095,31.694,32.978,22.572,22.773,22.552,23.019,23.9,22.4,29.224,25.516,23.152,22.576,23.182,23.28,29.084,24.967,23.584,22.046,23.28,23.597,24.617,26.252,27.815,24.502,29.843,21.991,22.471,22.611,22.419,21.893,23.894,23.221,22.541,22.68,22.261,22.577,22.069,22.888,22.55,27.439,23.336,24.429,24.416,23.442,25.382,23.977,22.483,22.893,22.602,26.554,22.526,22.313,23.812,22.227,22.161,28.694,27.182,38.823,22.466,22.419,14.16,20.522,23.442,23.16,21.989,20.771,22.01,23.779,21.995,21.855,21.624,20.878,20.989,22.524,21.473,21.709,24.722,22.683,21.981,22.216,22.485,23.029,22.901,24.467,26.049,20.758,22.005,20.533,21.132,22.062,21.964,21.908,21.058,21.936,21.821,21.533,21.251,21.218,21.168,21.928,22.802,21.481,23.397,21.237,22.005,20.567,20.72,21.4,21.091,33.827,21.89,27.62,22.26,23.499,28.708,13.9,28.845,29.27,30.182,21.422,22.022,20.833,21.769,21.05,21.308,22.573,22.3,22.717,21.649,20.623,20.775,23.881,21.368,21.82,22.713,23.066,20.907,27.353,22.854,24.634,22.895,22.779,56.611,21.323,21.075,20.421,20.927,21.919,21.732,21.322,22.128,23.455,22.868,20.93,20.112,21.084,22.555,22.862,22.639,24.962,21.826,20.379,21.633,20.887,22.365,20.949,35.688,24.837,21.838,23.471,20.843,21.702,20.872,25.125,22.456,21.417,21.986,20.385,22.219,22.032,21.687,21.006,43.603,21.827,21.715,20.308,21.403,22.087,21.662,20.597,21.379,13.925,22.041,21.884,26.685,20.489,24.474,23.114,21.931,24.871,23.592,22.689,20.253,20.818,20.567,20.881,20.084,19.761,21.856,20.647,20.8,20.741,29.936,20.773,20.015,24.843,20.07,22.364,21.019,23.157,22.744,23.176,19.887,20.238,20.079,24.821,21.635,21.322,20.235,21.226,20.872,24.745,21.128,20.487,24.232,19.534,20.738,20.279,20.807,21.143,21.723,24.448,20.763,20.267,20.126,20.426,20.473,22.982,20.65,22.419,21.574,21.953,21.019,20.38,21.632,20.451,21.739,23.068,20.395,20.819,23.001,20.5,19.984,20.292,21.829,20.107,20.988,23.23,24.298,20.796,23.143,21.708,20.573,22.077,21.17,20.637,35.084,25.28,25.189,28.536,37.735,25.352,26.477,24.97,31.445,26.827,25.595,26.468,26.615,28.325,19.36,28.856,25.907,25.921,26.421,47.226,25.851,26.073,31.382,25.31,28.298,27.577,28.642,25.037,39.917,19.347,26.065,24.67,26.977,25.878,25.116,25.687,26.269,27.55,25.045,26.464,27.879,25.675,26.281,23.65,27.202,14.501,23.305,24.052,23.893,23.105,23.571,23.949,24.143,24.472,26.348,23.868,22.986,26.045,25.066,44.037,51.684,24.943,23.872,29.546,24.649,24.886,24.196,30.497,24.655,22.832,22.923,24.425,24.684,23.97,23.113,22.479,23.589,30.288,24.863,23.593,34.897,23.687,22.742,23.816,22.402,26.129,22.735,23.332,14.538,22.958,29.115,31.718,28.63,14.565,32.449,22.77,23.059,26.561,14.538,23.741,23.338,23.7,25.079,29.54,22.869,22.56,23.364,24.039,25.14,30.714,22.526,33.278,24.618,24.145,22.702,28.346,23.129,null,31.701,21.301,22.114,21.163,23.492,20.34,21.054,20.676,20.465,21.006,21.477,20.997,21.201,20.567,21.321,23.241,28.03,20.718,22.104,30.665,24.459,21.9,23.327,21.943,21.391,21.035,21.939,20.46,21.126,22.285,20.818,21.168,20.319,20.286,21.262,21.805,20.551,22.766,20.441,20.325,23.547,24.675,25.537,21.168,20.545,22.131,22.25,21.105,21.472,21.286,20.367,20.212,21.103,22.632,21.036,22.03,21.069,20.136,22.235,21.49,20.896,20.995,20.331,26.059,20.404,20.479,30.242,24.716,25.07,25.737,28.448,26.238,26.279,24.88,25.86,25.416,26.643,28.742,23.973,26.566,25.1,26.612,24.722,25.386,24.719,25.872,24.818,24.159,31.751,31.551,24.065,45.291,24.272,24.077,24.62,25.49,24.287,23.929,31.471,31.558,23.974,25.428,26.942,24.399,24.434,24.959,24.095,24.651,23.955,25.619,25.505,23.869,23.137,23.34,23.785,24.172,23.474,23.292,27.24,23.238,27.247,27.301,31.879,20.44,20.348,20.768,21.601,20.982,20.43,20.394,20.344,20.882,22.048,22.319,20.839,22.252,21.449,21.062,23.676,20.952,20.762,22.088,21.299,22.331,20.496,20.035,21.057,20.975,20.954,20.299,20.274,20.185,21.645,21.689,20.572,20.879,21.267,21.252,20.403,23.588,24.053,21.175,22.535,19.975,20.047,22.458,20.324,19.93,21.903,20.11,20.854,22.293,25.532,22.64,21.786,22.262,23.397,21.371,22.222,25.337,21.88,20.69,22.886,20.767,23.725,22.349,22.772,21.902,22.215,23.633,21.948,23.734,23.118,22.844,13.186,25.434,22.217,22.552,22.147,20.57,20.0,23.208,21.138,24.194,21.46,20.803,20.071,22.501,20.589,21.065,19.939,20.801,20.611,21.426,20.613,23.563,20.916,13.201,22.852,19.936,20.58,20.673,27.839,20.861,22.453,19.664,20.046,20.935,20.36,20.99,20.917,21.651,20.126,21.345,49.849,20.563,21.122,21.353,31.539,22.364,21.796,23.01,23.016,20.855,20.715,25.596,21.628,21.609,21.715,21.503,22.47,23.244,22.825,22.458,20.929,13.173,21.157,21.258,27.55,29.157,22.534,null,30.391,21.87,22.709,24.234,21.66,22.083,22.939,22.539,23.063,23.145,22.124,21.988,25.147,21.821,23.298,23.42,23.069,23.414,22.095,30.777,21.989,21.876,21.378,22.611,22.014,22.614,22.784,24.086,22.273,22.148,22.279,44.17,29.549,30.621,29.61,35.398,30.29,30.142,30.718,30.888,32.827,32.202,36.856,30.462,30.456,32.351,33.456,34.329,30.023,30.169,30.81,24.342,30.464,31.048,30.807,34.782,31.763,30.948,30.704,33.317,29.417,29.473,30.478,24.299,30.387,30.187,31.621,32.122,31.204,31.592,29.764,33.418,30.261,33.344,33.058,30.832,30.706,30.809,31.602,29.921,30.625,30.544,31.394,31.836,24.715,30.983,30.477,31.168,30.413,31.687,30.305,29.876,31.207,30.796,30.485,29.972,32.739,42.92,30.987,30.869,21.091,21.511,28.244,22.374,20.667,21.147,21.094,21.82,21.964,24.263,21.412,21.313,21.849,21.636,23.723,22.13,20.575,25.563,23.013,25.927,21.339,21.792,21.304,21.596,21.369,20.713,21.726,21.655,21.319,22.821,21.214,21.519,23.172,21.337,22.258,22.57,21.964,22.299,22.736,20.665,24.716,22.233,21.075,21.705,21.455,21.292,21.553,22.466,20.998,21.1,22.584,22.631,20.731,24.461,21.839,21.89,22.532,22.877,22.156,24.269,20.832,22.91,20.879,20.809,21.012,26.379,21.623,21.722,22.075,22.441,20.766,20.091,21.163,21.951,20.828,23.642,21.478,20.238,22.098,20.846,20.978,19.985,24.82,21.569,21.225,22.533,23.196,26.905,22.301,23.544,13.984,25.578,20.772,22.035,21.893,21.06,22.347,20.584,20.8,20.17,20.758,21.08,21.916,21.992,21.385,22.851,20.639,22.325,22.669,22.412,22.092,22.481,22.115,21.472,21.971,22.676,27.378,33.65,40.734,21.525,27.137,21.424,21.392,21.873,22.53,22.856,21.848,21.149,21.092,20.893,22.579,21.415,24.15,22.226,22.144,24.046,22.687,27.193,25.074,22.894,14.919,27.619,42.529,22.519,24.789,21.977,22.339,21.24,21.755,20.984,22.001,22.978,22.172,21.838,23.084,21.449,21.482,23.605,21.723,22.472,24.15,28.474,20.882,24.654,19.833,20.471,43.574,19.439,20.211,20.908,20.356,19.66,21.146,25.182,19.785,20.824,20.738,24.219,21.693,20.33,21.247,20.201,21.792,20.216,19.979,12.897,23.108,20.534,20.0,21.363,20.301,20.614,12.959,19.968,19.35,20.652,20.035,20.638,23.192,21.314,20.791,20.561,19.907,19.525,25.481,21.9,21.169,21.097,22.005,20.773,21.099,20.773,21.537,20.927,20.745,21.561,22.854,20.755,14.029,22.417,22.221,21.859,23.473,21.696,25.117,22.773,22.666,22.452,22.616,23.289,23.102,21.038,20.9,22.013,20.396,20.782,22.59,20.664,20.99,20.652,21.767,20.658,22.461,23.542,22.904,21.555,21.231,20.681,21.337,21.053,21.138,21.781,22.996,21.855,22.128,21.478,21.583,21.373,20.752,21.638,20.781,22.094,25.136,32.822,23.166,24.056,22.906,23.201,23.16,23.469,23.154,24.295,23.543,25.19,22.26,23.04,23.671,23.931,26.979,27.503,25.735,23.337,26.394,32.742,27.295,29.415,24.188,24.885,28.948,25.864,28.963,27.069,26.821,29.619,27.801,27.526,24.527,25.746,25.273,28.501,23.517,27.693,25.378,null,24.412,24.129,23.986,23.99,24.027,26.768,29.584,22.547,23.406,43.103,29.555,25.241,24.377,25.751,null,22.828,23.442,22.958,21.802,23.102,25.565,22.758,24.849,23.043,28.733,22.35,22.329,25.795,22.432,23.576,22.238,32.492,31.195,24.581,24.211,22.397,26.65,25.722,29.544,40.736,24.644,13.886,27.73,27.27,27.671,41.198,21.722,23.076,22.047,25.723,22.224,29.98,24.115,24.582,24.706,null,21.763,25.165,27.443,22.609,22.83,23.703,29.729,24.844,25.644,23.131,24.093,24.421,23.031,24.197,22.968,23.058,30.832,23.036,24.438,13.791,23.724,22.86,23.879,25.433,24.935,24.051,22.537,22.476,23.506,24.547,22.816,27.298,27.279,23.258,22.856,25.644,28.359,24.292,24.163,23.393,24.121,21.017,20.104,20.314,37.2,21.083,24.513,20.396,26.038,30.501,20.45,21.429,21.835,20.56,22.06,21.064,23.735,24.114,13.256,24.838,48.639,23.381,22.597,13.247,20.856,21.758,27.507,29.352,26.737,26.114,26.448,24.914,26.12,27.984,26.363,25.801,27.507,26.603,25.115,27.209,25.488,35.05,47.05,25.14,33.232,31.669,23.476,32.073,25.151,25.225,22.634,22.754,25.277,21.899,21.246,21.59,26.326,21.946,21.463,23.711,22.741,24.26,21.085,21.754,24.624,23.615,23.183,23.852,22.09,22.739,26.004,23.714,27.23,27.797,29.09,36.12,22.134,25.508,22.568,21.992,27.487,22.79,21.277,22.333,22.961,21.936,30.209,21.579,21.988,14.426,22.18,22.746,24.191,22.532,24.082,24.16,23.696,30.546,24.519,24.308,21.899,21.745,22.998,14.436,21.667,21.831,22.742,21.9,22.263,21.806,25.553,21.563,23.438,14.495,23.541,23.524,24.924,21.552,22.796,22.415,35.78,23.371,23.685,23.226,47.681,25.888,22.309,24.488,22.557,23.486,22.564,22.356,22.174,26.657,41.158,null,24.784,21.98,33.452,22.621,24.039,30.217,23.261,26.206,33.53,27.35,24.315,24.518,21.197,25.971,20.649,22.571,22.506,38.497,22.954,21.197,23.993,14.668,20.737,31.124,40.482,21.946,21.584,26.843,22.909,19.124,19.616,20.179,20.475,18.97,19.495,19.693,20.461,19.52,19.926,21.099,19.164,20.435,22.581,32.556,22.847,21.516,23.841,21.916,20.54,20.987,20.869,12.304,35.041,21.378,23.62,25.523,33.916,29.765,null,20.265,19.259,18.348,19.024,18.06,19.136,19.204,18.052,19.823,18.702,18.168,19.522,18.461,19.962,18.147,17.992,22.006,19.65,19.184,22.905,19.882,18.961,21.472,25.089,18.693,20.682,26.563,20.7,21.73,23.685,22.083,20.738,22.496,29.77,null,21.818,22.47,27.763,21.435,22.698,28.184,26.676,23.269,20.961,34.312,22.636,27.917,13.272,20.688,20.837,22.98,23.702,22.568,15.041,23.645,23.507,22.965,23.787,24.061,22.443,23.907,23.232,22.207,22.078,22.955,22.748,22.558,29.757,22.154,22.559,22.749,22.881,21.558,30.527,45.279,32.063,35.767,33.144,33.496,38.186,33.839,49.271,34.137,null,30.403,30.236,31.118,30.396,30.38,32.8,31.365,30.441,30.293,32.138,33.32,37.496,32.496,31.814,32.989,21.447,22.569,23.414,24.272,21.822,21.654,23.375,23.546,21.505,21.448,21.261,21.9,21.705,22.071,21.691,23.54,22.412,21.252,21.427,27.296,25.316,26.333,25.255,24.436,23.423,28.449,31.483,26.885,24.663,26.035,null,31.096,24.126,25.275,23.123,23.923,24.048,25.397,31.488,24.762,39.364,24.627,26.517,23.817,27.61,14.097,23.256,21.054,21.025,29.061,25.161,21.884,22.278,21.648,23.342,22.069,21.242,21.95,21.48,25.914,22.884,21.255,21.163,21.918,20.993,21.471,22.705,20.735,20.679,32.863,27.833,null,20.618,21.734,21.976,21.927,22.085,21.652,21.758,36.484,37.274,22.228,21.318,13.921,22.529,21.292,21.739,22.163,23.749,21.705,31.988,20.168,21.523,20.681,21.202,20.684,20.792,20.061,37.147,20.208,20.749,20.984,20.511,20.93,21.537,20.188,20.276,25.868,25.354,45.811,22.309,23.516,19.369,21.647,25.446,22.524,25.494,34.72,35.824,22.162,23.084,27.397,32.494,24.955,42.708,34.701,22.831,24.301,24.843,22.369,23.947,23.414,20.943,21.19,20.537,21.293,35.939,20.694,19.325,20.69,26.381,21.993,19.676,22.194,20.679,23.41,32.513,29.137,28.156,27.866,25.85,27.484,28.052,29.798,29.374,32.901,27.214,35.487,29.168,27.278,26.437,25.814,27.256,25.993,31.613,30.335,29.465,29.152,31.748,25.263,31.041,25.814,25.966,25.392,25.599,25.748,25.236,28.033,24.458,25.977,26.041,25.368,24.55,25.575,27.745,25.763,28.963,31.071,34.902,25.911,32.543,28.665,25.488,29.193,28.517,26.471,29.271,28.515,35.638,28.688,27.906,37.122,28.815,28.345,29.162,29.707,30.66,27.889,29.534,30.038,37.897,29.588,27.493,26.65,28.214,25.139,26.291,31.839,27.953,26.06,26.434,28.736,26.177,25.105,25.109,52.114,25.038,30.403,35.718,33.034,30.246,28.643,26.89,25.574,26.343,28.265,27.965,26.222,27.409,27.234,26.626,27.144,28.907,27.254,27.023,26.328,26.191,27.657,26.66,26.061,25.668,27.552,26.721,27.676,27.0,26.381,26.34,26.282,27.61,26.793,27.462,29.923,25.776,25.545,26.224,27.716,25.525,26.169,25.197,27.244,28.994,25.458,25.489,25.316,23.332,27.101,24.897,25.072,23.402,23.694,23.787,25.035,23.063,22.625,24.02,23.626,24.392,25.099,25.713,23.027,23.749,22.691,25.278,22.265,23.663,22.489,22.885,22.232,25.51,23.204,21.999,22.824,26.771,25.715,22.561,23.693,22.647,22.539,25.846,23.952,25.299,23.85,24.406,25.27,24.37,22.284,22.318,32.058,23.077,22.604,22.636,25.66,29.446,22.741,22.693,22.7,22.907,21.592,21.348,21.865,29.013,26.82,24.271,26.472,26.57,27.069,26.656,26.155,28.475,26.535,26.519,25.48,25.742,24.509,24.749,26.08,24.399,26.016,27.336,27.373,26.918,25.358,25.264,24.485,24.913,24.495,24.565,25.283,24.687,23.515,43.507,23.753,23.606,23.453,23.122,40.01,23.227,24.767,24.678,24.102,24.414,25.056,23.853,25.008,28.808,27.231,23.624,25.18,23.977,25.616,23.418,23.595,24.359,25.258,26.077,24.853,26.245,37.452,23.899,23.327,22.977,22.952,22.545,21.683,23.965,21.966,22.772,22.283,20.672,22.184,21.131,21.993,22.731,20.538,21.723,29.659,26.516,23.21,23.614,14.009,25.127,26.082,24.224,25.645,25.482,24.822,22.4,24.544,24.903,24.866,25.667,25.428,23.866,27.843,24.458,23.689,23.873,28.445,24.213,24.809,24.751,24.614,23.853,23.749,23.612,23.421,22.884,22.511,23.789,23.777,24.251,22.54,22.14,22.57,22.798,22.753,22.971,30.331,24.214,27.066,24.676,26.484,26.933,23.314,27.069,25.079,26.018,24.538,25.18,24.414,43.121,24.67,24.66,22.871,24.001,24.245,23.251,24.429,28.191,24.378,24.399,23.771,23.177,22.716,23.902,23.174,22.943,22.203,22.998,21.878,23.17,21.367,25.808,24.016,25.134,22.218,21.534,21.571,21.054,21.648,23.185,20.989,20.558,20.972,21.578,22.132,20.749,18.664,20.949,20.964,18.913,19.445,21.925,22.022,19.278,8.757,19.48,21.019,25.599,20.407,21.605,19.021,19.718,19.981,22.245,18.638,17.838,19.679,19.311,20.321,18.505,19.507,16.941,36.543,29.272,26.078,39.569,25.396,25.617,28.643,28.407,28.843,27.644,27.403,27.798,26.918,27.497,25.646,25.562,25.835,26.916,27.559,26.288,25.4,39.219,24.514,25.453,29.802,23.552,25.621,25.897,25.101,24.714,25.377,28.592,26.059,24.386,25.845,26.046,25.628,24.518,31.437,23.114,12.76,25.327,42.695,24.481,25.255,22.43,12.676,31.074,21.702,22.429,27.438,23.625,23.254,22.082,22.118,29.017,21.361,22.408,22.055,22.061,31.836,null,24.089,25.285,27.65,26.604,25.776,26.099,29.989,25.765,24.928,26.464,25.812,25.618,24.871,24.341,24.192,26.835,27.915,27.282,26.734,24.571,26.949,23.828,23.765,26.897,24.448,24.175,25.316,23.815,25.119,23.449,23.191,23.21,24.888,30.045,25.059,40.485,50.009,23.806,22.889,24.883,25.463,24.326,25.968,26.433,25.614,25.364,24.585,24.574,24.68,24.897,24.824,26.731,27.31,25.129,25.86,25.402,24.056,23.513,24.694,25.454,25.655,23.107,25.218,22.974,28.423,22.903,25.547,25.527,25.617,24.443,26.418,25.748,25.188,24.028,25.158,17.153,25.65,25.076,26.217,26.425,26.532,25.514,25.761,26.016,26.159,12.904,26.168,24.641,24.269,23.919,24.052,23.445,22.603,23.485,23.275,24.247,22.369,22.388,31.811,29.785,22.92,24.029,24.797,28.762,24.146,22.9,24.446,24.363,23.217,26.095,26.371,23.915,25.291,28.75,26.892,22.454,25.414,24.254,22.873,22.371,22.421,25.195,24.293,58.458,26.847,38.701,31.528,30.474,29.913,30.926,30.255,29.511,30.627,41.548,31.88,30.125,30.945,30.507,30.071,30.459,31.229,28.678,29.252,29.566,30.755,33.756,30.981,30.139,30.231,29.249,28.516,28.692,29.311,29.264,27.944,28.534,28.121,28.205,30.255,28.307,28.723,18.949,32.397,37.74,33.797,34.912,30.683,30.851,29.583,35.618,31.237,30.508,29.062,30.536,38.38,30.299,31.307,30.197,30.731,29.802,31.456,29.705,30.979,29.843,30.544,31.699,32.141,30.368,30.132,29.958,37.713,29.914,30.349,29.297,28.763,28.964,28.81,28.183,29.762,28.243,30.085,29.033,27.678,30.289,28.531,28.547,27.347,27.188,28.876,26.84,38.711,27.637,26.829,30.481,27.49,29.517,34.001,29.336,28.11,27.719,27.472,31.718,29.68,34.09,28.012,26.433,26.241,26.924,30.542,27.999,26.455,26.156,26.446,25.324,27.266,16.796,27.655,25.413,32.36,29.242,37.316,29.802,30.169,26.794,30.46,28.413,29.36,30.686,28.987,28.927,27.825,25.573,29.772,43.662,40.624,28.678,30.152,31.029,27.664,30.201,30.16,26.2,29.299,27.356,27.547,27.519,26.662,26.981,27.433,27.223,26.685,25.763,26.155,28.63,25.642,26.301,51.346,30.562,29.124,29.031,32.638,27.419,27.5,15.034,30.915,30.79,32.004,27.297,35.126,29.823,29.636,30.116,29.97,27.244,31.593,29.934,26.237,28.333,27.038,null,26.027,26.375,15.617,27.07,26.376,25.767,27.186,27.344,27.376,26.035,25.418,37.093,27.602,28.309,32.911,35.071,30.167,50.808,35.331,34.43,38.723,31.727,32.186,28.307,36.976,31.034,33.404,28.693,58.438,30.187,28.351,31.243,31.26,44.668,30.672,31.364,29.853,32.854,28.276,27.197,27.746,27.363,27.575,28.958,14.559,25.117,25.864,25.888,24.901,24.766,25.714,26.655,26.068,24.886,26.121,25.269,26.127,26.203,24.261,22.988,24.871,24.767,24.95,26.519,26.31,26.485,24.839,24.384,24.241,23.899,23.864,25.578,23.848,23.54,25.075,23.304,23.811,23.625,23.983,25.161,23.55,24.545,25.861,26.529,26.703,26.34,26.242,26.77,26.562,27.714,27.349,26.681,26.842,26.28,26.439,25.817,25.926,26.558,30.488,28.312,28.218,26.68,25.595,47.461,48.083,29.122,36.232,26.85,25.638,25.783,29.443,31.52,24.726,26.864,24.088,24.643,24.893,25.247,24.352,24.769,24.841,24.655,24.602,25.145,22.85,24.015,24.49,24.011,24.069,28.375,24.327,25.622,25.896,24.419,25.043,24.639,24.919,24.27,36.101,33.428,29.361,24.986,23.28,34.314,22.952,22.263,23.0,27.515,28.985,28.625,27.895,32.754,34.948,28.994,27.922,28.039,28.65,27.208,27.837,35.784,26.177,26.792,38.907,54.402,30.547,28.619,28.779,26.719,26.853,46.516,26.013,26.817,25.631,28.457,26.502,26.46,26.064,25.132,25.706,26.851,26.012,25.126,25.126,33.834,27.838,23.033,22.569,22.624,22.686,22.778,24.125,22.332,22.59,21.485,22.831,21.685,21.922,27.324,26.805,24.307,24.824,23.849,24.144,23.579,22.975,23.026,22.385,21.563,21.479,20.675,22.646,20.986,20.537,20.44,29.702,22.809,31.829,30.842,31.709,30.699,30.773,32.465,30.664,33.643,33.113,28.777,36.735,32.744,36.204,36.543,33.606,29.045,33.806,32.09,29.12,29.142,29.627,29.82,30.645,30.187,28.98,28.961,29.189,28.46,31.314,30.703,31.296,45.326,27.666,47.043,28.146,31.518,41.286,28.532,27.216,29.399,null,32.638,49.568,30.488,30.519,27.874,34.363,28.094,26.999,30.55,25.681,15.786,28.782,28.951,31.375,25.866,28.346,27.991,26.591,26.696,26.839,27.725,27.09,26.16,25.945,28.336,26.82,25.779,25.125,24.648,24.974,38.649,35.54,40.133,35.447,36.543,23.725,33.902,37.457,23.602,34.538,35.239,36.018,33.904,37.591,35.45,34.927,35.147,34.921,34.689,34.949,34.034,33.286,33.379,33.016,32.822,32.674,32.581,32.78,38.495,27.691,29.272,29.024,29.191,29.027,28.088,28.163,29.972,30.834,28.111,28.658,26.481,26.545,26.478,30.94,31.548,28.761,28.948,29.192,31.371,27.934,27.74,26.462,28.165,28.089,26.596,26.448,27.302,25.73,27.203,28.163,26.226,29.588,28.55,27.862,26.686,26.16,29.524,28.506,26.102,27.658,28.788,28.097,27.656,32.527,27.881,27.758,31.122,28.87,28.319,27.515,26.923,35.238,30.501,54.619,29.832,29.889,29.242,28.881,29.423,29.264,28.848,29.436,29.829,30.623,27.007,27.655,26.626,26.843,27.45,26.618,46.539,27.306,28.097,26.862,28.249,26.379,27.229,27.733,28.771,26.672,26.498,27.056,26.483,26.81,27.234,28.37,26.633,24.905,25.17,24.426,24.065,24.412,33.832,24.025,24.856,24.634,12.672,23.548,24.708,23.699,12.673,25.051,23.296,22.297,22.818,24.717,27.97,22.281,12.841,26.136,23.625,22.954,23.328,22.685,29.317,23.352,32.145,24.718,22.908,21.704,21.509,24.116,22.51,22.309,21.809,22.794,20.963,37.684,35.953,29.725,31.178,30.767,30.072,28.996,30.566,31.472,29.933,30.189,29.579,29.718,29.083,29.073,30.949,29.018,30.129,28.26,28.813,29.718,31.454,28.991,31.872,30.32,31.202,29.495,30.083,29.359,28.984,30.969,29.38,28.437,28.864,35.358,29.107,28.169,27.692,27.76,28.828,null,30.216,18.997,30.164,30.964,30.002,33.345,31.744,32.711,31.36,31.647,30.216,30.17,null,41.185,30.382,29.446,30.141,29.99,29.525,29.193,30.772,28.441,30.812,30.805,29.771,29.425,29.579,29.747,30.034,30.326,29.101,29.018,29.471,28.655,28.133,28.57,28.055,28.717,28.1,28.879,36.427,27.927,28.325,29.103,26.441,26.652,27.467,27.42,29.42,27.531,38.845,27.217,27.62,41.664,28.084,27.474,26.262,28.121,26.964,26.202,16.656,25.498,26.691,27.403,27.068,29.459,27.367,27.29,25.655,25.726,31.719,25.834,37.648,26.345,25.668,23.904,29.057,26.446,28.747,25.757,24.861,25.872,25.329,28.197,14.703,24.726,28.595,24.998,27.318,26.804,25.501,26.838,28.254,26.479,25.002,25.228,25.042,24.687,23.297,26.295,28.15,24.025,23.948,24.092,24.01,24.936,28.291,29.642,30.491,29.217,29.112,29.157,37.643,28.361,34.776,33.122,30.466,30.723,30.381,29.553,49.659,26.684,28.48,32.921,26.086,28.927,27.011,28.012,27.998,30.591,31.049,55.663,34.436,27.623,30.466,28.901,26.474,28.346,27.911,45.674,25.834,27.411,26.911,26.413,28.194,27.663,27.693,27.46,27.21,27.884,26.124,26.343,26.573,25.12,25.61,26.3,26.446,26.339,28.603,28.492,37.649,32.563,31.752,25.298,27.556,34.015,26.615,25.45,24.986,25.344,25.412,26.926,25.004,25.626,25.331,24.351,24.272,24.761,23.96,24.525,35.119,24.904,24.48,26.012,25.171,24.308,24.616,24.908,24.608,24.225,26.675,33.274,24.189,25.388,23.239,24.488,23.328,14.635,22.822,26.998,27.309,25.412,24.221,24.145,25.021,23.888,23.889,25.342,23.75,22.862,23.781,25.812,22.788,22.869,22.783,23.584,22.684,28.384,27.098,26.17,26.036,27.03,26.541,26.975,25.951,25.752,24.065,27.006,25.962,26.68,26.096,25.702,24.992,25.575,null,28.2,27.371,26.095,26.064,25.923,25.738,25.557,24.829,24.919,26.705,25.23,24.181,24.705,24.454,24.458,25.178,25.258,30.701,30.431,28.644,28.309,35.046,null,null,55.816,50.049,52.917,29.482,31.974,29.515,31.285,35.136,28.332,28.555,29.143,30.31,30.048,32.959,27.751,27.487,29.884,30.789,29.661,44.752,28.594,30.447,27.994,26.919,42.478,28.796,25.955,26.502,28.277,33.738,25.652,27.55,26.472,26.822,31.263,26.347,25.669,26.626,26.483,44.688,25.841,24.705,27.288,30.003,27.943,28.847,27.448,28.495,27.416,28.422,29.311,27.995,27.514,27.435,27.702,26.181,25.678,25.324,25.19,26.47,26.95,25.997,26.124,25.816,26.63,25.545,26.316,27.191,23.787,22.792,26.116,22.799,25.405,25.951,24.833,23.358,23.754,23.463,25.655,24.135,24.95,23.566,24.205,24.458,24.674,24.789,24.068,23.622,24.304,22.618,27.962,22.882,22.182,26.351,21.566,23.024,24.18,24.489,24.247,24.112,24.079,24.259,23.184,23.195,24.328,24.372,22.023,23.331,22.396,21.833,21.444,28.993,28.993,29.085,29.665,29.075,29.495,30.246,29.15,29.57,29.158,28.436,null,28.603,27.358,38.357,27.499,27.885,26.625,43.362,29.712,29.513,29.428,30.169,27.859,28.164,29.144,28.262,27.713,27.006,27.411,27.164,27.034,26.821,28.906,26.802,31.079,30.215,27.01,26.12,26.906,32.765,33.363,29.868,30.805,29.014,28.63,29.693,30.29,38.641,32.678,30.717,31.041,29.498,30.479,30.054,30.094,29.757,29.504,29.772,29.853,29.582,30.424,31.563,29.987,27.517,27.428,27.459,27.245,27.388,33.588,34.105,34.516,38.944,32.031,34.52,35.403,34.843,35.025,36.262,23.769,51.419,38.945,38.483,38.286,34.683,37.388,37.076,36.213,38.947,38.155,35.845,34.403,40.0,35.51,23.893,35.295,34.873,36.663,34.754,34.916,34.198,null,34.678,32.499,30.873,34.598,27.782,28.711,32.689,27.29,27.465,27.81,27.644,27.556,26.508,28.99,27.287,32.481,29.54,27.728,26.805,29.071,31.037,26.535,29.815,29.113,31.392,54.949,28.643,32.182,27.522,34.047,26.469,30.377,27.838,30.559,29.436,27.199,28.543,29.267,26.822,29.351,27.257,28.624,27.117,26.716,25.693,34.899,34.164,17.362,27.933,29.333,29.163,28.964,26.528,28.329,26.753,28.718,26.873,29.534,27.421,27.047,29.89,42.189,null,null,27.154,33.743,34.201,34.708,33.207,26.468,25.569,28.376,26.261,32.288,28.7,26.974,28.565,26.507,26.469,26.166,28.398,27.482,25.261,25.22,28.706,27.982,25.879,38.477,15.797,null,25.853,27.009,33.196,27.177,27.474,27.416,27.658,27.481,null,15.302,26.602,null,40.992,27.937,27.441,25.885,27.492,26.208,27.041,33.459,27.579,25.781,25.849,35.539,29.638,29.271,28.245,26.846,27.374,27.136,26.22,25.935,26.605,28.244,25.424,25.637,26.075,25.497,30.916,26.178,27.118,25.369,34.193,null,null,28.625,27.796,26.486,29.126,30.339,26.023,26.871,34.239,28.588,25.511,29.904,28.675,26.518,30.135,27.015,25.701,25.455,28.412,30.54,30.312,30.219,25.473,26.325,28.686,28.201,28.073,28.431,28.241,25.341,25.467,24.971,24.441,25.614,22.093,22.924,21.287,20.878,23.327,23.013,23.199,23.592,22.226,22.449,10.164,22.059,22.871,22.445,20.8,21.26,20.525,19.667,22.901,40.915,37.932,20.934,30.698,29.926,36.16,20.16,22.983,21.479,20.822,22.848,19.612,40.486,20.396,19.899,19.486,null,null,32.618,26.651,23.342,25.767,25.381,25.502,25.185,24.292,24.469,26.539,26.041,26.35,25.272,41.869,27.538,24.743,25.749,26.0,23.905,38.792,23.15,26.958,25.957,23.31,24.531,23.936,25.456,27.964,23.999,25.322,24.11,25.228,23.432,25.055,22.918,22.856,24.163,25.103,23.759,39.531,39.601,24.33,25.076,24.781,25.431,25.27,25.07,24.301,24.623,25.996,24.882,25.514,25.866,24.615,24.213,23.624,24.415,25.691,23.261,23.501,25.225,24.185,23.754,24.766,25.605,25.123,23.755,25.255,23.542,23.129,22.771,24.1,23.098,23.546,24.857,23.175,23.684,26.23,23.741,23.001,23.173,23.299,23.347,23.299,23.026,24.393,22.441,22.432,23.54,23.418,23.672,23.809,23.625,23.157,43.051,23.635,29.272,23.407,24.559,null,23.285,24.032,23.422,22.77,22.956,22.63,22.848,22.242,24.584,22.398,25.74,22.318,21.449,22.288,21.187,29.002,14.781,26.513,26.739,28.155,24.857,27.378,27.419,29.227,25.331,29.217,28.923,25.857,28.604,26.222,25.337,24.67,25.702,25.997,29.38,23.553,23.555,26.176,26.11,24.51,26.06,26.521,26.63,36.64,14.733,14.686,23.169,23.736,24.124,23.932,23.59,25.329,23.516,23.02,25.122,22.832,22.793,31.398,23.534,23.717,22.072,25.422,27.091,21.822,23.435,21.708,25.684,23.377,22.969,23.1,21.895,25.542,23.545,21.967,21.687,21.301,21.529,23.877,21.904,23.404,21.047,null,44.391,27.564,53.249,14.488,44.285,25.51,26.036,27.054,30.27,16.391,25.686,29.515,30.199,25.778,26.357,27.047,25.973,14.627,25.706,24.922,27.326,25.36,28.589,27.977,27.227,26.896,24.812,24.574,27.3,25.985,24.283,32.505,24.823,27.033,24.674,24.293,25.632,24.815,23.639,24.518,25.708,28.941,25.8,33.704,23.705,23.808,24.283,23.334,24.272,23.019,23.147,24.936,25.314,25.07,26.597,23.712,23.101,22.732,21.784,22.16,22.901,24.784,20.764,21.412,20.651,20.146,22.213,20.39,20.764,20.788,21.254,22.179,21.565,30.654,22.434,31.955,22.434,22.746,21.45,21.292,21.118,24.753,20.127,20.196,20.483,19.686,31.856,21.584,null,23.021,23.613,21.616,21.932,21.096,21.382,23.416,20.824,20.565,21.383,20.555,20.204,20.399,20.415,22.09,20.519,22.264,19.423,19.951,28.423,24.646,26.799,28.95,23.413,24.017,22.584,23.454,22.934,22.066,20.915,22.529,22.6,22.092,21.93,22.679,22.583,21.379,23.653,21.611,22.52,11.126,21.758,23.704,24.035,22.273,22.355,11.068,22.874,22.717,22.314,20.862,22.182,21.897,20.675,20.442,20.795,20.425,21.446,22.713,22.115,26.422,26.05,23.921,28.578,22.658,27.057,24.869,23.417,26.179,22.256,26.698,23.338,25.76,27.018,37.044,27.596,23.158,23.147,25.529,23.41,20.48,22.385,22.151,25.99,23.402,21.744,21.955,22.366,24.98,22.123,20.869,22.705,21.751,21.065,20.686,26.751,37.855,38.856,36.449,51.901,null,26.149,37.947,25.944,25.369,25.003,24.345,25.657,29.096,24.92,27.194,24.166,25.145,24.545,24.36,28.073,29.001,26.934,26.142,35.086,25.091,25.347,25.048,26.745,24.602,33.269,23.885,24.514,23.248,23.864,23.194,29.437,28.482,27.063,28.176,27.595,26.546,null,27.305,27.437,26.013,15.122,30.49,27.649,26.903,29.333,27.336,27.732,28.148,28.706,27.401,27.378,25.503,25.702,25.678,26.953,24.406,24.273,24.616,24.865,44.807,25.115,33.89,30.705,24.936,26.323,26.032,25.173,30.392,25.905,24.313,24.043,27.722,25.654,23.759,25.848,23.936,25.436,28.846,23.287,28.473,24.359,28.954,26.68,33.183,26.11,27.862,27.941,26.707,15.131,26.596,25.39,26.57,27.585,24.893,35.892,26.945,26.896,26.176,23.975,27.644,25.291,27.108,24.347,24.57,24.271,23.403,23.625,24.846,21.454,23.037,21.262,22.266,22.909,22.918,23.742,23.656,22.107,21.636,22.389,22.788,24.302,22.124,22.236,20.754,23.143,22.917,21.787,22.203,25.497,23.607,23.255,23.008,24.09,32.641,21.824,22.459,23.028,22.125,21.984,23.513,22.775,23.101,21.679,21.763,23.299,21.99,22.06,23.524,21.161,19.897,21.478,29.476,25.482,26.612,25.601,25.916,24.903,25.969,24.995,25.746,24.638,23.763,24.116,26.744,24.507,27.841,25.16,27.887,27.683,25.514,25.361,24.624,24.866,26.239,23.891,24.582,24.432,23.872,24.395,24.432,24.101,23.832,23.266,22.886,24.7,22.279,24.102,23.528,21.802,26.634,23.535,22.961,23.219,22.696,22.884,23.684,21.839,21.566,23.12,21.252,21.921,19.951,20.825,25.924,22.19,27.694,26.593,23.361,22.684,23.348,22.987,23.15,23.66,24.279,20.103,24.357,19.546,20.679,20.803,19.803,19.885,18.751,29.372,28.252,27.871,29.233,28.013,27.389,26.864,27.178,28.315,27.981,26.272,28.325,27.108,27.573,26.004,26.461,26.181,30.893,27.489,29.29,30.688,25.71,26.432,26.805,28.574,25.858,25.806,28.084,25.412,27.637,25.044,24.565,34.894,19.157,28.604,28.569,26.993,27.362,27.793,28.208,27.545,27.833,27.84,28.386,27.189,27.843,27.414,26.841,27.618,27.089,28.649,27.8,29.497,25.909,25.979,25.645,25.783,25.738,28.811,25.888,25.368,24.447,null,24.982,29.367,25.132,24.843,25.275,25.341,26.942,25.561,24.856,24.715,25.184,26.298,25.833,25.787,25.856,25.529,25.674,26.464,29.836,24.165,25.379,31.257,24.229,23.282,23.136,24.97,23.905,23.753,24.446,23.502,24.455,22.17,48.542,35.131,25.553,25.539,24.824,26.33,23.409,23.952,24.663,24.313,22.81,19.941,24.362,24.689,25.544,25.257,24.245,26.307,50.613,24.817,30.526,23.336,25.555,24.261,21.98,21.732,21.814,21.651,21.077,21.152,20.122,25.985,26.22,null,25.132,29.831,37.572,29.936,50.234,25.703,26.09,31.258,28.488,27.746,27.243,27.617,35.428,36.516,27.064,26.306,14.735,25.194,22.489,23.231,22.139,26.235,28.447,30.619,26.87,13.658,25.585,23.876,25.702,27.484,27.346,27.232,25.994,27.82,27.099,26.431,28.087,25.413,26.905,24.722,26.478,13.683,25.616,26.019,25.374,25.37,24.911,13.905,23.395,28.357,26.772,24.509,23.444,24.156,24.14,24.2,23.937,13.732,23.596,22.871,23.459,22.738,22.902,22.793,21.88,21.936,22.073,21.126,38.483,43.456,25.973,24.562,27.734,24.961,26.53,26.293,28.15,24.473,28.19,28.363,27.447,null,24.467,27.504,30.026,28.238,27.234,27.691,27.33,26.295,26.34,26.785,25.51,25.279,26.468,24.527,25.928,27.291,28.805,25.866,25.602,26.383,23.405,24.406,27.083,24.726,25.701,23.996,24.732,25.413,27.373,25.162,24.137,25.855,32.866,42.31,37.141,25.19,24.071,24.056,23.615,24.413,42.014,20.616,21.548,23.615,20.773,21.511,25.821,21.305,22.51,19.863,20.24,27.23,23.021,24.237,21.366,21.305,21.182,23.369,22.745,null,22.879,22.368,19.631,20.624,21.742,21.612,21.14,20.308,19.935,21.242,20.244,22.884,19.038,21.707,21.636,26.734,22.093,35.143,20.452,21.232,20.101,11.706,19.318,19.492,19.894,19.142,18.987,21.142,32.401,19.342,25.596,25.524,21.414,26.018,36.605,23.846,26.057,24.215,24.145,24.043,25.408,23.824,23.791,24.627,23.976,24.567,24.099,23.284,21.341,25.97,24.663,24.473,25.568,24.711,23.149,23.07,22.417,23.213,21.818,22.418,21.152,21.327,33.81,20.76,21.006,21.211,21.134,20.367,26.782,24.311,null,22.844,27.792,20.932,22.172,22.952,24.579,24.917,26.289,23.407,24.099,23.844,23.742,22.482,24.402,23.142,23.082,22.524,23.414,24.738,26.302,47.896,23.259,29.476,22.558,30.259,20.786,21.056,24.745,11.193,21.849,22.882,23.283,22.259,21.608,19.948,28.45,20.983,20.53,23.201,20.45,20.458,22.348,21.556,20.506,11.093,21.281,19.772,20.46,24.67,43.734,22.06,27.81,23.488,26.268,22.23,21.194,22.596,21.136,22.847,22.373,23.193,24.712,23.791,20.775,22.593,24.925,24.804,23.706,23.909,23.936,23.198,21.508,21.921,20.839,21.811,22.436,19.599,21.007,23.691,null,21.769,21.129,21.219,20.476,20.385,null,19.987,20.93,20.094,22.501,20.283,19.343,19.478,19.27,null,18.941,25.34,26.098,30.901,27.266,26.837,36.962,42.115,59.003,28.77,44.474,null,23.63,26.756,24.714,27.064,27.5,27.808,28.527,27.581,26.503,26.496,25.938,26.035,null,28.938,50.742,24.526,29.505,30.554,24.983,23.795,27.116,25.042,null,23.325,23.991,23.384,23.75,23.189,23.322,22.947,23.092,30.937,29.032,29.851,28.296,27.721,28.081,27.28,29.014,26.891,28.958,28.673,26.812,28.805,30.15,28.228,27.694,26.512,26.908,26.654,26.401,26.669,27.337,29.887,26.056,23.198,29.318,15.232,28.533,30.812,26.678,28.034,25.918,29.982,25.757,28.801,25.284,25.198,32.242,25.925,24.524,23.922,24.179,26.089,24.234,23.658,24.168,23.709,null,27.024,26.983,26.34,25.561,25.588,25.7,26.514,25.568,27.328,25.944,27.087,26.591,25.609,27.139,24.977,23.918,24.583,29.051,28.101,26.565,25.703,25.296,25.244,24.003,23.59,23.366,22.963,28.86,23.686,23.781,24.299,24.606,22.386,22.556,27.039,24.098,21.215,21.827,23.486,23.895,23.724,22.226,22.661,26.085,21.982,23.802,24.058,22.389,23.159,21.82,22.96,26.348,22.045,24.872,23.888,24.658,23.889,23.403,null,22.38,22.581,21.101,20.478,21.062,24.858,20.309,19.571,19.925,18.899,19.97,13.895,25.276,27.533,26.112,26.811,26.94,27.204,26.925,26.314,27.06,24.51,24.551,27.013,26.328,27.324,26.358,26.702,26.028,31.285,31.353,27.803,29.33,24.945,23.941,21.961,23.255,23.588,25.241,22.955,27.615,23.669,26.771,23.261,29.494,23.457,22.397,20.992,21.745,13.833,29.455,22.147,23.044,21.737,20.294,21.787,23.909,22.93,null,22.598,20.509,21.746,34.03,23.993,24.708,24.06,21.737,23.099,28.144,23.213,21.994,21.459,23.459,22.595,25.646,21.548,26.12,22.061,22.799,20.889,21.477,22.079,20.919,23.562,24.053,null,26.732,24.199,22.972,22.194,20.426,22.224,21.959,20.958,24.331,21.321,null,21.342,21.729,21.338,30.778,26.795,26.339,25.062,25.76,27.579,26.585,27.415,25.956,28.085,24.763,26.836,27.598,15.22,26.445,25.555,24.883,25.899,29.045,27.307,29.002,26.344,26.14,25.498,27.937,27.292,31.468,25.447,27.709,28.013,27.847,26.214,25.619,25.882,49.145,27.678,26.011,26.709,29.32,26.053,45.845,27.12,31.839,25.946,26.062,25.532,26.338,28.47,27.715,25.777,30.3,26.639,null,24.921,15.893,15.372,35.766,25.888,25.483,28.602,26.629,27.336,26.476,27.416,26.632,32.668,27.921,25.386,26.866,27.086,26.619,27.648,30.593,28.982,29.505,26.876,26.312,26.027,27.771,26.425,26.852,27.443,29.726,25.803,27.293,28.4,26.753,28.672,28.788,25.234,26.482,37.593,31.937,29.039,27.505,27.047,27.879,30.821,30.153,27.544,26.175,28.669,27.31,26.329,26.862,28.002,25.977,26.263,37.611,27.444,25.424,31.224,26.714,25.142,24.127,25.885,26.571,24.36,24.586,28.386,24.23,26.016,24.371,25.084,24.76,26.8,24.947,24.868,25.734,25.982,26.18,24.022,24.578,25.698,24.946,25.118,26.058,23.538,24.402,24.118,23.933,23.617,35.378,23.685,14.38,24.042,26.931,26.222,27.053,26.692,30.939,24.99,25.137,24.872,25.27,24.993,23.728,23.946,23.019,25.062,22.619,25.056,25.024,21.427,22.322,20.997,22.742,23.659,29.193,28.75,22.122,22.068,25.497,21.879,24.792,23.013,23.555,23.934,23.237,24.755,24.624,24.687,21.9,23.017,23.141,21.816,25.277,25.974,23.84,23.597,22.687,24.003,24.781,24.063,23.026,22.781,24.37,12.377,22.991,25.879,24.338,24.98,23.465,27.18,24.378,25.112,24.109,23.87,24.238,24.049,26.622,31.696,22.699,22.028,36.61,26.328,27.591,26.169,27.122,26.511,25.615,25.943,26.394,25.622,27.335,25.287,26.936,26.549,27.958,26.992,26.35,27.023,47.844,24.478,26.146,24.131,14.836,23.856,25.026,30.703,25.178,24.216,24.075,24.342,24.548,22.866,25.153,24.946,24.664,25.078,26.067,25.342,25.771,26.318,24.89,24.5,24.082,26.917,24.338,24.575,24.87,23.403,24.593,22.962,24.345,24.525,26.506,26.588,26.729,26.826,25.463,22.888,24.818,24.945,23.722,33.629,23.935,25.035,24.914,30.972,24.332,27.798,13.885,40.494,25.908,25.373,24.416,26.203,25.521,34.123,27.528,28.974,28.054,26.946,27.948,28.169,31.728,14.73,null,30.627,26.539,35.933,25.696,27.392,47.746,26.307,25.063,24.878,26.553,25.83,23.941,30.106,28.044,27.537,28.56,28.336,27.832,28.544,28.691,26.565,27.042,24.904,26.872,25.882,27.273,25.388,27.381,28.682,58.014,33.81,24.439,23.774,28.859,23.908,26.587,23.961,33.681,23.71,23.729,29.462,24.755,23.337,22.969,31.193,24.375,23.294,27.866,26.625,25.241,22.855,23.893,24.775,26.516,23.856,23.494,26.015,24.834,23.068,20.443,20.516,22.405,21.341,21.728,21.175,20.675,20.891,20.964,23.123,24.668,21.956,21.305,21.313,20.746,21.049,21.121,21.23,20.593,23.124,21.838,19.425,22.15,20.958,20.463,19.951,20.279,21.458,25.702,19.791,22.546,21.806,20.643,21.27,21.656,21.747,11.042,21.622,21.063,19.641,22.102,22.805,22.382,20.897,21.514,20.667,22.691,21.498,20.529,20.891,21.661,21.861,25.822,20.392,21.334,21.263,11.084,20.517,19.036,22.597,23.38,22.26,23.634,22.474,21.972,22.191,23.853,22.512,23.221,25.495,24.277,23.314,24.836,24.54,24.183,24.94,25.011,23.686,23.599,21.228,22.243,12.429,21.968,21.71,21.489,23.075,21.908,22.41,null,20.997,25.357,24.692,24.542,25.12,24.664,25.025,25.601,26.633,23.013,22.884,23.724,26.554,22.754,22.13,24.024,21.604,24.352,25.075,21.514,21.09,23.811,21.552,21.693,21.676,20.981,23.225,21.886,21.985,21.433,23.49,22.013,21.768,23.69,null,23.18,22.658,21.655,23.278,22.751,21.335,22.077,22.015,21.429,28.281,21.558,20.585,20.86,21.623,23.462,21.456,22.814,20.49,23.25,25.11,24.164,22.989,22.563,21.286,22.074,22.636,22.176,23.665,21.197,22.529,32.268,21.813,22.219,21.958,22.348,23.261,20.821,25.066,19.895,22.79,21.033,21.677,21.33,21.858,21.464,21.008,21.813,21.944,20.989,21.251,24.834,21.909,21.602,22.695,22.466,21.211,22.916,24.14,22.26,22.166,41.537,21.652,20.605,21.826,28.684,21.501,21.044,22.478,21.701,21.724,21.805,21.242,23.675,21.712,22.551,22.116,20.623,21.774,30.54,20.694,22.495,22.545,23.149,21.365,23.476,24.191,21.983,21.868,22.927,21.373,22.514,21.532,21.061,21.809,21.263,22.147,25.981,26.189,27.482,29.248,27.64,27.702,27.759,28.086,29.404,27.128,26.819,31.905,27.969,27.504,27.759,27.067,26.766,31.386,30.209,24.557,28.061,27.063,26.78,28.39,28.675,27.642,27.25,29.488,27.507,28.188,26.415,27.688,25.766,15.321,26.229,23.487,25.026,24.158,28.603,25.455,24.922,23.534,25.155,25.623,26.193,26.392,27.977,26.167,26.992,26.816,27.176,27.646,26.4,26.953,26.436,23.868,25.898,24.065,25.687,26.035,23.555,25.379,24.207,23.665,27.367,28.73,28.189,26.871,28.313,27.558,27.561,26.787,27.909,26.337,27.286,27.64,24.627,33.02,23.667,25.048,24.752,24.593,22.176,21.173,24.489,21.093,21.93,23.733,23.055,21.73,21.394,22.266,21.865,22.311,21.649,23.299,25.033,23.595,22.275,23.891,22.85,23.909,38.215,21.61,21.546,26.49,21.018,21.782,21.956,23.004,21.73,24.21,22.243,21.475,20.816,28.295,24.192,23.737,23.989,23.008,23.374,21.727,22.915,21.47,22.233,21.825,21.553,22.758,27.588,22.18,21.496,22.248,21.594,22.084,25.234,24.115,24.378,23.712,24.767,23.943,23.354,26.627,35.387,24.222,26.044,30.82,25.664,25.059,24.155,25.338,25.927,26.452,26.289,24.424,34.72,27.032,25.245,25.971,24.073,25.002,24.355,24.079,25.616,25.149,26.065,25.632,24.63,27.039,24.108,25.13,25.888,26.287,36.145,24.261,25.048,25.059,24.077,33.306,24.708,24.125,24.137,23.801,23.939,25.843,24.591,25.72,24.144,27.516,31.49,27.059,28.585,29.533,31.893,26.599,28.606,26.782,27.757,40.515,31.23,44.291,26.06,14.862,38.452,28.352,28.877,41.765,27.758,14.699,28.896,25.625,26.039,26.134,25.135,25.269,24.729,26.463,null,54.484,null,37.48,24.113,34.161,37.912,50.283,50.327,36.52,null,35.894,35.888,37.502,46.067,37.35,37.044,35.338,35.099,55.468,34.705,38.546,42.491,39.098,38.422,35.669,36.418,35.623,39.556,50.029,34.879,37.199,35.234,34.311,35.171,36.382,36.664,40.673,41.684,33.545,36.051,38.542,36.631,39.002,41.05,41.265,56.111,36.873,45.299,36.074,38.447,41.233,36.654,45.236,24.129,37.154,35.639,35.023,26.612,25.349,24.74,26.324,24.663,26.57,25.393,27.611,25.315,29.592,24.827,28.809,37.301,26.467,28.111,14.784,27.784,25.917,35.085,25.217,26.939,24.767,24.757,27.849,24.27,24.25,26.814,24.109,25.105,24.015,28.317,28.138,26.92,41.989,32.173,26.163,24.797,27.564,23.896,24.741,24.722,24.499,23.352,25.529,23.988,23.944,30.115,32.192,32.386,33.97,30.677,28.762,31.056,32.495,33.799,29.523,29.231,31.452,33.604,54.419,29.897,31.909,29.688,46.797,32.171,31.24,29.513,30.821,29.315,28.98,28.926,28.245,33.994,31.021,31.879,30.795,37.23,31.88,31.437,29.286,null,29.981,29.051,28.982,28.998,19.919,31.636,28.223,29.585,32.997,31.482,29.586,32.909,33.41,29.922,31.217,28.787,29.509,39.88,39.71,40.755,29.337,28.541,32.162,31.315,29.838,30.632,28.316,30.581,32.33,31.379,28.357,29.567,29.946,30.913,29.496,29.103,null,30.925,27.516,29.357,28.775,29.12,28.82,28.302,28.512,31.621,28.97,30.685,28.359,28.878,28.684,29.762,28.197,29.321,33.741,28.681,29.032,28.692,29.002,29.138,28.464,26.942,26.87,29.217,29.077,27.462,27.739,26.117,44.208,36.6,38.598,null,33.29,33.313,39.101,31.295,30.917,31.847,32.11,33.9,31.248,32.485,34.62,31.086,31.187,31.102,36.936,33.86,33.672,31.526,33.895,30.862,31.143,30.229,30.884,31.606,31.428,31.462,31.246,28.502,34.777,32.552,38.246,32.703,33.965,34.21,36.754,33.876,32.609,33.246,35.463,35.394,33.019,32.933,32.431,33.308,32.518,32.103,39.236,32.879,31.568,30.88,34.067,33.771,33.339,34.582,35.974,32.864,32.549,33.354,34.648,32.493,33.044,33.999,33.796,33.152,33.387,32.075,22.04,33.598,30.766,40.872,21.735,22.185,19.953,23.46,20.173,20.633,21.47,21.471,21.601,23.606,20.532,21.308,25.71,19.642,22.313,22.462,21.93,22.406,22.757,25.18,22.251,23.965,20.835,20.855,19.407,22.174,20.968,19.539,20.571,20.536,20.325,20.101,20.961,24.456,23.283,23.693,22.809,22.329,21.999,21.065,33.963,27.579,23.528,25.605,21.336,22.246,20.878,20.712,20.151,21.81,36.302,37.638,31.379,52.877,42.805,33.784,36.659,32.928,36.529,33.478,33.11,45.733,41.882,40.626,34.142,35.743,35.371,43.39,34.164,46.859,35.064,33.453,31.897,33.623,33.627,32.725,48.197,31.093,32.571,31.187,34.107,35.424,31.322,33.104,35.165,33.272,49.774,34.276,32.401,33.112,32.73,32.689,32.827,32.099,31.298,31.212,30.953,31.54,30.271,33.676,null,34.968,null,29.747,28.497,28.23,28.601,29.034,27.286,28.882,30.919,30.071,29.942,35.088,33.423,28.359,27.638,27.794,34.429,27.825,31.712,31.207,31.961,32.113,30.241,30.179,31.296,33.318,28.438,28.146,27.35,27.491,30.935,32.746,31.841,29.952,28.714,28.98,31.671,33.078,29.182,27.472,29.823,28.472,28.598,29.232,28.944,31.232,29.044,31.536,31.145,32.68,29.497,28.564,30.253,29.171,29.351,28.343,28.913,31.051,27.49,28.186,28.187,28.238,34.054,31.537,31.996,29.454,30.306,27.894,29.725,28.549,29.332,27.855,28.499,28.706,31.849,28.153,45.153,39.636,31.145,31.058,30.863,30.633,31.177,31.739,31.855,29.735,30.032,31.383,32.081,29.599,44.353,32.069,33.551,33.812,32.48,31.342,31.585,30.136,29.967,31.173,32.566,30.679,30.9,30.873,31.255,29.333,30.961,34.5,31.839,29.128,37.576,30.564,32.332,28.99,28.513,27.823,31.067,32.123,27.282,29.792,36.522,30.949,29.648,29.107,37.304,31.477,32.4,31.126,29.274,30.861,32.807,31.455,29.106,18.23,26.682,38.382,29.213,26.871,29.077,31.535,36.955,18.086,28.682,30.666,30.088,32.031,30.345,37.005,36.234,29.281,18.441,29.023,27.879,27.174,28.17,42.71,29.651,42.418,31.332,30.057,17.981,29.359,36.589,28.409,31.187,41.4,29.081,36.905,27.991,28.377,28.836,29.224,38.377,28.552,28.64,28.157,30.416,40.333,28.666,31.141,30.197,29.56,30.374,30.858,28.366,28.998,28.294,28.286,27.517,28.613,28.59,35.895,28.537,30.476,31.563,36.367,30.23,31.624,30.119,30.688,29.867,28.786,27.874,28.522,29.803,28.125,28.425,27.104,38.255,null,null,27.124,26.883,26.287,null,17.257,null,30.069,54.025,27.999,28.281,31.632,28.29,32.838,27.246,39.638,null,49.885,58.778,33.482,24.366,37.149,39.217,35.788,43.155,33.039,35.496,36.118,35.553,38.5,41.787,36.745,null,40.569,45.792,41.989,39.376,37.88,38.561,40.372,37.041,36.475,34.417,34.946,38.337,36.86,54.478,36.487,34.381,49.018,59.077,null,null,39.135,43.694,38.082,38.465,39.446,39.768,44.237,39.875,37.803,37.495,39.054,38.54,37.183,null,36.982,36.731,37.619,37.004,37.303,37.735,41.482,37.459,33.866,null,34.805,26.094,25.216,25.027,27.485,24.627,27.942,14.187,26.564,25.602,25.743,25.501,27.555,24.309,23.886,32.222,23.926,23.475,23.888,28.305,26.061,26.945,26.05,26.862,26.483,24.232,24.004,27.012,30.247,23.725,23.566,23.105,33.495,30.828,31.926,32.957,30.461,30.252,31.119,32.06,31.302,32.519,32.434,31.016,31.756,30.759,30.496,31.074,50.504,null,33.46,31.405,30.613,30.853,33.738,30.894,32.155,32.936,37.001,31.229,29.584,31.718,31.357,29.458,31.309,43.141,32.265,28.628,30.635,36.064,30.531,22.289,29.26,35.709,29.75,34.164,27.23,33.313,46.962,18.73,29.036,27.132,28.669,26.782,26.492,18.41,31.217,32.514,34.606,36.471,31.397,28.486,null,37.583,47.296,31.521,28.653,27.967,28.874,28.042,18.303,28.743,28.78,28.088,28.221,27.481,30.514,27.92,18.939,43.792,26.441,null,31.811,28.895,32.384,null,30.706,31.908,40.734,43.377,18.347,31.658,32.64,33.834,32.636,35.774,31.167,44.574,32.791,null,41.76,30.617,30.451,17.77,28.619,32.886,33.368,32.312,18.442,30.175,31.33,29.183,33.052,28.602,35.979,null,22.553,34.462,35.393,33.722,38.646,33.057,33.17,48.5,34.517,32.665,41.573,32.818,38.326,35.719,35.785,36.497,52.885,48.976,36.52,35.983,35.618,34.072,33.089,32.015,45.085,31.69,33.355,31.93,31.58,32.452,34.526,36.915,33.817,34.905,35.378,null,54.574,32.642,48.287,35.531,34.6,34.978,35.199,36.381,38.591,34.017,33.268,37.05,33.364,31.236,53.408,36.441,34.746,48.855,33.1,31.468,35.075,34.167,32.211,31.151,33.283,54.279,32.73,33.43,32.58,33.398,32.999,51.227,35.33,34.574,32.815,34.536,35.332,32.656,31.463,34.021,33.228,31.469,31.909,null,14.368,14.438,26.501,24.58,25.996,25.697,26.04,26.66,24.312,25.488,31.549,25.819,26.551,25.795,25.251,25.121,25.632,26.795,25.035,14.415,26.552,29.135,24.4,26.612,28.103,26.52,27.229,26.665,26.23,25.569,25.667,14.399,24.877,27.059,24.069,26.908,14.159,24.85,29.293,30.561,30.599,29.246,31.405,30.671,33.327,31.317,35.546,29.701,30.535,29.075,29.099,52.911,31.191,28.676,28.864,18.664,45.609,30.403,29.911,30.161,32.221,42.445,32.682,35.791,29.626,29.901,28.921,28.572,29.286,27.917,31.914,33.352,31.547,37.246,31.996,30.712,30.208,30.529,30.568,29.737,30.312,30.974,29.917,29.751,31.09,29.613,31.119,33.607,43.122,35.686,30.351,30.698,30.508,30.303,30.173,32.94,28.972,29.836,29.229,29.334,30.096,31.421,29.695,29.341,36.835,44.962,25.963,27.334,27.979,27.661,27.71,29.188,30.196,null,29.426,27.989,15.611,27.945,26.927,26.426,26.009,26.14,25.968,24.952,null,28.955,29.847,28.423,29.83,28.653,28.205,28.543,32.174,32.311,28.361,31.743,31.985,31.446,30.912,45.106,32.883,30.247,30.832,28.275,27.979,27.784,27.887,28.956,29.264,28.59,32.642,56.848,null,28.687,29.27,29.912,30.713,29.868,30.576,30.856,30.594,28.925,29.885,30.853,29.171,30.523,29.748,29.197,32.43,30.27,31.161,29.896,31.196,29.585,29.534,28.667,28.58,27.91,28.381,29.06,28.256,28.519,30.061,30.358,28.632,30.919,32.295,29.025,29.246,30.202,28.717,28.247,28.142,29.084,28.658,28.852,28.763,28.516,29.17,32.568,25.972,39.001,43.577,59.284,null,null,null,41.086,42.702,null,null,47.236,50.046,44.016,45.491,null,50.04,33.462,36.772,36.712,41.128,40.343,35.394,34.323,33.459,45.131,35.348,38.802,46.699,35.08,39.158,58.899,36.444,38.753,34.925,35.076,34.383,34.462,36.593,33.263,null,36.41,39.017,50.027,35.052,37.611,35.152,null,37.49,39.439,38.96,36.183,38.585,35.954,36.342,38.541,38.731,38.161,37.59,null,null,38.088,42.14,48.657,40.41,37.716,35.002,38.609,42.272,39.408,35.278,33.037,52.722,24.424,26.268,27.582,25.64,26.85,27.136,32.616,25.932,26.922,31.225,24.814,26.273,27.719,25.239,24.687,24.764,25.55,29.358,24.449,29.611,25.9,27.844,26.927,26.021,25.488,24.324,25.15,26.623,24.423,24.85,24.934,null,25.958,35.653,38.373,33.03,44.06,33.593,32.58,31.928,30.231,30.745,31.35,30.892,33.048,37.655,29.561,32.352,43.931,32.304,30.957,31.157,30.748,32.454,32.204,33.259,32.143,32.901,32.362,31.844,31.631,31.194,33.061,38.215,31.275,31.764,30.185,31.366,31.174,29.205,30.433,29.695,32.302,35.049,34.762,33.714,33.548,33.429,32.874,31.684,41.488,32.136,32.322,30.786,32.992,34.328,null,55.054,null,null,33.124,32.431,31.164,29.632,29.573,28.112,28.243,27.676,27.986,29.787,26.954,28.61,32.909,41.123,45.431,30.938,30.059,30.815,32.582,37.999,36.266,null,32.359,30.336,32.517,30.514,29.609,29.772,31.095,30.484,29.038,29.494,38.692,32.283,43.799,33.287,40.847,36.805,32.688,33.906,33.608,34.001,33.227,35.928,36.581,35.344,36.665,34.89,35.009,33.429,33.809,33.659,35.751,33.784,33.49,33.874,34.423,31.983,32.721,32.161,33.224,27.236,26.162,24.324,23.585,25.983,25.312,24.669,26.987,33.61,24.167,25.915,25.92,47.249,25.951,27.287,25.938,24.712,25.998,26.88,24.747,29.282,27.375,27.435,25.412,27.37,27.237,26.796,37.551,26.294,26.028,25.46,25.172,25.344,26.66,26.035,25.459,24.232,25.603,24.262,34.16,31.259,32.603,33.163,32.648,33.387,32.979,34.009,31.807,32.517,35.307,30.727,36.487,30.888,36.944,34.969,32.527,32.612,32.76,32.711,51.879,35.0,32.869,32.477,32.427,33.04,32.347,31.604,30.89,49.027,31.177,29.653,33.38,31.064,28.91,31.247,34.689,50.808,31.437,31.555,36.138,31.997,31.161,31.227,29.541,29.124,37.866,29.437,30.057,31.03,39.835,33.747,30.246,32.297,28.102,31.743,29.617,29.522,30.052,30.261,31.591,29.851,34.78,31.27,31.267,30.74,32.546,29.548,30.676,28.63,33.64,31.553,32.377,30.423,30.994,29.799,30.755,32.053,30.125,31.632,30.567,31.287,30.989,30.48,31.75,28.411,null,26.245,25.2,24.267,24.881,23.518,30.765,22.885,27.724,26.349,26.581,23.546,26.975,24.621,25.567,24.463,26.421,24.447,null,22.697,23.605,21.174,20.754,30.837,26.975,22.874,25.011,22.423,26.662,27.484,25.916,26.611,27.648,27.132,25.569,25.918,58.2,24.46,25.112,23.067,13.083,26.324,24.738,23.35,22.457,22.214,28.429,22.56,35.314,28.936,29.898,29.771,41.709,30.053,30.512,32.183,29.437,29.333,31.59,32.568,30.03,31.228,31.712,33.542,30.467,30.105,28.174,28.285,28.918,33.548,34.586,32.021,31.26,32.093,30.071,31.065,30.562,30.04,30.039,25.302,31.806,31.666,39.235,29.195,30.653,28.774,29.45,30.606,27.89,30.682,28.72,28.534,29.57,null,null,null,30.398,null,30.227,28.574,null,30.393,28.94,30.279,28.502,28.245,30.088,41.474,28.405,32.785,29.553,29.251,32.038,35.742,36.05,27.511,25.978,36.602,37.194,58.043,36.434,38.998,41.23,40.478,35.695,35.874,36.55,38.246,37.118,34.6,34.14,33.392,null,25.5,29.772,28.511,26.934,26.734,26.347,26.663,25.117,24.947,27.029,25.27,26.716,24.73,24.192,25.289,24.441,29.041,26.689,25.983,26.216,25.006,25.157,25.748,26.939,27.635,25.955,26.005,26.094,28.096,26.284,24.857,22.889,32.411,32.682,32.155,33.615,33.744,45.933,32.768,32.809,33.817,34.821,35.114,33.253,32.036,35.902,37.084,36.279,35.175,36.0,33.82,33.744,34.672,32.342,32.158,32.856,33.337,33.104,32.164,31.707,31.397,32.85,50.442,31.616,42.792,30.09,36.601,29.462,29.68,28.689,31.172,30.968,31.137,55.942,29.838,29.328,29.516,31.31,33.646,29.886,30.609,29.655,29.832,28.213,37.058,32.154,29.308,29.882,31.186,29.893,31.143,34.638,38.999,28.082,31.146,31.651,30.654,30.104,51.234,30.162,28.888,29.853,32.404,27.141,26.986,26.991,27.897,37.042,34.362,33.541,53.564,33.649,35.992,36.675,35.61,36.371,38.929,43.085,36.368,34.381,37.383,34.144,36.03,33.01,33.305,33.527,32.931,37.599,37.96,34.573,37.668,35.782,34.915,35.406,34.586,35.781,33.49,34.611,36.318,37.974,34.43,43.149,33.104,null,null,30.8,30.708,28.289,29.586,28.314,29.037,28.364,27.256,27.42,28.059,27.431,28.189,29.666,31.96,29.262,35.25,31.596,33.987,50.467,32.732,31.587,31.922,30.401,32.504,32.212,31.435,32.673,30.183,30.571,32.945,30.113,36.319,30.914,48.73,29.871,34.534,44.014,29.743,46.435,28.578,29.169,29.806,29.302,29.605,34.915,28.413,29.552,28.052,29.315,19.355,39.824,28.491,33.52,24.228,25.281,25.015,26.192,25.798,27.262,24.524,25.659,25.681,null,25.387,25.612,26.297,28.17,26.036,24.473,24.989,24.244,25.402,26.544,24.05,26.205,26.472,24.338,25.999,26.31,33.79,26.152,24.678,26.781,24.471,25.284,26.005,25.574,25.04,24.137,23.822,23.961,34.084,37.806,50.166,null,32.49,32.45,30.12,31.26,32.335,31.249,30.537,34.708,29.954,29.719,30.275,32.047,37.649,29.659,21.386,31.185,45.759,29.979,29.898,28.599,32.116,27.702,29.577,29.74,31.114,34.81,30.369,31.075,30.769,31.356,29.185,30.687,28.634,30.367,30.21,29.887,27.854,28.007,29.936,29.263,29.999,28.213,44.455,27.399,26.581,29.172,29.195,29.23,29.145,30.33,29.294,28.653,31.555,30.182,34.076,29.818,50.039,36.553,null,null,29.94,null,31.038,28.432,27.767,34.035,null,33.629,30.521,28.804,28.313,26.948,27.412,28.922,27.119,27.977,28.607,28.159,28.682,28.045,33.659,30.612,28.628,29.88,30.236,29.615,27.949,31.369,28.125,29.404,30.696,27.263,29.051,28.958,28.69,28.394,27.312,27.891,28.194,27.481,29.338,30.49,25.051,48.537,null,22.177,26.217,26.364,23.459,24.424,22.811,21.543,26.309,22.066,21.648,20.901,21.14,null,22.768,26.292,22.54,21.396,22.209,21.268,30.844,20.541,23.501,24.153,22.087,22.386,26.859,25.725,22.377,21.043,21.176,26.678,19.925,21.139,42.362,23.306,21.45,21.868,42.662,26.397,26.388,27.676,23.71,26.088,39.7,25.163,51.445,24.057,22.61,24.192,35.536,22.55,22.298,23.671,22.045,30.809,25.028,27.515,27.18,29.829,29.197,28.858,33.871,27.251,29.814,28.853,28.773,28.149,29.679,33.384,29.23,26.783,28.318,27.09,27.602,27.158,27.31,30.445,29.646,29.312,29.48,28.947,29.809,28.98,29.109,27.683,29.034,33.069,28.659,28.568,28.132,28.906,26.03,28.213,40.735,40.33,37.93,36.793,37.549,35.441,34.902,33.795,35.143,32.904,34.329,33.888,33.787,33.605,38.651,50.02,38.81,38.812,37.363,36.041,35.47,35.401,35.124,35.705,34.93,33.932,35.145,32.952,35.229,34.322,36.349,33.255],\"xaxis\":\"x\",\"xbingroup\":\"x\",\"y\":[2,4,11,12,12,12,12,13,13,13,13,13,14,14,15,15,16,17,19,19,24,28,28,29,29,30,30,31,32,32,32,33,33,33,36,37,38,39,39,54,1,3,5,12,14,20,21,22,23,25,26,26,27,26,27,27,27,28,27,27,28,28,28,28,28,31,31,33,32,32,32,31,32,32,33,32,32,31,33,33,33,32,32,33,33,33,33,33,33,33,33,33,33,32,32,40,2,2,2,2,2,2,2,2,2,2,2,2,2,2,2,2,2,2,2,3,3,3,3,3,3,3,3,3,3,3,3,3,3,3,3,3,3,3,21,21,22,22,22,22,24,24,25,28,31,32,35,36,37,39,40,41,43,51,63,64,8,9,9,18,21,21,22,22,22,23,23,23,23,24,25,27,27,28,28,28,37,38,39,39,42,42,46,46,47,50,50,51,53,57,58,60,61,29,30,30,31,31,32,33,34,35,34,36,37,37,43,43,45,58,64,67,1,2,7,7,8,9,9,9,9,10,11,11,11,11,12,13,13,18,34,34,34,34,34,44,44,47,47,47,47,47,47,47,47,47,47,47,47,47,47,46,47,48,48,48,48,48,48,48,48,48,48,48,48,48,48,48,47,48,48,14,15,15,16,17,17,17,17,18,18,18,19,24,24,28,28,31,32,33,34,37,38,1,1,21,23,25,26,25,26,26,27,27,27,28,28,29,31,33,36,36,37,41,41,54,69,1,12,13,14,17,27,29,29,30,30,30,31,32,32,32,33,34,34,37,45,45,46,48,49,51,53,60,2,2,2,2,2,2,2,2,2,2,2,2,2,2,2,2,2,2,2,18,18,18,18,19,19,20,21,22,23,23,24,24,25,27,28,28,29,30,38,46,48,1,1,1,1,2,2,2,2,2,2,2,2,2,2,2,2,2,2,2,3,3,3,3,3,3,3,3,3,3,3,3,3,4,11,15,19,20,20,21,22,23,30,32,33,34,36,37,39,40,47,53,68,4,8,10,20,21,23,24,27,27,27,30,31,31,31,31,30,33,33,33,34,39,40,40,42,44,47,67,70,68,1,22,22,23,23,23,24,24,25,25,25,25,26,26,26,26,26,26,26,26,28,39,12,13,13,13,14,14,15,15,20,22,26,26,26,28,28,33,35,36,36,36,47,47,47,46,47,48,48,48,48,49,49,50,50,50,50,50,50,51,51,21,30,34,34,35,35,36,36,35,36,37,37,37,37,39,39,39,40,47,50,1,3,5,7,8,9,9,10,10,10,11,11,11,12,12,12,13,15,17,18,24,25,25,26,28,29,29,30,30,30,31,31,32,32,34,34,34,37,38,37,39,1,1,11,12,13,14,15,16,29,30,31,32,33,33,34,38,39,40,40,42,44,49,58,63,67,1,4,6,6,6,7,7,7,7,7,7,7,7,7,7,7,7,7,7,7,7,7,7,7,7,8,8,8,8,8,8,8,8,8,8,8,8,8,8,8,8,8,8,8,8,11,13,22,25,26,26,27,27,28,28,28,29,30,29,30,30,34,34,37,39,39,40,41,41,42,42,43,51,52,52,53,55,61,69,9,10,13,15,17,17,18,18,19,22,23,23,24,25,26,26,27,27,30,31,32,33,34,35,41,41,42,49,49,55,9,9,10,10,10,10,10,10,10,13,13,13,13,13,13,13,13,13,13,13,13,13,13,13,13,13,13,13,15,15,15,15,15,15,15,15,15,15,15,15,15,15,15,15,23,26,44,10,13,14,15,15,17,17,18,19,21,21,21,23,23,28,30,35,36,36,36,36,48,53,52,52,53,52,53,54,20,24,25,25,26,26,26,26,26,26,26,26,26,26,26,26,51,51,51,51,51,51,51,52,55,56,56,56,56,56,56,56,56,56,56,56,56,56,1,24,24,27,31,32,32,33,34,34,35,36,37,37,38,39,39,44,49,66,68,1,2,2,3,3,3,3,3,3,3,3,3,4,4,4,4,4,4,4,18,19,20,20,29,31,33,31,33,34,34,35,35,35,35,36,37,40,40,39,43,49,50,52,52,66,6,12,12,12,12,12,12,12,12,12,13,13,13,13,13,13,30,36,47,50,50,51,6,7,7,8,9,9,12,13,14,14,15,17,18,18,19,20,22,22,22,23,24,26,26,26,26,29,30,30,31,32,32,33,33,34,35,35,38,39,41,44,46,17,19,20,21,21,21,21,21,22,23,23,27,28,28,29,29,29,32,34,35,35,39,41,41,42,42,44,44,45,45,48,50,49,62,64,1,16,17,18,19,20,20,22,22,22,22,22,22,22,22,22,22,22,26,26,26,26,26,26,26,26,26,26,26,26,26,26,26,26,26,28,30,1,1,7,7,7,7,7,7,7,7,7,7,7,7,7,7,8,8,8,8,8,8,8,8,8,8,8,8,8,21,27,27,28,28,28,29,29,29,30,31,32,32,37,42,43,42,43,43,43,43,43,43,43,44,45,45,44,44,45,45,45,45,45,45,45,45,1,1,1,14,15,16,16,17,17,18,18,19,20,25,26,27,28,30,30,35,42,42,47,50,7,10,10,11,11,13,14,14,15,16,16,16,17,28,28,28,29,29,30,33,34,35,36,41,44,44,45,45,44,44,44,44,45,1,11,14,18,18,19,23,24,25,26,26,27,28,28,31,34,34,36,40,41,43,45,46,53,55,1,9,10,11,13,13,13,14,14,14,17,18,19,27,27,30,29,34,39,48,50,51,51,51,51,52,51,52,53,59,1,6,7,8,8,8,8,8,8,8,9,8,9,10,10,10,10,10,11,12,18,30,30,32,32,33,33,33,34,34,36,36,36,38,43,42,46,50,1,1,1,1,1,1,1,1,1,1,1,1,1,1,1,1,1,1,1,3,4,16,17,17,17,18,19,19,20,20,20,20,20,21,21,23,25,25,27,33,34,34,34,35,36,36,37,38,38,39,39,39,40,40,46,53,53,1,20,23,26,26,27,27,28,28,29,31,31,31,41,42,45,47,47,49,51,53,54,53,54,54,54,54,54,55,55,59,62,62,62,63,62,63,63,78,10,10,10,10,10,10,10,10,10,10,10,10,10,11,22,27,31,34,35,35,39,47,48,1,1,12,13,13,14,14,14,15,15,15,23,25,26,26,27,27,28,28,37,42,44,1,1,4,8,9,9,9,10,10,11,11,12,12,12,12,13,13,14,16,23,24,24,25,26,27,32,32,33,33,34,34,35,36,37,38,38,38,39,40,40,1,1,7,7,8,9,11,17,17,18,18,19,19,20,20,21,22,22,22,25,25,26,30,30,33,34,35,34,35,36,36,36,39,42,44,49,53,5,6,7,7,8,9,10,10,10,11,12,12,12,13,14,14,23,25,34,34,34,38,39,39,42,47,6,19,20,21,22,22,23,24,24,24,25,25,26,26,26,27,28,31,32,35,40,41,43,45,45,45,45,46,45,45,44,46,45,44,46,46,46,9,9,10,11,11,11,11,11,11,11,12,16,21,27,30,32,39,40,44,46,47,50,62,1,3,6,7,8,8,9,11,12,16,26,28,30,33,33,34,38,39,45,48,58,67,7,16,16,17,18,18,19,20,21,23,24,24,25,25,25,31,31,32,33,34,34,39,51,11,13,19,21,21,22,23,24,25,25,25,26,27,28,30,31,32,34,35,41,46,50,62,1,1,12,12,12,13,13,13,13,13,13,16,17,18,20,20,20,20,20,20,21,21,21,24,35,38,39,45,46,2,2,3,3,3,3,3,3,3,3,3,3,3,3,6,7,7,7,8,15,15,21,23,23,25,24,25,25,25,26,26,26,26,26,27,27,27,28,28,28,28,28,28,28,28,29,29,29,28,29,30,31,41,41,41,41,41,42,44,45,45,46,46,46,46,46,46,46,47,47,47,47,47,53,56,57,57,57,5,15,16,16,18,18,19,21,25,27,28,28,28,29,29,31,36,38,39,46,46,48,50,67,1,6,7,12,15,19,19,20,20,21,22,23,23,26,27,26,27,27,28,28,28,29,29,30,29,34,41,44,49,1,1,1,12,13,15,18,19,19,20,20,20,21,22,23,26,31,32,34,34,35,36,36,35,36,41,44,44,56,1,1,2,2,9,16,20,21,22,23,26,26,27,27,27,27,27,27,28,28,28,29,29,29,30,3,4,15,15,16,16,17,17,18,18,18,19,19,21,22,25,25,25,26,27,29,31,34,33,36,36,41,42,46,47,49,5,9,10,12,14,15,15,15,18,20,21,21,22,23,28,35,36,37,37,37,43,44,44,49,50,52,60,1,9,11,13,14,17,18,18,18,19,19,20,20,21,21,23,24,24,24,27,29,34,35,39,39,39,40,40,40,42,42,46,53,8,17,20,20,20,21,21,22,23,23,24,25,26,26,27,27,27,28,29,29,36,40,41,43,44,44,45,46,46,47,47,49,50,54,53,53,53,54,53,53,54,65,66,66,66,1,5,8,8,11,12,12,12,13,18,18,20,22,23,24,25,26,26,29,32,37,38,38,40,41,42,1,18,19,20,21,22,22,22,23,24,24,24,25,25,25,26,26,26,27,29,2,3,9,10,10,13,14,15,15,15,16,18,18,19,20,20,22,23,26,26,27,28,30,30,32,34,34,35,39,39,40,42,45,10,11,12,12,13,16,17,17,18,19,20,20,21,22,23,24,27,28,29,29,31,30,31,31,31,31,31,32,33,46,1,1,1,1,1,2,2,12,15,17,18,22,22,23,24,25,30,37,36,38,40,40,39,40,39,39,40,39,40,40,40,40,40,40,39,46,1,1,17,19,20,20,21,24,25,25,26,29,32,33,33,34,34,35,41,40,41,7,9,12,13,14,15,16,16,17,17,17,17,17,19,19,20,21,23,34,37,47,49,50,59,68,72,1,1,9,11,13,14,16,16,17,18,19,22,23,26,32,36,37,44,48,48,1,1,1,1,1,25,26,28,28,31,33,34,34,35,37,38,39,40,40,46,1,15,15,15,15,15,15,15,15,15,15,15,24,25,27,28,34,38,40,45,52,60,65,13,13,13,17,17,18,18,19,20,20,20,21,21,21,24,25,25,26,30,30,32,32,32,32,33,33,33,33,14,18,20,20,20,21,22,25,25,27,28,28,28,29,29,31,38,42,43,43,43,46,46,46,48,47,50,50,51,52,51,51,51,53,52,52,55,55,55,56,6,14,15,22,23,24,25,25,29,31,31,32,38,39,39,39,40,44,47,50,1,1,1,1,4,20,23,24,26,28,29,34,34,35,36,37,38,39,39,41,42,3,14,14,15,15,16,16,17,17,22,26,26,27,33,36,36,37,38,38,39,40,43,44,45,48,3,5,7,8,9,10,10,10,11,11,12,12,13,14,18,32,35,37,39,43,2,4,4,5,14,17,21,23,23,23,24,24,26,26,26,28,29,29,30,32,35,38,39,1,1,1,5,10,10,10,11,21,22,22,23,23,24,25,26,27,29,30,30,37,36,38,40,1,1,5,10,11,11,11,11,12,12,12,13,13,16,17,17,23,24,26,30,30,43,44,47,47,48,48,60,62,15,16,17,18,18,19,22,25,27,28,31,32,35,35,39,39,40,41,48,49,53,54,57,59,65,1,7,7,7,15,16,17,18,26,27,29,33,35,35,37,40,40,41,1,5,9,15,15,16,16,17,17,18,20,23,25,25,26,29,30,34,44,49,1,2,2,2,2,2,2,2,2,2,2,2,4,4,4,4,4,4,4,4,4,4,4,4,4,4,4,4,4,4,5,5,5,5,5,5,5,5,5,5,5,5,5,5,5,5,5,5,6,6,6,6,6,6,6,6,6,6,6,6,6,6,6,6,6,6,20,24,28,29,30,32,33,33,34,35,36,35,39,42,48,49,8,10,11,11,11,12,12,12,13,13,13,13,13,13,13,13,13,30,31,33,33,36,36,36,37,37,37,37,39,41,41,1,1,2,20,21,21,21,21,24,24,26,26,27,27,29,29,30,34,40,41,1,1,2,12,12,12,13,13,13,14,15,16,18,18,19,21,21,21,26,31,32,33,33,33,33,33,33,34,34,34,34,36,37,38,42,51,63,1,1,16,32,33,34,35,36,36,37,37,38,38,39,39,39,40,41,42,42,43,46,60,60,62,63,67,72,1,1,5,11,11,11,15,17,18,19,23,25,32,32,40,41,42,45,46,49,53,1,3,5,5,12,12,12,12,12,12,11,12,12,12,12,12,13,13,13,13,14,17,17,17,17,17,17,17,17,17,17,17,17,17,17,17,17,17,20,20,20,21,22,22,22,22,22,22,22,22,22,22,22,22,22,22,22,31,33,33,33,33,36,1,9,14,31,31,33,34,34,34,35,35,35,36,41,40,42,44,44,47,55,1,2,3,9,18,19,20,20,22,23,23,24,24,25,25,26,27,28,31,32,32,37,42,43,49,49,50,1,3,20,28,29,30,31,31,32,33,34,34,35,35,35,40,42,42,45,46,63,3,3,9,11,13,15,16,17,18,19,20,21,25,27,30,31,32,32,33,34,37,1,1,1,1,1,1,1,1,1,1,1,1,1,1,1,1,1,2,2,2,2,2,2,2,2,2,2,2,2,2,2,2,2,2,3,3,3,3,3,3,3,3,3,3,3,3,3,3,3,3,3,11,11,11,11,12,12,12,13,17,21,24,24,26,27,27,27,27,27,28,28,28,28,29,28,29,31,37,38,38,38,37,2,9,10,11,11,12,12,13,13,26,26,27,27,28,29,30,33,37,38,50,2,3,4,9,17,19,20,21,21,22,22,23,25,25,25,28,30,34,35,38,39,39,1,3,8,10,12,12,14,14,16,16,17,18,19,19,20,21,24,25,29,35,36,37,38,49,52,1,1,2,3,4,18,19,20,28,31,31,32,31,31,32,31,31,32,32,32,32,50,62,1,1,1,1,1,1,1,1,1,1,1,1,1,1,1,1,1,2,2,2,2,2,2,2,2,2,2,2,2,2,2,2,2,2,3,3,3,3,3,3,3,3,3,3,3,3,3,3,3,3,3,27,27,27,28,28,28,28,29,30,31,35,43,43,44,44,48,62,67,11,12,14,15,16,17,19,20,21,21,22,22,24,26,28,29,30,30,31,31,32,35,1,8,10,11,11,11,12,12,12,12,12,13,13,15,16,16,16,16,17,16,18,18,18,18,18,18,18,18,18,18,18,18,18,18,18,18,18,17,27,30,31,32,32,35,42,1,2,2,6,7,8,8,9,9,10,10,11,11,12,12,12,13,13,13,14,16,16,20,24,24,25,26,27,28,29,29,29,29,30,30,31,34,34,35,37,37,38,39,40,41,41,41,42,44,44,46,47,51,1,1,1,1,3,4,4,4,4,4,4,4,4,4,4,5,6,14,15,15,16,17,17,18,18,19,19,19,19,19,20,20,20,20,20,21,21,24,26,27,27,28,28,28,30,30,31,32,33,33,34,35,35,35,36,37,37,38,39,40,40,43,43,44,44,46,1,1,1,1,1,8,9,11,12,13,14,16,16,17,17,18,20,20,21,21,22,27,28,29,39,46,8,9,9,9,10,10,10,10,11,11,11,11,12,12,12,12,15,15,16,22,24,25,25,28,29,29,30,30,33,33,34,35,35,36,36,37,37,38,39,39,40,41,43,48,51,55,65,1,2,7,8,8,7,11,11,12,13,14,15,15,15,16,20,20,21,21,21,23,29,30,30,29,30,30,31,31,31,31,31,31,31,32,32,32,32,32,32,34,47,48,49,49,9,11,11,11,13,13,14,15,17,17,17,20,21,21,21,22,23,24,30,33,35,37,38,38,39,39,39,41,44,44,46,46,46,48,51,51,1,4,5,5,5,6,6,6,7,7,8,8,10,11,15,16,16,19,20,20,20,21,22,24,24,25,25,26,27,28,29,29,31,8,8,9,9,9,9,10,11,12,12,12,13,14,15,21,21,22,23,24,26,26,26,26,27,28,27,28,28,28,28,28,28,28,28,28,28,28,28,28,28,28,28,28,28,29,28,29,29,29,29,29,29,29,29,29,29,29,29,29,29,29,29,29,29,41,43,49,50,50,50,50,51,54,55,56,60,5,5,5,5,5,5,5,5,5,5,6,6,6,6,6,6,7,7,7,7,7,7,10,15,16,16,16,16,16,16,16,17,17,17,17,17,17,17,17,17,17,17,18,19,38,39,40,7,9,10,11,14,14,14,15,15,15,16,16,16,16,17,17,24,24,25,26,27,28,29,29,33,35,36,36,37,38,39,39,39,40,41,41,42,42,43,44,45,46,50,62,65,2,7,7,8,9,9,11,11,11,12,12,12,12,13,13,13,14,14,14,16,17,19,25,25,26,26,27,27,28,28,28,29,31,31,32,32,32,33,32,33,34,33,42,43,43,44,44,45,46,46,45,46,47,47,46,47,47,49,49,51,2,2,4,13,13,13,13,14,14,15,15,15,5,16,16,16,16,16,23,23,24,25,28,28,30,30,33,32,33,33,33,34,34,35,36,37,38,39,49,1,1,1,1,1,1,1,1,1,1,1,1,1,1,1,1,1,1,1,1,7,8,11,13,14,15,15,15,15,15,16,16,17,17,17,18,18,19,24,25,25,27,27,27,28,30,32,33,32,33,34,34,34,35,34,36,36,36,37,38,42,43,44,45,46,47,45,48,1,1,1,1,6,9,9,9,9,9,9,9,12,20,20,20,21,21,22,27,27,28,29,29,30,31,31,31,31,32,32,32,37,37,37,39,40,40,40,41,41,40,41,41,9,10,10,10,10,11,11,12,12,12,12,12,13,13,13,19,23,24,25,25,25,26,26,26,27,28,28,28,29,29,30,31,32,33,32,34,36,37,1,8,8,9,10,10,10,10,11,11,11,11,13,13,13,14,15,17,17,20,21,24,25,26,26,26,27,27,27,28,29,29,29,30,30,31,30,31,38,43,44,53,54,1,1,1,11,12,12,12,12,13,14,14,15,16,17,17,19,20,20,20,32,45,45,47,48,49,50,50,51,7,8,9,9,9,9,9,9,10,12,13,13,17,17,20,20,20,20,20,20,20,20,20,20,20,20,20,20,20,20,20,20,22,28,28,28,28,28,28,28,28,28,28,28,28,28,28,28,28,28,28,31,34,38,40,41,43,44,47,52,52,54,1,6,6,7,7,7,7,7,8,8,8,8,8,8,9,9,20,21,21,22,24,24,25,26,27,28,28,28,29,30,36,36,37,38,38,38,41,1,16,21,21,23,24,24,25,25,26,26,27,32,38,40,43,44,1,2,2,4,4,4,4,4,4,4,4,4,5,14,14,15,15,17,17,18,18,20,20,21,21,22,24,24,25,26,26,30,31,32,33,34,34,34,35,35,37,38,38,39,40,40,41,43,42,44,10,11,11,12,12,12,13,13,14,14,14,14,14,15,15,16,17,19,26,30,30,31,31,32,32,32,33,33,34,34,35,35,36,38,39,41,40,48,6,10,10,10,10,11,11,12,13,13,14,14,14,15,15,17,17,18,19,24,24,24,25,25,29,30,31,32,33,33,34,33,34,35,35,34,36,37,37,38,40,41,41,10,11,11,12,13,13,13,14,14,14,14,15,15,15,15,16,17,17,18,19,21,26,27,30,32,32,32,36,37,38,39,40,40,41,42,42,42,43,45,44,45,47,47,49,51,49,1,1,12,14,14,17,18,28,29,31,32,33,35,36,36,36,37,35,37,38,38,39,46,56,62,64,64,65,64,65,69,1,7,17,23,24,26,26,27,27,27,28,28,28,29,30,31,35,34,35,37,39,40,44,1,2,3,6,12,23,24,25,25,26,26,33,34,35,34,36,37,38,45,45,50,1,11,12,13,14,17,18,19,19,20,20,20,20,21,23,36,36,37,37,38,41,43,43,42,44,44,44,44,44,44,44,47,45,6,13,13,14,14,14,14,14,15,15,15,16,16,19,20,21,21,22,24,25,26,29,30,30,32,33,33,34,35,36,36,36,37,38,42,41,42,41,41,42,43,43,42,41,42,41,43,43,45,44,44,44,45,44,44,45,43,44,45,44,44,44,45,43,45,45,45,46,45,45,45,46,45,45,46,44,45,46,45,45,45,46,44,46,46,46,49,51,52,54,54,54,56,58,64,64,1,1,10,18,18,19,19,20,22,23,24,25,25,26,26,27,28,27,28,30,30,33,46,9,10,10,10,10,11,12,12,13,13,13,13,13,13,13,13,13,12,13,14,14,26,27,28,28,29,33,34,34,36,36,37,37,36,37,37,37,37,37,37,41,54,1,1,1,8,9,9,10,10,10,11,11,12,13,13,14,14,15,16,16,18,20,21,22,24,26,27,27,28,28,29,29,30,30,30,31,31,33,32,33,34,34,36,36,42,1,1,12,12,12,12,13,13,14,17,24,26,30,30,30,31,32,33,34,1,1,1,1,2,3,4,9,16,17,18,18,18,18,17,17,18,18,19,19,19,19,19,19,19,19,20,26,27,27,27,27,27,27,26,28,27,38,38,38,42,43,43,43,43,44,50,1,8,9,9,10,10,11,12,13,18,21,24,25,26,26,28,27,30,35,39,43,44,46,48,47,51,51,52,52,52,52,51,52,52,52,50,50,53,3,9,10,10,10,10,11,11,12,12,12,13,13,13,14,14,14,15,25,28,31,32,33,32,32,33,34,34,35,35,38,39,39,41,40,41,44,46,47,48,49,51,51,52,52,53,53,54,55,1,4,5,6,6,6,7,7,8,8,8,8,9,10,10,11,15,17,20,23,23,23,24,24,25,26,26,26,27,27,28,29,31,32,33,38,39,41,41,43,44,47,1,1,1,10,11,11,12,12,12,12,12,12,12,12,23,24,20,28,29,30,32,32,33,33,35,35,36,36,36,36,37,38,41,35,1,2,2,9,10,10,10,11,11,11,12,12,12,13,13,14,14,15,15,16,17,18,22,23,24,24,25,25,26,27,27,27,28,29,31,31,32,33,34,34,34,38,39,39,40,40,42,41,42,42,44,44,49,50,51,1,7,10,10,10,11,11,12,12,13,13,13,13,14,13,14,15,15,16,16,17,18,19,19,18,21,24,25,25,26,27,28,28,28,28,31,33,34,34,35,35,35,35,37,38,38,39,39,40,41,41,40,40,41,41,40,47,7,9,10,10,10,10,11,11,11,11,11,12,12,12,13,14,14,15,15,17,17,27,27,28,28,30,30,31,31,31,31,31,31,32,32,33,32,34,37,37,38,40,40,42,48,12,14,15,15,15,16,16,17,17,17,17,17,18,18,18,18,18,19,20,21,21,23,28,31,33,34,35,35,36,36,36,36,37,37,40,41,41,43,43,42,45,45,45,46,52,52,53,53,1,1,4,23,24,25,25,25,25,26,26,25,26,26,26,26,26,26,26,28,27,37,45,51,62,66,73,1,2,11,13,14,14,15,15,15,15,15,16,17,18,19,29,32,34,35,36,37,38,39,39,40,41,44,44,45,45,46,46,48,3,8,9,10,10,10,11,11,12,13,14,14,14,15,15,20,21,26,27,27,28,29,28,37,39,39,39,40,40,41,40,43,43,43,43,44,45,47,55,56,58,1,2,10,14,15,18,18,23,24,25,26,26,27,27,28,29,29,29,30,31,29,33,35,41,1,3,9,12,13,13,13,14,14,14,14,15,15,15,16,16,18,18,20,20,24,26,29,31,31,32,32,32,32,33,34,34,34,35,37,38,39,40,41,42,41,45,45,46,47,47,48,49,50,50,52,53,53,55,61,8,8,8,8,8,8,8,8,8,8,8,8,8,8,8,9,9,9,9,9,15,15,17,17,23,23,23,30,32,33,34,37,38,39,39,39,41,42,43,45,45,54,56,59,9,18,19,19,20,20,21,21,21,22,22,23,24,24,24,24,25,26,27,30,30,36,49,8,9,10,10,10,11,11,11,11,12,12,12,12,13,13,14,15,15,15,16,18,22,22,23,23,23,24,24,24,25,25,25,26,26,27,29,30,30,30,30,31,30,31,31,31,31,31,41,43,44,44,45,46,52,2,2,2,2,2,2,2,2,2,2,2,2,2,2,2,2,2,2,2,2,2,2,9,9,11,11,11,11,11,11,11,11,11,11,11,11,12,12,12,12,13,13,14,15,19,21,22,22,23,23,23,24,25,25,26,26,29,31,32,33,33,34,34,34,35,36,37,38,38,39,39,39,40,40,42,43,43,43,43,1,1,4,11,12,20,20,21,22,23,24,25,25,26,26,26,27,27,27,30,37,39,43,1,1,1,1,1,2,14,14,15,15,15,15,16,16,16,17,20,21,26,27,28,29,29,30,31,32,33,34,35,40,41,42,43,48,51,52,4,5,5,6,6,6,7,7,7,7,8,8,8,9,16,18,18,24,24,25,25,26,26,26,27,27,27,27,27,28,28,35,36,38,39,40,42,45,46,47,47,48,48,50,49,50,50,51,52,59,59,60,1,5,5,6,6,6,7,7,8,10,10,11,13,13,14,14,15,15,21,21,21,22,26,27,27,28,28,29,30,31,34,35,36,37,37,37,41,43,44,46,47,4,5,5,5,6,6,7,7,8,8,8,9,9,9,9,10,13,14,15,16,16,18,19,19,20,20,21,21,23,23,24,24,27,27,30,31,33,34,33,34,34,36,37,37,37,38,39,40,41,42,44,46,50,5,5,6,6,6,6,6,6,6,6,6,7,7,7,7,7,7,7,7,7,8,13,17,18,19,19,19,20,20,20,20,21,21,21,21,22,22,22,22,22,22,26,28,29,30,31,31,32,31,32,33,32,33,33,34,34,35,35,36,40,41,42,42,41,43,42,43,43,44,43,47,51,54,1,4,5,5,5,6,6,6,6,7,7,7,7,14,14,14,15,15,16,16,17,19,19,20,20,21,21,21,23,23,23,23,23,24,29,31,31,32,32,33,33,34,34,36,36,37,37,37,37,38,39,41,43,49,51,51,53,1,1,2,2,7,8,8,8,9,9,9,9,10,10,10,10,10,10,11,12,13,14,14,16,16,17,18,20,20,21,21,22,22,23,23,23,24,25,24,25,26,27,28,29,33,33,34,34,35,36,36,36,37,37,38,39,39,39,39,41,41,42,42,42,43,44,46,46,47,47,48,2,7,8,8,8,8,8,9,9,9,9,9,9,10,10,10,10,10,11,13,13,15,16,19,20,20,20,20,20,21,21,22,23,23,24,24,25,25,26,27,28,28,29,30,34,34,35,35,36,36,36,36,36,37,38,38,38,39,39,41,42,43,45,46,46,47,47,49,49,50,50,50,51,51,51,53,53,53,54,1,1,9,22,22,23,24,25,26,26,26,27,28,28,29,29,30,30,30,30,30,31,31,35,35,48,62,63,63,70,8,9,11,12,12,12,13,13,13,14,14,16,16,17,17,19,21,22,27,31,32,36,37,38,38,39,38,40,41,41,40,42,43,46,47,48,49,49,53,56,57,57,61,63,8,9,9,10,10,10,10,10,11,11,11,11,12,12,12,12,13,13,14,15,15,15,16,25,25,27,28,29,29,30,30,31,32,32,32,33,33,33,33,34,34,35,36,36,37,37,38,40,40,41,42,42,42,42,42,4,4,4,5,5,5,5,6,6,7,7,8,8,8,12,13,16,17,18,18,19,20,21,21,22,22,22,24,24,24,24,24,24,24,24,23,24,26,34,37,37,38,38,40,40,41,41,43,45,47,48,49,49,49,50,54,8,8,9,9,9,10,10,10,11,11,11,12,13,13,13,20,21,23,23,23,24,25,26,27,28,29,30,31,31,33,34,34,33,35,34,37,37,38,38,38,40,42,43,44,47,46,48,48,48,48,50,50,51,50,55,59,1,13,17,18,20,21,22,22,22,23,23,23,24,24,24,24,25,26,27,27,30,38,38,39,10,10,11,11,11,11,11,12,12,13,13,13,13,13,14,14,15,15,15,15,16,17,20,23,24,24,24,25,25,25,25,25,25,25,25,25,25,25,26,33,39,40,40,40,41,41,41,42,42,42,42,43,44,54,3,4,6,7,7,7,8,9,9,9,10,10,10,10,10,10,11,11,11,12,12,12,18,22,23,23,24,25,26,28,28,28,28,29,29,30,31,30,31,30,30,30,31,31,31,31,38,38,41,1,1,7,8,8,8,9,9,10,10,11,11,11,11,12,12,12,13,14,16,17,21,21,23,24,25,26,27,27,28,28,29,29,29,30,30,30,31,32,34,35,37,38,39,40,42,42,44,1,1,1,2,2,5,5,6,7,7,8,8,8,12,13,16,16,26,26,27,28,28,29,30,30,30,30,31,31,32,32,33,33,33,33,36,38,38,41,47,49,53,52,58,2,5,5,6,6,7,7,7,8,8,8,9,10,11,14,16,17,18,18,20,24,25,27,27,28,28,29,30,31,32,33,33,32,33,34,37,37,38,44,45,51,1,5,8,17,20,20,21,21,21,22,22,22,22,23,25,26,27,26,27,27,28,29,31,36,38,49,50,10,14,15,17,17,19,19,20,20,20,21,21,21,22,22,23,23,24,24,25,26,28,34,34,37,41,42,43,43,43,44,44,46,47,47,46,47,47,47,47,47,47,48,52,52,54,66,1,1,11,12,13,13,13,14,14,16,16,16,17,18,19,19,20,21,22,24,28,30,31,33,34,34,36,36,36,35,37,37,37,37,37,36,37,37,38,47,51,1,1,2,3,3,3,4,4,4,4,4,4,5,5,5,5,5,5,5,5,7,13,13,13,13,13,13,13,13,14,14,14,14,14,14,14,14,14,15,15,15,15,15,15,15,15,16,23,24,25,26,27,37,37,38,38,39,39,39,39,39,39,39,39,39,40,39,40,40,40,40,40,39,41,41,47,6,9,9,9,10,10,10,11,11,11,11,11,12,12,12,12,13,16,16,17,17,18,18,19,21,22,24,25,27,28,28,28,29,29,30,29,31,32,31,32,33,33,32,34,34,35,36,37,38,38,38,39,41,41,48,47,1,7,8,8,8,9,9,9,9,9,9,9,9,10,10,10,10,10,11,11,11,12,13,14,14,19,21,21,22,22,22,22,23,23,23,23,23,23,23,23,24,24,25,25,25,25,31,33,32,36,36,36,37,37,37,37,38,38,38,38,39,39,39,38,39,38,40,40,45,50,53,1,6,7,8,9,9,9,10,10,10,10,10,10,10,10,11,11,11,11,13,14,14,15,17,17,19,19,22,22,23,23,24,25,25,26,26,26,26,27,27,27,27,28,28,29,30,35,35,37,38,39,39,40,40,40,41,41,42,42,44,43,44,45,48,47,51,51,1,3,17,27,29,29,29,29,29,29,30,30,30,31,33,34,34,35,38,39,40,46,54,70,73,74,12,13,13,15,16,16,17,17,17,17,18,19,19,21,21,23,24,24,28,29,33,38,40,41,42,42,43,43,43,44,47,50,52,52,58,58,63,10,10,11,11,12,13,13,14,14,14,14,14,14,15,15,16,16,17,19,19,20,20,20,23,24,25,25,26,27,27,28,28,28,28,28,28,28,29,28,28,29,34,37,38,39,41,46,47,53,1,2,10,11,11,12,12,12,13,13,13,14,14,14,15,15,16,16,16,16,16,18,21,26,27,28,29,29,30,31,31,32,33,32,34,34,35,35,35,37,37,37,38,1,1,1,3,6,10,11,12,12,12,13,13,14,14,17,18,19,19,19,20,20,21,22,22,24,24,25,27,31,31,31,32,32,36,38,38,38,39,40,40,40,41,41,40,42,43,43,44,45,46,45,47,47,46,47,50,50,52,53,57,1,4,8,12,14,15,15,15,16,16,16,17,17,17,18,18,18,18,19,18,20,20,20,21,22,30,32,34,34,35,36,38,38,39,39,39,40,39,40,40,39,41,40,42,41,43,43,45,45,46,47,47,51,52,55,56,58,64,7,13,14,15,17,17,18,19,19,20,20,20,21,21,22,22,23,23,24,24,27,27,29,32,34,35,35,37,38,39,40,1,1,8,10,10,11,11,11,12,12,12,12,12,13,13,13,14,14,14,16,18,18,18,18,19,19,24,25,25,26,28,29,29,30,30,30,31,32,33,33,32,33,33,33,33,33,33,33,40,40,40,40,40,45,50,50,1,1,1,7,13,13,13,13,14,14,15,15,16,16,16,17,17,17,17,17,18,18,19,20,21,22,26,30,31,31,31,31,32,33,34,34,35,35,36,36,37,36,40,41,42,48,1,7,13,13,13,13,13,13,14,14,14,14,14,14,14,15,15,15,17,18,18,21,26,28,31,31,32,32,32,32,32,33,33,34,34,35,35,35,34,38,42,1,1,14,19,25,26,26,27,27,27,27,28,28,28,28,29,30,30,31,31,32,32,33,32,33,33,36,36,1,1,1,9,9,9,13,25,26,26,26,27,27,27,28,28,28,29,29,30,30,31,32,33,37,38,38,39,41,44,9,13,14,17,20,20,20,21,21,21,21,21,22,23,24,24,25,26,26,30,30,34,35,39,5,5,8,8,9,9,9,10,10,10,10,13,13,14,14,14,15,15,15,17,18,18,18,18,18,19,19,19,19,19,19,19,19,19,20,20,20,20,23,23,29,31,37,50,50,51,51,52,53,54,54,54,54,55,55,55,56,56,55,56,57,55,57,56,56,57,58,59,61,1,1,11,12,13,13,14,14,14,15,15,16,16,16,16,16,16,17,17,17,17,18,19,19,23,23,26,27,28,29,30,31,32,36,36,35,36,36,37,37,37,38,41,40,42,48,3,3,10,11,12,13,13,13,13,13,14,14,15,15,15,15,16,16,17,17,17,17,17,17,20,22,23,24,24,25,26,26,27,27,28,29,32,32,32,32,34,34,35,36,37,37,38,38,39,38,40,41,41,42,43,44,46,44,52,9,9,10,10,10,11,12,12,14,14,14,15,15,15,16,16,16,16,16,17,18,19,20,20,21,23,24,25,25,25,25,26,28,30,30,30,31,32,32,33,33,34,35,36,37,37,38,39,39,40,39,40,40,42,45,47,48,50,1,2,8,9,9,9,10,10,10,10,10,10,11,11,11,13,13,13,13,14,14,15,15,16,16,16,19,20,21,22,22,23,23,23,23,24,24,25,25,25,25,26,27,29,30,31,32,32,33,34,33,34,34,35,36,36,35,38,39,39,40,39,40,40,40,37,41,42,44,44,45,45,45,46,45,46,46,46,47,45,53,55,1,7,8,9,9,10,10,10,11,11,11,11,11,11,13,14,14,15,15,16,16,16,17,18,19,19,20,21,21,23,23,24,25,25,26,26,27,29,29,28,29,29,28,30,30,32,34,35,34,35,36,36,36,36,39,38,41,41,41,42,42,43,44,47,48,47,48,49,48,47,50,50,49,51,53,53,54,12,15,15,16,16,17,19,20,22,22,24,25,26,25,27,28,29,32,33,32,33,33,34,33,32,33,34,34,33,43,46,48,49,52,53,54,55,56,62,63,68,68,69,8,9,13,15,16,17,17,17,17,17,18,19,19,19,19,19,19,19,19,20,20,20,21,21,23,33,34,34,34,34,34,35,35,35,35,35,35,35,36,36,36,36,36,36,36,36,37,37,37,43,45,49,50,50,50,50,51,51,51,51,51,52,52,52,52,52,52,53,52,53,53,53,53,53,55,61,10,11,11,11,12,12,12,13,14,14,14,14,14,14,14,14,15,15,15,15,17,18,18,19,24,25,26,26,27,27,27,28,28,28,28,29,28,30,30,30,29,31,31,33,34,37,39,40,40,42,42,42,42,43,42,44,45,43,44,45,45,47,44,48,48,9,10,11,11,11,11,11,11,11,11,11,11,12,12,12,12,12,12,12,12,13,13,16,20,24,24,24,25,25,26,26,26,26,27,27,28,28,30,30,30,31,31,31,32,31,35,36,37,38,38,39,39,40,41,8,10,10,14,14,15,15,16,16,16,17,20,20,21,22,22,23,23,23,24,24,26,30,28,31,32,35,36,36,37,40,41,41,43,46,48,48,48,51,49,49,50,51,53,53,51,56,56,59,59,10,10,10,10,11,11,11,11,11,11,12,12,12,12,12,12,12,12,12,12,13,13,13,13,16,23,24,24,24,24,25,25,25,25,25,26,26,25,26,27,27,27,28,28,28,28,29,32,34,36,37,39,37,40,40,41,42,42,43,43,44,43,47,47,47,50,51,50,50,49,50,48,50,52,53,52,54,53,52,53,51,54,53,51,53,56,58,62,1,1,2,1,5,13,16,16,17,18,18,19,19,19,20,20,20,21,21,24,31,32,33,20,34,34,35,35,37,37,38,40,40,41,41,1,9,10,10,10,11,11,11,11,11,11,11,12,12,12,13,13,14,14,15,15,16,16,16,15,16,17,19,19,22,24,24,24,25,25,26,26,29,28,29,29,29,29,27,28,29,30,29,30,29,30,31,35,40,41,45,44,47,45,48,48,47,49,47,49,49,46,48,53,8,8,8,9,9,10,10,10,10,10,10,11,11,11,11,12,12,12,13,15,16,17,18,19,19,20,19,20,21,21,22,22,22,23,23,24,24,24,24,24,23,24,25,33,34,35,35,35,36,36,36,35,37,37,37,37,37,36,38,37,39,38,41,41,41,1,10,10,11,12,13,13,13,13,14,14,14,14,14,15,15,16,16,16,16,16,16,16,17,16,22,24,27,28,30,31,31,33,33,34,34,34,35,36,36,36,37,37,38,38,38,41,41,42,53,1,1,1,1,2,3,15,16,16,16,16,17,17,18,18,18,19,19,21,22,22,22,24,25,27,30,31,32,33,34,35,35,37,39,39,41,45,45,46,46,47,50,50,56,55,54,56,1,2,5,15,15,16,16,16,16,16,16,17,17,17,18,18,18,20,24,25,25,27,27,30,33,34,35,34,36,36,36,38,40,39,40,42,41,43,42,44,48,54,10,12,13,14,15,16,16,16,16,17,17,17,17,18,18,19,20,20,20,21,21,21,21,21,22,28,30,31,31,31,33,32,34,35,38,39,40,42,42,41,41,42,43,44,44,45,45,45,45,48,48,49,52,51,54,53,58,59,3,11,12,13,14,15,15,15,16,16,16,16,17,17,19,20,24,25,25,26,30,1,6,8,8,8,8,8,8,8,8,8,8,8,9,9,9,9,10,10,27,25,29,31,32,33,34,46,56,7,9,11,13,13,14,16,17,19,20,21,22,23,24,26,26,30,34,36,44,1,1,1,2,2,2,2,2,2,2,2,2,2,4,5,5,5,5,5,6,6,6,6,11,11,12,12,18,17,19,19,18,19,19,19,19,19,18,19,20,20,20,20,20,20,20,23,25,21,34,35,36,36,37,37,37,37,38,38,38,38,38,38,38,41,41,46,1,1,12,13,14,14,14,15,16,16,16,16,16,16,16,17,17,17,19,21,22,22,27,29,32,34,35,54,1,2,17,19,19,19,19,19,20,21,21,21,22,22,23,25,26,28,28,30,1,1,10,10,11,12,12,12,13,13,13,14,14,14,15,15,15,17,20,21,32,33,37,41,42,44,54,1,1,1,5,5,6,6,6,7,7,7,7,9,11,12,13,13,14,14,14,15,15,16,18,18,19,23,24,24,24,24,25,26,26,27,27,27,27,28,28,29,30,30,32,33,32,35,40,41,40,42,41,45,50,50,48,51,56,58,59,63,1,3,7,8,9,9,9,9,9,9,9,9,9,9,10,10,10,10,10,11,11,13,24,27,36,36,37,42,53,1,1,11,12,12,12,13,13,15,15,15,16,16,17,21,20,22,22,24,25,26,27,28,28,30,39,40,49,1,1,1,2,4,5,12,13,13,14,14,14,14,15,17,17,22,21,23,24,24,25,34,34,39,51,52,58,62,14,14,15,15,14,15,15,15,15,15,15,15,15,15,15,15,15,15,16,16,20,22,31,43,55,2,16,17,21,22,23,24,25,25,31,33,33,35,35,36,36,36,36,37,37,38,49,52,1,1,2,3,3,3,3,3,3,6,25,28,29,29,29,30,30,31,32,32,32,34,37,41,45,52,1,1,1,1,2,18,18,20,21,22,23,24,24,25,28,31,35,38,38,44,1,4,13,17,19,19,19,19,20,21,24,26,28,28,30,31,31,31,31,31,31,31,31,32,32,38,51,11,12,13,13,14,14,14,11,15,16,16,17,18,19,20,20,20,24,25,24,26,26,28,34,40,48,50,50,50,50,51,50,45,51,52,54,64,57,1,1,1,1,1,1,11,13,15,15,18,23,24,28,33,36,37,39,40,41,46,47,1,1,1,9,10,10,11,11,12,16,16,18,18,18,19,18,19,19,19,21,22,31,33,34,35,39,39,41,43,43,44,44,45,47,49,50,51,51,55,2,13,15,15,15,16,17,18,18,18,19,19,20,21,21,22,22,22,22,22,22,22,22,22,22,22,22,26,26,27,27,28,28,28,28,29,29,29,29,29,30,30,30,30,30,30,30,30,30,30,4,5,7,14,15,17,18,19,19,19,19,21,24,27,28,30,32,33,33,34,35,35,37,39,40,40,42,43,45,45,48,2,2,3,3,11,12,12,14,14,15,15,15,16,18,19,21,21,21,23,23,26,29,30,33,34,36,37,36,37,37,37,37,37,37,39,40,41,42,44,45,46,47,1,2,17,18,18,19,19,20,20,21,23,25,30,31,31,31,36,43,43,44,46,46,47,48,48,49,50,50,50,51,52,53,2,10,10,11,15,16,17,18,20,21,22,28,35,42,49,50,49,50,51,52,53,53,56,56,57,65,65,66,71,13,14,15,16,17,17,18,18,18,19,20,20,25,26,28,29,30,31,32,32,36,38,39,40,42,42,43,42,43,43,43,44,44,45,47,47,48,15,16,18,18,18,18,19,19,20,20,21,21,21,22,23,27,28,29,33,33,34,34,38,40,41,42,43,44,43,45,45,46,47,46,47,47,48,49,1,2,13,14,14,15,17,18,19,21,21,21,23,24,25,26,26,27,28,29,31,31,32,35,37,37,38,40,43,44,44,45,46,46,47,47,47,49,50,50,51,12,13,18,19,19,20,20,21,21,21,22,23,25,26,27,28,28,29,32,33,38,44,45,46,47,48,49,49,50,52,52,55,56,57,58,60,1,1,1,16,16,16,17,17,17,19,19,20,20,20,22,22,22,23,28,28,30,31,32,32,33,34,37,38,38,40,40,40,39,42,42,42,43,43,43,43,49,4,9,15,15,17,19,26,27,27,28,29,30,31,33,34,35,35,36,37,37,38,40,17,18,18,18,18,19,19,20,20,20,21,21,21,21,21,21,21,21,27,34,38,39,39,42,43,44,45,46,46,46,46,46,46,46,50,51,51,52,1,2,4,15,15,16,17,17,18,18,18,18,22,22,24,25,26,27,29,30,33,35,36,37,39,39,39,39,40,40,41,42,43,43,45,45,1,1,1,2,3,20,21,23,24,24,26,26,29,29,30,30,34,37,37,42,43,44,46,50,50,52,54,55,55,56,56,59,63,16,16,17,17,18,18,18,18,18,19,19,24,28,29,30,31,31,31,31,32,34,38,39,40,41,41,41,41,42,42,42,1,1,2,16,18,19,21,21,22,22,23,25,28,29,29,29,29,30,31,43,43,44,45,47,47,48,49,2,16,16,17,17,17,18,18,19,20,20,20,21,22,22,23,24,24,24,29,29,35,38,38,39,39,40,39,40,41,41,43,43,44,44,45,46,1,1,2,2,17,17,17,18,20,20,20,21,20,21,21,22,22,22,23,24,24,25,26,31,32,35,37,38,37,38,39,40,41,40,42,42,42,43,43,44,45,44,47,16,19,20,20,20,20,21,21,22,24,25,25,25,25,25,25,26,33,38,44,45,46,46,46,47,47,47,51,51,52,53,53,54,54,1,1,2,15,16,18,19,19,20,21,21,21,22,23,23,23,24,26,27,29,31,31,32,37,40,40,41,42,43,42,43,44,45,45,45,48,50,1,3,4,6,8,8,9,13,14,14,17,26,27,33,34,37,38,44,46,48,48,48,49,52,52,53,52,53,54,52,53,54,56,54,57,59,68,17,19,19,19,19,19,19,19,19,19,19,20,21,29,29,30,33,35,36,37,37,39,42,42,44,49,53,53,53,53,5,13,15,19,20,20,20,21,21,23,23,25,25,26,26,29,29,32,34,35,40,42,43,46,46,48,48,49,49,50,50,52,52,52,52,54,54,56,58,18,19,20,21,21,21,22,22,23,24,24,25,25,25,26,26,27,28,30,30,34,35,35,35,35,35,38,38,38,40,43,46,47,49,21,21,22,23,23,25,27,27,27,28,29,29,31,35,35,38,37,38,38,38,38,38,38,38,38,39,40,49,50,53,54,18,18,18,19,20,20,21,22,23,25,29,29,30,30,31,31,32,32,41,41,44,45,45,47,47,48,46,50,50,52,53,53,54,53,55,58,60,1,14,15,17,17,18,18,18,19,19,20,20,22,28,28,29,30,30,30,31,33,36,37,37,38,39,39,40,41,41,43,43,16,18,22,22,22,21,22,25,26,26,26,27,28,28,29,28,30,31,33,33,33,34,34,34,35,35,36,36,36,37,43,43,45,50,12,14,14,14,15,16,17,17,17,17,17,17,17,17,17,17,18,24,27,28,29,31,33,33,33,34,35,39,40,41,42,42,42,43,43,46,50,1,2,5,17,17,17,18,18,19,21,23,25,28,34,36,37,38,40,40,42,43,46,48,50,50,51,52,53,1,12,14,14,15,15,15,17,18,18,19,22,23,24,25,28,28,31,31,32,35,36,37,38,38,38,39,39,39,40,40,41,43,2,7,7,8,8,8,8,9,9,9,9,10,10,10,10,11,11,11,27,33,36,38,38,38,40,40,40,41,42,42,43,43,44,46,48,51,51,56,62,63,64,64,64,64,64,65,64,65,66,66,65,66,66,67,67,14,19,19,20,21,22,22,23,22,23,23,24,24,25,24,25,27,27,27,28,29,29,30,32,38,39,41,42,42,43,42,41,43,44,45,45,45,45,46,46,47,2,11,12,17,17,17,17,18,18,18,18,19,19,19,20,21,21,22,22,23,26,27,28,34,34,34,34,36,37,38,38,38,39,40,39,40,41,42,42,42,1,2,9,17,17,17,18,19,19,20,20,21,21,21,19,22,22,23,23,23,25,26,28,34,35,38,38,39,39,40,37,41,41,41,42,42,43,43,44,44,46,1,18,19,19,19,20,21,21,21,22,22,23,23,24,24,24,25,27,27,30,33,40,41,42,42,42,43,46,47,47,46,48,47,48,49,58,23,23,24,24,26,26,29,32,36,37,37,41,42,44,44,44,45,45,47,47,49,51,53,51,55,55,57,59,60,61,20,22,22,23,23,25,25,25,25,25,25,25,25,27,27,29,30,30,30,30,30,31,32,36,36,37,39,40,44,47,48,48,49,50,51,53,53,53,53,54,58,63,21,21,21,22,24,24,27,28,30,31,36,36,37,38,40,41,43,43,47,48,50,51,51,50,51,52,53,56,59,1,16,16,18,19,19,19,20,22,22,26,27,28,28,28,30,30,32,32,33,34,37,37,40,43,45,46,46,46,47,46,48,50,50,50,51,51,52,52,54,15,15,16,16,16,16,18,18,19,20,20,23,24,25,26,26,28,30,31,33,33,35,37,37,38,38,40,39,42,43,42,45,44,45,45,1,1,1,1,1,1,1,1,1,1,1,1,1,1,1,2,2,2,2,2,2,2,3,3,3,3,3,3,3,5,6,6,6,11,11,11,11,12,12,12,12,12,12,12,12,12,12,13,13,27,30,34,34,37,37,37,38,38,39,39,41,43,49,51,52,52,53,52,53,52,53,53,53,53,54,17,17,17,17,18,19,19,19,19,20,20,20,26,27,27,29,30,30,31,32,32,35,35,40,41,41,42,43,46,45,48,49,50,49,50,50,51,51,54,55,55,56,58,12,17,17,17,18,18,18,19,20,20,21,21,22,22,22,23,24,26,28,32,32,35,33,36,37,36,37,39,41,41,42,42,42,42,43,43,43,43,44,44,1,9,18,20,20,21,21,21,23,25,30,30,31,31,32,33,33,34,34,34,35,35,37,37,39,40,41,43,43,2,3,10,13,14,15,16,18,18,18,20,22,23,27,28,28,32,35,36,36,37,39,39,40,40,40,41,44,44,43,48,49,53,57,58,60,60,6,7,11,15,17,18,19,19,19,22,23,23,24,24,25,25,25,25,25,24,25,24,26,26,26,26,27,28,26,28,31,31,32,32,31,32,31,30,37,42,45,1,1,9,19,20,21,22,22,22,22,22,22,23,23,25,25,24,26,27,30,30,31,33,29,36,38,42,43,38,44,50,48,51,52,53,54,54,56,58,61,61,63,1,7,8,12,15,14,16,16,17,18,18,17,18,19,19,20,22,22,22,23,23,23,22,25,26,27,25,30,30,32,35,36,37,39,38,39,39,40,39,41,41,39,43,43,44,1,1,4,12,13,14,17,16,19,19,19,19,20,22,22,23,23,23,24,26,29,31,36,36,38,38,36,37,37,38,39,41,42,42,43,45,8,18,19,19,19,20,21,20,22,23,23,23,24,23,25,25,29,30,33,33,33,34,33,34,34,34,33,34,34,34,34,33,38,38,47,1,2,14,15,16,17,19,20,22,23,23,24,25,24,25,27,27,27,28,28,29,30,32,34,37,41,41,42,42,42,44,42,44,44,46,46,47,48,48,48,51,1,2,17,17,18,20,21,21,21,22,22,23,22,23,24,24,25,26,27,28,33,38,40,41,41,41,42,43,43,44,44,44,44,44,45,48,49,10,16,17,18,19,22,23,24,25,26,26,27,27,27,27,28,28,29,29,31,37,40,40,38,41,41,43,44,43,46,46,46,45,47,49,49,50,50,53,1,18,21,22,23,24,25,27,29,36,37,39,40,40,41,41,44,45,45,46,49,49,47,47,48,49,48,48,48,58,63,17,18,19,19,19,20,21,22,21,22,23,25,25,25,25,27,27,27,37,41,40,41,42,40,42,42,41,44,45,45,45,45,45,46,48,1,2,2,4,7,14,15,23,22,25,24,25,25,25,26,27,28,29,28,32,33,34,34,36,34,44,43,48,50,48,50,52,53,52,53,51,54,55,56,57,57,57,1,3,8,24,28,29,29,30,30,31,32,39,39,43,47,49,52,53,53,54,55,16,17,17,18,18,18,19,19,20,21,21,22,25,26,27,28,29,31,31,32,34,35,35,38,38,38,39,42,44,45,45,46,46,48,50,50,46,52,53,52,53,51,53,53,55,56,1,1,1,10,16,18,19,19,20,20,21,24,25,26,27,27,28,28,28,29,29,35,40,40,41,43,44,43,45,44,47,47,48,48,48,49,51,55,5,12,14,16,17,17,17,16,18,23,24,26,26,26,26,27,25,26,28,38,41,41,44,46,46,47,46,48,50,51,51,48,53,54,51,52,55,59,1,1,1,1,1,1,14,14,14,14,14,14,14,14,25,25,26,25,27,27,30,30,32,34,38,39,39,39,39,43,41,43,43,44,44,45,31,14,15,17,19,19,19,20,21,22,25,25,26,28,28,29,29,30,30,30,32,35,38,39,39,40,41,41,41,40,44,43,1,15,16,17,17,18,20,21,21,20,22,23,23,24,24,24,25,25,25,25,25,26,28,29,29,31,30,32,33,34,34,34,35,33,36,37,37,37,38,37,39,40,40,41,40,2,12,13,13,14,15,15,16,18,18,18,20,20,20,20,20,21,22,22,23,23,25,29,30,33,34,33,35,35,34,34,36,34,35,35,36,37,37,38,38,39,40,41,41,9,21,21,21,24,25,26,26,27,27,28,28,32,33,35,35,38,39,46,46,47,48,48,49,49,50,51,52,53,54,54,59,63,15,18,18,18,19,19,20,20,20,21,21,21,22,23,23,25,25,25,26,27,36,34,36,39,39,39,39,40,40,40,40,41,42,42,42,42,43,45,15,18,20,20,20,19,21,21,20,21,22,22,23,23,24,24,25,25,35,34,37,40,40,40,41,41,41,40,42,42,43,44,1,3,17,18,20,21,21,21,22,23,23,22,24,24,25,25,25,26,36,38,39,41,41,42,42,43,43,44,44,45,46,46,16,17,20,21,21,21,22,22,23,23,23,24,25,25,27,27,40,41,42,42,42,44,44,45,46,46,46,47,47,48,49,49,52,18,24,25,25,25,27,27,27,29,29,28,29,30,31,32,34,40,43,44,45,46,49,49,51,51,52,52,55,56,10,11,18,24,24,24,25,25,25,25,37,37,39,41,42,39,45,45,46,48,50,57,58,58,63,65,1,1,8,11,12,18,18,19,19,19,19,20,20,20,21,22,22,23,23,23,24,26,27,31,30,33,37,38,40,43,42,44,44,45,44,45,46,46,47,46,47,48,49,50,50,54,2,12,15,15,16,16,17,18,20,21,21,21,22,22,23,24,24,25,25,27,28,31,32,34,34,35,36,45,47,48,47,46,47,48,47,46,48,48,48,49,10,19,20,22,24,26,31,44,46,48,49,51,50,13,15,15,15,15,16,16,17,18,18,18,19,19,19,19,20,21,25,28,28,30,30,34,33,34,33,35,37,39,41,42,43,44,45,46,47,48,48,51,52,51,51,54,55,53,56,58,55,58,58,11,16,17,17,19,19,19,20,20,20,21,22,22,23,24,24,25,26,32,31,36,38,38,38,39,41,42,43,44,43,45,45,46,46,47,47,47,49,1,1,1,4,4,14,15,16,19,19,19,20,20,22,22,21,23,25,25,26,26,27,25,27,28,27,32,32,35,28,42,44,46,46,46,47,47,47,45,49,49,50,50,50,49,50,53,53,52,54,56,54,47,58,1,1,1,11,13,15,15,15,17,18,21,22,20,23,23,25,26,27,27,29,33,33,35,36,34,37,35,41,42,47,48,50,51,52,50,54,51,54,53,55,55,55,57,53,68,1,5,9,13,13,14,13,14,14,15,15,16,17,17,18,18,21,21,22,23,23,24,24,25,29,28,30,34,34,41,40,39,23,39,43,44,45,43,45,45,46,47,1,1,1,1,11,13,14,14,16,16,17,17,18,19,18,19,18,20,20,21,22,23,25,26,28,28,29,31,33,35,34,36,35,37,39,39,40,37,40,40,41,41,42,42,42,42,43,1,17,18,20,22,23,23,23,23,24,26,26,26,28,31,32,34,35,37,44,44,46,46,48,49,50,54,54,53,54,29,54,55,56,59,1,2,6,13,13,15,16,18,20,22,22,22,23,23,25,26,26,27,28,29,31,32,33,34,34,36,38,41,41,41,42,44,44,44,45,44,4,15,16,17,17,17,18,18,18,18,19,19,19,19,19,19,19,19,19,19,19,23,30,30,30,30,30,30,30,30,30,30,30,30,44,45,46,47,52,54,8,10,11,11,11,11,12,11,12,12,12,12,13,14,14,14,14,16,18,24,24,26,26,25,27,27,28,28,29,28,28,30,36,36,35,37,37,37,40,41,42,42,44,44,45,43,44,45,45,5,8,9,9,9,9,9,9,10,10,10,10,10,10,11,11,12,12,12,13,14,20,20,21,22,23,24,24,25,24,25,26,26,26,26,26,28,27,35,36,36,38,36,38,39,40,40,40,38,40,40,39,41,44,45,48,1,6,7,7,9,9,9,9,9,10,10,10,10,10,11,11,12,13,18,19,20,21,22,23,23,24,24,25,25,25,26,26,26,26,27,24,34,37,37,38,38,38,37,38,39,39,40,40,41,41,43,42,38,43,45,1,7,7,8,8,9,9,9,9,10,10,11,11,12,12,14,14,19,20,21,23,24,24,25,26,25,26,27,28,28,30,29,31,32,32,38,39,40,41,41,42,43,43,42,44,44,46,46,44,48,47,4,8,8,9,9,9,9,9,9,10,10,10,10,10,11,12,16,17,17,18,23,23,25,25,25,24,25,26,26,26,26,27,27,28,29,29,32,40,41,41,42,43,43,43,44,45,45,45,44,46,46,50,3,4,13,18,19,20,21,23,22,24,24,25,26,31,37,42,41,39,42,41,42,43,52,55,55,1,8,9,9,10,10,12,12,12,14,14,15,16,18,18,20,22,23,24,25,26,28,28,27,30,30,29,36,38,38,40,41,42,42,44,44,43,44,44,42,46,44,47,48,1,11,12,13,13,15,17,17,17,17,18,17,19,18,19,20,20,21,22,23,25,26,28,30,30,31,32,33,40,42,44,43,43,44,42,45,47,48,49,49,49,49,53,55,60,1,3,10,11,11,11,11,11,11,11,11,17,24,25,29,34,35,37,38,42,45,46,47,47,48,50,51,54,55,57,11,11,11,11,11,12,12,13,13,13,13,13,14,14,15,15,16,18,20,21,28,29,29,30,30,31,31,31,30,32,31,32,33,33,32,35,35,36,37,42,46,45,47,47,48,49,48,50,51,51,50,52,51,52,50,53,52,54,58,8,9,9,10,11,11,11,11,13,13,14,15,15,15,15,16,16,16,18,23,25,25,25,27,28,28,27,29,30,29,32,35,37,36,36,37,37,37,38,41,41,41,41,41,41,38,41,41,1,9,9,10,10,10,10,10,11,11,11,12,12,13,14,15,16,18,21,22,23,23,27,27,28,28,28,28,29,29,29,29,31,30,34,32,38,39,44,45,45,45,46,46,47,47,47,46,48,48,48,48,46,50,49,57,60,10,10,11,11,11,11,11,11,12,12,12,12,12,12,13,14,14,15,16,16,18,24,28,29,29,30,30,30,31,31,32,31,31,32,31,32,33,33,33,41,46,47,49,50,48,50,51,49,49,51,48,51,51,52,52,50,5,5,7,8,10,11,12,12,13,13,13,13,14,14,15,16,19,24,26,29,31,32,33,33,33,33,33,32,34,33,34,35,36,36,37,42,10,10,10,11,11,11,12,12,12,13,14,14,15,15,15,16,17,18,20,23,23,25,26,25,27,27,28,29,33,33,34,34,35,35,35,36,36,38,38,38,39,38,42,42,44,47,9,9,11,11,11,11,11,12,12,12,12,12,13,14,14,15,15,15,15,16,18,20,24,24,25,26,26,26,26,25,27,28,28,27,32,33,33,34,35,35,36,38,39,38,39,38,39,38,41,41,41,40,4,5,5,5,5,5,6,6,6,6,6,6,7,8,8,8,14,18,20,23,24,24,26,27,27,28,28,28,29,31,33,33,34,41,45,46,47,48,46,49,50,49,50,48,51,53,54,54,55,54,2,4,5,6,7,7,8,8,8,8,10,17,17,17,25,25,29,30,31,32,33,33,36,39,39,39,41,41,42,42,45,46,1,1,1,3,9,12,10,13,13,14,15,16,17,17,17,19,19,22,22,22,26,28,33,31,34,34,35,35,35,36,38,38,40,40,43,48,1,7,8,19,19,19,19,19,19,19,19,19,19,20,27,27,33,35,42,45,48,52,11,13,13,14,15,15,16,16,17,17,18,18,18,18,18,20,20,21,21,22,26,27,28,30,30,31,31,32,33,34,37,37,39,38,40,40,43,44,45,45,45,47,48,47,49,49,50,1,1,1,4,14,14,16,16,17,17,18,18,18,19,19,20,22,25,28,29,30,32,35,36,37,38,41,41,42,43,44,44,44,44,48,49,50,50,53,2,3,13,14,14,15,15,15,17,18,20,20,21,22,23,23,23,24,30,37,37,38,39,42,42,43,45,45,47,47,49,49,50,50,54,14,21,22,22,23,24,25,25,27,27,29,30,30,31,33,43,48,49,49,53,54,56,56,55,57,59,60,61,1,2,2,4,11,13,14,15,16,18,19,19,20,21,23,24,26,29,33,39,40,42,43,44,45,46,45,46,48,47,52,55,14,14,14,15,15,15,15,16,16,16,16,16,17,18,18,18,20,21,24,26,27,31,36,36,37,36,37,37,38,38,37,40,41,40,42,41,41,43,43,43,44,53,11,14,15,15,16,16,16,16,16,17,17,17,17,18,18,19,19,20,21,22,29,30,31,31,32,32,34,34,34,35,35,36,37,40,42,42,43,45,45,47,48,46,48,48,50,48,51,52,52,53,61,64,6,6,6,6,7,12,12,12,12,12,12,12,12,12,12,12,12,12,12,13,19,21,25,28,29,30,30,31,35,35,35,36,36,38,38,38,39,39,39,40,41,42,44,45,47,47,1,1,1,2,11,14,15,16,17,17,17,18,18,20,21,23,24,32,33,33,34,34,32,38,38,39,42,43,44,43,49,50,50,51,49,63,12,12,13,13,13,14,15,15,15,16,16,15,17,17,17,18,18,19,22,30,29,30,31,32,33,32,34,34,35,34,39,43,43,49,50,50,51,51,49,52,52,53,50,52,1,1,11,11,13,13,13,13,13,14,15,15,15,16,16,19,27,26,29,31,31,32,32,33,32,34,34,34,35,35,35,1,2,5,6,6,6,7,9,9,10,10,11,15,17,17,17,18,17,19,19,20,20,19,21,21,21,19,20,21,21,22,22,20,20,22,22,20,23,25,30,32,32,36,35,38,41,40,42,44,42,43,48,46,46,49,47,51,48,6,9,9,10,10,11,11,11,12,12,12,13,13,14,14,15,15,16,19,21,22,24,24,24,25,26,25,26,32,32,31,33,33,33,34,35,37,38,38,37,39,40,41,41,1,2,7,10,2,11,13,21,32,35,37,38,37,38,37,40,1,2,2,7,8,9,19,19,19,19,21,21,21,23,22,23,24,25,26,27,29,29,31,31,29,35,36,39,40,38,39,40,39,43,1,1,1,12,23,24,24,25,27,33,38,39,41,42,42,43,44,42,44,44,45,46,46,45,48,56,63,5,16,17,19,22,22,23,23,24,25,26,27,29,30,31,31,30,32,32,34,37,39,40,41,42,43,46,46,45,47,48,48,49,3,23,23,23,24,24,24,24,24,25,26,26,26,26,27,29,29,38,40,42,42,43,43,44,44,44,45,45,46,45,47,23,24,24,23,28,28,28,29,29,29,29,30,32,32,32,33,45,47,51,53,61,62,6,21,26,28,29,32,37,40,40,41,42,42,43,44,44,44,46,47,48,50,51,52,60,62,63,65,1,14,14,15,16,25,26,26,30,31,36,37,37,38,39,40,40,41,41,42,42,44,44,45,45,44,46,48,49,49,51,51,54,1,1,7,19,20,21,21,22,21,22,23,24,23,25,29,30,30,31,31,32,33,35,36,39,41,42,41,43,42,44,45,44,44,12,12,13,13,13,13,13,13,13,13,13,13,13,13,13,13,14,14,15,23,24,25,25,26,27,27,28,28,28,30,31,30,33,33,35,36,36,37,37,38,37,39,39,40,40,40,40,43,1,7,10,20,20,20,21,21,20,22,24,24,24,24,25,26,27,27,28,28,35,39,43,43,44,44,44,43,45,46,48,47,48,49,49,54,56,59,59,16,20,21,22,23,24,24,25,25,26,26,26,27,28,29,29,30,33,37,42,43,44,44,46,45,45,47,48,47,49,49,63,22,24,26,26,27,28,29,30,31,31,31,32,32,33,33,34,35,49,49,50,51,51,51,53,54,52,54,54,55,56,55,55,58,61,1,12,18,19,19,22,24,28,28,28,30,30,33,34,35,37,36,37,37,41,2,21,25,26,26,27,28,28,29,30,30,32,37,40,42,41,43,43,43,49,48,50,49,49,50,51,51,6,7,15,16,18,19,19,20,20,21,21,21,22,22,22,24,25,32,34,35,35,36,37,38,37,38,39,40,39,41,14,18,26,32,32,33,35,36,36,37,37,37,38,39,39,40,41,41,50,50,2,3,3,3,3,3,4,4,4,4,4,4,4,4,4,4,18,18,18,20,21,21,22,23,23,23,23,24,25,30,28,31,34,38,39,40,41,40,43,3,6,12,24,25,25,28,28,37,38,38,40,42,42,43,44,44,41,44,44,45,39,45,45,45,44,46,45,42,46,46,47,48,19,20,21,21,21,21,23,24,25,25,26,27,27,28,29,29,29,31,32,32,39,41,40,43,44,45,46,45,46,47,46,47,48,1,1,16,17,18,19,21,21,23,23,23,23,23,24,24,24,24,25,27,28,38,39,39,40,39,41,41,40,43,41,41,43,44,44,45,47,48,50,50,23,36,39,44,43,44,45,46,46,47,48,50,3,12,13,14,15,42,43,44,47,49,51,55,56,60,60,58,65,69,7,9,9,21,23,30,33,36,36,37,38,39,41,42,46,47,47,49,51,52,12,21,23,23,25,26,28,28,29,29,30,32,33,33,37,38,39,42,42,43,44,43,44,46,46,50,50,49,52,15,19,20,21,21,22,23,24,24,25,25,25,25,26,26,27,28,30,32,36,36,40,42,44,45,43,44,44,45,45,46,47,47,48,48,50,51,50,54,20,21,21,22,22,23,23,24,24,25,30,30,32,34,35,35,39,39,39,40,39,41,41,41,41,42,42,42,45,6,7,12,12,13,16,16,20,22,23,24,24,24,25,25,26,27,27,27,28,31,32,6,18,20,21,24,26,27,27,28,26,27,29,30,30,31,30,32,32,38,45,46,48,49,49,51,52,52,53,54,52,53,53,53,52,56,57,71,1,17,18,18,19,22,22,27,28,28,27,30,32,32,32,33,33,35,36,40,41,2,24,27,26,27,35,36,36,37,37,37,39,39,38,41,42,43,43,44,44,46,48,50,50,52,3,15,16,16,16,17,18,18,19,19,19,20,21,21,21,21,23,22,23,23,24,26,29,29,32,33,33,33,34,35,36,35,34,35,36,38,37,38,38,37,39,39,38,41,41,41,1,7,9,11,19,21,23,30,30,30,33,35,35,36,36,36,37,37,38,40,40,41,46,20,22,27,28,35,37,38,41,43,44,44,45,51,51,56,11,19,21,21,23,23,23,25,25,26,26,27,27,28,28,29,29,32,38,40,39,42,43,44,42,44,44,44,44,45,46,46,48,14,15,18,21,23,23,23,24,24,24,25,26,26,27,28,31,33,33,35,35,37,38,38,39,40,42,42,43,44,46,46,47,47,17,17,17,18,18,19,21,21,22,22,23,24,23,24,24,25,26,26,27,37,38,39,40,40,39,40,40,41,41,40,41,41,42,42,44,45,45,47,50,54,59,60,12,13,13,13,14,14,14,14,14,15,15,15,15,15,16,16,16,16,17,33,33,35,39,39,40,41,41,43,45,45,44,45,48,49,49,51,27,36,40,41,45,45,49,50,51,53,53,53,54,56,1,14,20,24,34,34,36,38,39,40,40,40,41,42,42,42,43,43,43,44,44,44,44,42,44,45,45,44,45,45,45,45,45,45,45,45,46,68,18,18,19,19,20,21,21,22,22,22,23,23,23,23,23,24,24,24,25,25,27,39,40,40,42,43,43,43,43,44,43,46,45,45,46,46,47,47,59,60,68,1,2,8,9,17,17,24,34,38,39,42,42,43,43,44,45,45,46,39,47,40,49,49,43,59,17,18,21,21,23,24,24,25,25,25,25,25,25,25,26,26,26,26,26,27,27,30,33,34,35,35,35,35,35,35,35,35,36,37,38,1,1,9,10,15,22,24,25,27,26,26,27,28,28,28,29,29,29,30,31,31,32,32,32,36,43,45,46,45,47,47,48,50,50,50,51,50,50,53,52,54,53,55,56,67,1,1,1,7,23,29,29,29,32,33,36,37,39,42,42,43,43,2,2,4,5,6,6,6,7,7,7,7,7,7,8,8,8,8,8,9,12,12,14,14,16,27,36,39,40,41,41,42,43,45,47,49,49,49,50,50,51,53,53,58,13,15,16,16,18,18,18,18,19,19,19,19,19,19,20,20,22,22,23,24,28,29,34,34,35,35,34,36,37,36,37,38,38,39,38,40,39,40,1,5,6,10,16,16,17,19,20,22,23,24,25,27,28,28,28,29,32,35,35,35,36,37,38,38,39,39,40,41,45],\"yaxis\":\"y\",\"ybingroup\":\"y\",\"type\":\"histogram2dcontour\"}],                        {\"template\":{\"data\":{\"histogram2dcontour\":[{\"type\":\"histogram2dcontour\",\"colorbar\":{\"outlinewidth\":0,\"ticks\":\"\"},\"colorscale\":[[0.0,\"#0d0887\"],[0.1111111111111111,\"#46039f\"],[0.2222222222222222,\"#7201a8\"],[0.3333333333333333,\"#9c179e\"],[0.4444444444444444,\"#bd3786\"],[0.5555555555555556,\"#d8576b\"],[0.6666666666666666,\"#ed7953\"],[0.7777777777777778,\"#fb9f3a\"],[0.8888888888888888,\"#fdca26\"],[1.0,\"#f0f921\"]]}],\"choropleth\":[{\"type\":\"choropleth\",\"colorbar\":{\"outlinewidth\":0,\"ticks\":\"\"}}],\"histogram2d\":[{\"type\":\"histogram2d\",\"colorbar\":{\"outlinewidth\":0,\"ticks\":\"\"},\"colorscale\":[[0.0,\"#0d0887\"],[0.1111111111111111,\"#46039f\"],[0.2222222222222222,\"#7201a8\"],[0.3333333333333333,\"#9c179e\"],[0.4444444444444444,\"#bd3786\"],[0.5555555555555556,\"#d8576b\"],[0.6666666666666666,\"#ed7953\"],[0.7777777777777778,\"#fb9f3a\"],[0.8888888888888888,\"#fdca26\"],[1.0,\"#f0f921\"]]}],\"heatmap\":[{\"type\":\"heatmap\",\"colorbar\":{\"outlinewidth\":0,\"ticks\":\"\"},\"colorscale\":[[0.0,\"#0d0887\"],[0.1111111111111111,\"#46039f\"],[0.2222222222222222,\"#7201a8\"],[0.3333333333333333,\"#9c179e\"],[0.4444444444444444,\"#bd3786\"],[0.5555555555555556,\"#d8576b\"],[0.6666666666666666,\"#ed7953\"],[0.7777777777777778,\"#fb9f3a\"],[0.8888888888888888,\"#fdca26\"],[1.0,\"#f0f921\"]]}],\"heatmapgl\":[{\"type\":\"heatmapgl\",\"colorbar\":{\"outlinewidth\":0,\"ticks\":\"\"},\"colorscale\":[[0.0,\"#0d0887\"],[0.1111111111111111,\"#46039f\"],[0.2222222222222222,\"#7201a8\"],[0.3333333333333333,\"#9c179e\"],[0.4444444444444444,\"#bd3786\"],[0.5555555555555556,\"#d8576b\"],[0.6666666666666666,\"#ed7953\"],[0.7777777777777778,\"#fb9f3a\"],[0.8888888888888888,\"#fdca26\"],[1.0,\"#f0f921\"]]}],\"contourcarpet\":[{\"type\":\"contourcarpet\",\"colorbar\":{\"outlinewidth\":0,\"ticks\":\"\"}}],\"contour\":[{\"type\":\"contour\",\"colorbar\":{\"outlinewidth\":0,\"ticks\":\"\"},\"colorscale\":[[0.0,\"#0d0887\"],[0.1111111111111111,\"#46039f\"],[0.2222222222222222,\"#7201a8\"],[0.3333333333333333,\"#9c179e\"],[0.4444444444444444,\"#bd3786\"],[0.5555555555555556,\"#d8576b\"],[0.6666666666666666,\"#ed7953\"],[0.7777777777777778,\"#fb9f3a\"],[0.8888888888888888,\"#fdca26\"],[1.0,\"#f0f921\"]]}],\"surface\":[{\"type\":\"surface\",\"colorbar\":{\"outlinewidth\":0,\"ticks\":\"\"},\"colorscale\":[[0.0,\"#0d0887\"],[0.1111111111111111,\"#46039f\"],[0.2222222222222222,\"#7201a8\"],[0.3333333333333333,\"#9c179e\"],[0.4444444444444444,\"#bd3786\"],[0.5555555555555556,\"#d8576b\"],[0.6666666666666666,\"#ed7953\"],[0.7777777777777778,\"#fb9f3a\"],[0.8888888888888888,\"#fdca26\"],[1.0,\"#f0f921\"]]}],\"mesh3d\":[{\"type\":\"mesh3d\",\"colorbar\":{\"outlinewidth\":0,\"ticks\":\"\"}}],\"scatter\":[{\"fillpattern\":{\"fillmode\":\"overlay\",\"size\":10,\"solidity\":0.2},\"type\":\"scatter\"}],\"parcoords\":[{\"type\":\"parcoords\",\"line\":{\"colorbar\":{\"outlinewidth\":0,\"ticks\":\"\"}}}],\"scatterpolargl\":[{\"type\":\"scatterpolargl\",\"marker\":{\"colorbar\":{\"outlinewidth\":0,\"ticks\":\"\"}}}],\"bar\":[{\"error_x\":{\"color\":\"#2a3f5f\"},\"error_y\":{\"color\":\"#2a3f5f\"},\"marker\":{\"line\":{\"color\":\"#E5ECF6\",\"width\":0.5},\"pattern\":{\"fillmode\":\"overlay\",\"size\":10,\"solidity\":0.2}},\"type\":\"bar\"}],\"scattergeo\":[{\"type\":\"scattergeo\",\"marker\":{\"colorbar\":{\"outlinewidth\":0,\"ticks\":\"\"}}}],\"scatterpolar\":[{\"type\":\"scatterpolar\",\"marker\":{\"colorbar\":{\"outlinewidth\":0,\"ticks\":\"\"}}}],\"histogram\":[{\"marker\":{\"pattern\":{\"fillmode\":\"overlay\",\"size\":10,\"solidity\":0.2}},\"type\":\"histogram\"}],\"scattergl\":[{\"type\":\"scattergl\",\"marker\":{\"colorbar\":{\"outlinewidth\":0,\"ticks\":\"\"}}}],\"scatter3d\":[{\"type\":\"scatter3d\",\"line\":{\"colorbar\":{\"outlinewidth\":0,\"ticks\":\"\"}},\"marker\":{\"colorbar\":{\"outlinewidth\":0,\"ticks\":\"\"}}}],\"scattermapbox\":[{\"type\":\"scattermapbox\",\"marker\":{\"colorbar\":{\"outlinewidth\":0,\"ticks\":\"\"}}}],\"scatterternary\":[{\"type\":\"scatterternary\",\"marker\":{\"colorbar\":{\"outlinewidth\":0,\"ticks\":\"\"}}}],\"scattercarpet\":[{\"type\":\"scattercarpet\",\"marker\":{\"colorbar\":{\"outlinewidth\":0,\"ticks\":\"\"}}}],\"carpet\":[{\"aaxis\":{\"endlinecolor\":\"#2a3f5f\",\"gridcolor\":\"white\",\"linecolor\":\"white\",\"minorgridcolor\":\"white\",\"startlinecolor\":\"#2a3f5f\"},\"baxis\":{\"endlinecolor\":\"#2a3f5f\",\"gridcolor\":\"white\",\"linecolor\":\"white\",\"minorgridcolor\":\"white\",\"startlinecolor\":\"#2a3f5f\"},\"type\":\"carpet\"}],\"table\":[{\"cells\":{\"fill\":{\"color\":\"#EBF0F8\"},\"line\":{\"color\":\"white\"}},\"header\":{\"fill\":{\"color\":\"#C8D4E3\"},\"line\":{\"color\":\"white\"}},\"type\":\"table\"}],\"barpolar\":[{\"marker\":{\"line\":{\"color\":\"#E5ECF6\",\"width\":0.5},\"pattern\":{\"fillmode\":\"overlay\",\"size\":10,\"solidity\":0.2}},\"type\":\"barpolar\"}],\"pie\":[{\"automargin\":true,\"type\":\"pie\"}]},\"layout\":{\"autotypenumbers\":\"strict\",\"colorway\":[\"#636efa\",\"#EF553B\",\"#00cc96\",\"#ab63fa\",\"#FFA15A\",\"#19d3f3\",\"#FF6692\",\"#B6E880\",\"#FF97FF\",\"#FECB52\"],\"font\":{\"color\":\"#2a3f5f\"},\"hovermode\":\"closest\",\"hoverlabel\":{\"align\":\"left\"},\"paper_bgcolor\":\"white\",\"plot_bgcolor\":\"#E5ECF6\",\"polar\":{\"bgcolor\":\"#E5ECF6\",\"angularaxis\":{\"gridcolor\":\"white\",\"linecolor\":\"white\",\"ticks\":\"\"},\"radialaxis\":{\"gridcolor\":\"white\",\"linecolor\":\"white\",\"ticks\":\"\"}},\"ternary\":{\"bgcolor\":\"#E5ECF6\",\"aaxis\":{\"gridcolor\":\"white\",\"linecolor\":\"white\",\"ticks\":\"\"},\"baxis\":{\"gridcolor\":\"white\",\"linecolor\":\"white\",\"ticks\":\"\"},\"caxis\":{\"gridcolor\":\"white\",\"linecolor\":\"white\",\"ticks\":\"\"}},\"coloraxis\":{\"colorbar\":{\"outlinewidth\":0,\"ticks\":\"\"}},\"colorscale\":{\"sequential\":[[0.0,\"#0d0887\"],[0.1111111111111111,\"#46039f\"],[0.2222222222222222,\"#7201a8\"],[0.3333333333333333,\"#9c179e\"],[0.4444444444444444,\"#bd3786\"],[0.5555555555555556,\"#d8576b\"],[0.6666666666666666,\"#ed7953\"],[0.7777777777777778,\"#fb9f3a\"],[0.8888888888888888,\"#fdca26\"],[1.0,\"#f0f921\"]],\"sequentialminus\":[[0.0,\"#0d0887\"],[0.1111111111111111,\"#46039f\"],[0.2222222222222222,\"#7201a8\"],[0.3333333333333333,\"#9c179e\"],[0.4444444444444444,\"#bd3786\"],[0.5555555555555556,\"#d8576b\"],[0.6666666666666666,\"#ed7953\"],[0.7777777777777778,\"#fb9f3a\"],[0.8888888888888888,\"#fdca26\"],[1.0,\"#f0f921\"]],\"diverging\":[[0,\"#8e0152\"],[0.1,\"#c51b7d\"],[0.2,\"#de77ae\"],[0.3,\"#f1b6da\"],[0.4,\"#fde0ef\"],[0.5,\"#f7f7f7\"],[0.6,\"#e6f5d0\"],[0.7,\"#b8e186\"],[0.8,\"#7fbc41\"],[0.9,\"#4d9221\"],[1,\"#276419\"]]},\"xaxis\":{\"gridcolor\":\"white\",\"linecolor\":\"white\",\"ticks\":\"\",\"title\":{\"standoff\":15},\"zerolinecolor\":\"white\",\"automargin\":true,\"zerolinewidth\":2},\"yaxis\":{\"gridcolor\":\"white\",\"linecolor\":\"white\",\"ticks\":\"\",\"title\":{\"standoff\":15},\"zerolinecolor\":\"white\",\"automargin\":true,\"zerolinewidth\":2},\"scene\":{\"xaxis\":{\"backgroundcolor\":\"#E5ECF6\",\"gridcolor\":\"white\",\"linecolor\":\"white\",\"showbackground\":true,\"ticks\":\"\",\"zerolinecolor\":\"white\",\"gridwidth\":2},\"yaxis\":{\"backgroundcolor\":\"#E5ECF6\",\"gridcolor\":\"white\",\"linecolor\":\"white\",\"showbackground\":true,\"ticks\":\"\",\"zerolinecolor\":\"white\",\"gridwidth\":2},\"zaxis\":{\"backgroundcolor\":\"#E5ECF6\",\"gridcolor\":\"white\",\"linecolor\":\"white\",\"showbackground\":true,\"ticks\":\"\",\"zerolinecolor\":\"white\",\"gridwidth\":2}},\"shapedefaults\":{\"line\":{\"color\":\"#2a3f5f\"}},\"annotationdefaults\":{\"arrowcolor\":\"#2a3f5f\",\"arrowhead\":0,\"arrowwidth\":1},\"geo\":{\"bgcolor\":\"white\",\"landcolor\":\"#E5ECF6\",\"subunitcolor\":\"white\",\"showland\":true,\"showlakes\":true,\"lakecolor\":\"white\"},\"title\":{\"x\":0.05},\"mapbox\":{\"style\":\"light\"}}},\"xaxis\":{\"anchor\":\"y\",\"domain\":[0.0,1.0],\"title\":{\"text\":\"Pit_Time\"}},\"yaxis\":{\"anchor\":\"x\",\"domain\":[0.0,1.0],\"title\":{\"text\":\"Lap_Pitted\"}},\"legend\":{\"tracegroupgap\":0},\"title\":{\"text\":\"Densidade de Contorno: Volta do pitstop vs Tempo do pitstop\"}},                        {\"responsive\": true}                    ).then(function(){\n",
              "                            \n",
              "var gd = document.getElementById('21b6c8b0-f67d-4656-8ca1-d13c23013d21');\n",
              "var x = new MutationObserver(function (mutations, observer) {{\n",
              "        var display = window.getComputedStyle(gd).display;\n",
              "        if (!display || display === 'none') {{\n",
              "            console.log([gd, 'removed!']);\n",
              "            Plotly.purge(gd);\n",
              "            observer.disconnect();\n",
              "        }}\n",
              "}});\n",
              "\n",
              "// Listen for the removal of the full notebook cells\n",
              "var notebookContainer = gd.closest('#notebook-container');\n",
              "if (notebookContainer) {{\n",
              "    x.observe(notebookContainer, {childList: true});\n",
              "}}\n",
              "\n",
              "// Listen for the clearing of the current output cell\n",
              "var outputEl = gd.closest('.output');\n",
              "if (outputEl) {{\n",
              "    x.observe(outputEl, {childList: true});\n",
              "}}\n",
              "\n",
              "                        })                };                            </script>        </div>\n",
              "</body>\n",
              "</html>"
            ]
          },
          "metadata": {}
        }
      ]
    }
  ]
}